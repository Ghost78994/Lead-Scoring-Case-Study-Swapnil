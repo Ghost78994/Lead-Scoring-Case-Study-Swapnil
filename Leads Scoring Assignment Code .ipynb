{
 "cells": [
  {
   "cell_type": "code",
   "execution_count": 332,
   "id": "cf9c439d",
   "metadata": {},
   "outputs": [],
   "source": [
    "import pandas as pd\n",
    "import numpy as np\n",
    "import seaborn as sns\n",
    "import matplotlib.pyplot as plt\n",
    "\n",
    "import statsmodels.api as sm\n",
    "from statsmodels.stats.outliers_influence import variance_inflation_factor\n",
    "\n",
    "import sklearn\n",
    "from sklearn.preprocessing import MinMaxScaler\n",
    "from sklearn.preprocessing import StandardScaler\n",
    "from sklearn.model_selection import train_test_split\n",
    "from sklearn.linear_model import LogisticRegression\n",
    "from sklearn.feature_selection import RFE\n",
    "from sklearn.metrics import confusion_matrix\n",
    "from sklearn.metrics import roc_curve\n",
    "from sklearn.metrics import roc_auc_score\n",
    "from sklearn.metrics import accuracy_score, classification_report\n",
    "from sklearn.metrics import precision_score, recall_score\n",
    "from sklearn.metrics import precision_recall_curve\n",
    "from sklearn.multiclass import OneVsRestClassifier, OneVsOneClassifier\n",
    "from sklearn.svm import SVC\n",
    "\n",
    "import warnings\n",
    "warnings.filterwarnings('ignore')\n",
    "\n",
    "%matplotlib inline\n",
    "\n",
    "pd.set_option('display.max_rows', 100)\n",
    "pd.set_option('display.max_columns', 100)"
   ]
  },
  {
   "cell_type": "code",
   "execution_count": 333,
   "id": "aa7f989f",
   "metadata": {},
   "outputs": [
    {
     "data": {
      "text/html": [
       "<div>\n",
       "<style scoped>\n",
       "    .dataframe tbody tr th:only-of-type {\n",
       "        vertical-align: middle;\n",
       "    }\n",
       "\n",
       "    .dataframe tbody tr th {\n",
       "        vertical-align: top;\n",
       "    }\n",
       "\n",
       "    .dataframe thead th {\n",
       "        text-align: right;\n",
       "    }\n",
       "</style>\n",
       "<table border=\"1\" class=\"dataframe\">\n",
       "  <thead>\n",
       "    <tr style=\"text-align: right;\">\n",
       "      <th></th>\n",
       "      <th>Prospect ID</th>\n",
       "      <th>Lead Number</th>\n",
       "      <th>Lead Origin</th>\n",
       "      <th>Lead Source</th>\n",
       "      <th>Do Not Email</th>\n",
       "      <th>Do Not Call</th>\n",
       "      <th>Converted</th>\n",
       "      <th>TotalVisits</th>\n",
       "      <th>Total Time Spent on Website</th>\n",
       "      <th>Page Views Per Visit</th>\n",
       "      <th>Last Activity</th>\n",
       "      <th>Country</th>\n",
       "      <th>Specialization</th>\n",
       "      <th>How did you hear about X Education</th>\n",
       "      <th>What is your current occupation</th>\n",
       "      <th>What matters most to you in choosing a course</th>\n",
       "      <th>Search</th>\n",
       "      <th>Magazine</th>\n",
       "      <th>Newspaper Article</th>\n",
       "      <th>X Education Forums</th>\n",
       "      <th>Newspaper</th>\n",
       "      <th>Digital Advertisement</th>\n",
       "      <th>Through Recommendations</th>\n",
       "      <th>Receive More Updates About Our Courses</th>\n",
       "      <th>Tags</th>\n",
       "      <th>Lead Quality</th>\n",
       "      <th>Update me on Supply Chain Content</th>\n",
       "      <th>Get updates on DM Content</th>\n",
       "      <th>Lead Profile</th>\n",
       "      <th>City</th>\n",
       "      <th>Asymmetrique Activity Index</th>\n",
       "      <th>Asymmetrique Profile Index</th>\n",
       "      <th>Asymmetrique Activity Score</th>\n",
       "      <th>Asymmetrique Profile Score</th>\n",
       "      <th>I agree to pay the amount through cheque</th>\n",
       "      <th>A free copy of Mastering The Interview</th>\n",
       "      <th>Last Notable Activity</th>\n",
       "    </tr>\n",
       "  </thead>\n",
       "  <tbody>\n",
       "    <tr>\n",
       "      <th>0</th>\n",
       "      <td>7927b2df-8bba-4d29-b9a2-b6e0beafe620</td>\n",
       "      <td>660737</td>\n",
       "      <td>API</td>\n",
       "      <td>Olark Chat</td>\n",
       "      <td>No</td>\n",
       "      <td>No</td>\n",
       "      <td>0</td>\n",
       "      <td>0.0</td>\n",
       "      <td>0</td>\n",
       "      <td>0.0</td>\n",
       "      <td>Page Visited on Website</td>\n",
       "      <td>NaN</td>\n",
       "      <td>Select</td>\n",
       "      <td>Select</td>\n",
       "      <td>Unemployed</td>\n",
       "      <td>Better Career Prospects</td>\n",
       "      <td>No</td>\n",
       "      <td>No</td>\n",
       "      <td>No</td>\n",
       "      <td>No</td>\n",
       "      <td>No</td>\n",
       "      <td>No</td>\n",
       "      <td>No</td>\n",
       "      <td>No</td>\n",
       "      <td>Interested in other courses</td>\n",
       "      <td>Low in Relevance</td>\n",
       "      <td>No</td>\n",
       "      <td>No</td>\n",
       "      <td>Select</td>\n",
       "      <td>Select</td>\n",
       "      <td>02.Medium</td>\n",
       "      <td>02.Medium</td>\n",
       "      <td>15.0</td>\n",
       "      <td>15.0</td>\n",
       "      <td>No</td>\n",
       "      <td>No</td>\n",
       "      <td>Modified</td>\n",
       "    </tr>\n",
       "    <tr>\n",
       "      <th>1</th>\n",
       "      <td>2a272436-5132-4136-86fa-dcc88c88f482</td>\n",
       "      <td>660728</td>\n",
       "      <td>API</td>\n",
       "      <td>Organic Search</td>\n",
       "      <td>No</td>\n",
       "      <td>No</td>\n",
       "      <td>0</td>\n",
       "      <td>5.0</td>\n",
       "      <td>674</td>\n",
       "      <td>2.5</td>\n",
       "      <td>Email Opened</td>\n",
       "      <td>India</td>\n",
       "      <td>Select</td>\n",
       "      <td>Select</td>\n",
       "      <td>Unemployed</td>\n",
       "      <td>Better Career Prospects</td>\n",
       "      <td>No</td>\n",
       "      <td>No</td>\n",
       "      <td>No</td>\n",
       "      <td>No</td>\n",
       "      <td>No</td>\n",
       "      <td>No</td>\n",
       "      <td>No</td>\n",
       "      <td>No</td>\n",
       "      <td>Ringing</td>\n",
       "      <td>NaN</td>\n",
       "      <td>No</td>\n",
       "      <td>No</td>\n",
       "      <td>Select</td>\n",
       "      <td>Select</td>\n",
       "      <td>02.Medium</td>\n",
       "      <td>02.Medium</td>\n",
       "      <td>15.0</td>\n",
       "      <td>15.0</td>\n",
       "      <td>No</td>\n",
       "      <td>No</td>\n",
       "      <td>Email Opened</td>\n",
       "    </tr>\n",
       "    <tr>\n",
       "      <th>2</th>\n",
       "      <td>8cc8c611-a219-4f35-ad23-fdfd2656bd8a</td>\n",
       "      <td>660727</td>\n",
       "      <td>Landing Page Submission</td>\n",
       "      <td>Direct Traffic</td>\n",
       "      <td>No</td>\n",
       "      <td>No</td>\n",
       "      <td>1</td>\n",
       "      <td>2.0</td>\n",
       "      <td>1532</td>\n",
       "      <td>2.0</td>\n",
       "      <td>Email Opened</td>\n",
       "      <td>India</td>\n",
       "      <td>Business Administration</td>\n",
       "      <td>Select</td>\n",
       "      <td>Student</td>\n",
       "      <td>Better Career Prospects</td>\n",
       "      <td>No</td>\n",
       "      <td>No</td>\n",
       "      <td>No</td>\n",
       "      <td>No</td>\n",
       "      <td>No</td>\n",
       "      <td>No</td>\n",
       "      <td>No</td>\n",
       "      <td>No</td>\n",
       "      <td>Will revert after reading the email</td>\n",
       "      <td>Might be</td>\n",
       "      <td>No</td>\n",
       "      <td>No</td>\n",
       "      <td>Potential Lead</td>\n",
       "      <td>Mumbai</td>\n",
       "      <td>02.Medium</td>\n",
       "      <td>01.High</td>\n",
       "      <td>14.0</td>\n",
       "      <td>20.0</td>\n",
       "      <td>No</td>\n",
       "      <td>Yes</td>\n",
       "      <td>Email Opened</td>\n",
       "    </tr>\n",
       "    <tr>\n",
       "      <th>3</th>\n",
       "      <td>0cc2df48-7cf4-4e39-9de9-19797f9b38cc</td>\n",
       "      <td>660719</td>\n",
       "      <td>Landing Page Submission</td>\n",
       "      <td>Direct Traffic</td>\n",
       "      <td>No</td>\n",
       "      <td>No</td>\n",
       "      <td>0</td>\n",
       "      <td>1.0</td>\n",
       "      <td>305</td>\n",
       "      <td>1.0</td>\n",
       "      <td>Unreachable</td>\n",
       "      <td>India</td>\n",
       "      <td>Media and Advertising</td>\n",
       "      <td>Word Of Mouth</td>\n",
       "      <td>Unemployed</td>\n",
       "      <td>Better Career Prospects</td>\n",
       "      <td>No</td>\n",
       "      <td>No</td>\n",
       "      <td>No</td>\n",
       "      <td>No</td>\n",
       "      <td>No</td>\n",
       "      <td>No</td>\n",
       "      <td>No</td>\n",
       "      <td>No</td>\n",
       "      <td>Ringing</td>\n",
       "      <td>Not Sure</td>\n",
       "      <td>No</td>\n",
       "      <td>No</td>\n",
       "      <td>Select</td>\n",
       "      <td>Mumbai</td>\n",
       "      <td>02.Medium</td>\n",
       "      <td>01.High</td>\n",
       "      <td>13.0</td>\n",
       "      <td>17.0</td>\n",
       "      <td>No</td>\n",
       "      <td>No</td>\n",
       "      <td>Modified</td>\n",
       "    </tr>\n",
       "    <tr>\n",
       "      <th>4</th>\n",
       "      <td>3256f628-e534-4826-9d63-4a8b88782852</td>\n",
       "      <td>660681</td>\n",
       "      <td>Landing Page Submission</td>\n",
       "      <td>Google</td>\n",
       "      <td>No</td>\n",
       "      <td>No</td>\n",
       "      <td>1</td>\n",
       "      <td>2.0</td>\n",
       "      <td>1428</td>\n",
       "      <td>1.0</td>\n",
       "      <td>Converted to Lead</td>\n",
       "      <td>India</td>\n",
       "      <td>Select</td>\n",
       "      <td>Other</td>\n",
       "      <td>Unemployed</td>\n",
       "      <td>Better Career Prospects</td>\n",
       "      <td>No</td>\n",
       "      <td>No</td>\n",
       "      <td>No</td>\n",
       "      <td>No</td>\n",
       "      <td>No</td>\n",
       "      <td>No</td>\n",
       "      <td>No</td>\n",
       "      <td>No</td>\n",
       "      <td>Will revert after reading the email</td>\n",
       "      <td>Might be</td>\n",
       "      <td>No</td>\n",
       "      <td>No</td>\n",
       "      <td>Select</td>\n",
       "      <td>Mumbai</td>\n",
       "      <td>02.Medium</td>\n",
       "      <td>01.High</td>\n",
       "      <td>15.0</td>\n",
       "      <td>18.0</td>\n",
       "      <td>No</td>\n",
       "      <td>No</td>\n",
       "      <td>Modified</td>\n",
       "    </tr>\n",
       "  </tbody>\n",
       "</table>\n",
       "</div>"
      ],
      "text/plain": [
       "                            Prospect ID  Lead Number              Lead Origin  \\\n",
       "0  7927b2df-8bba-4d29-b9a2-b6e0beafe620       660737                      API   \n",
       "1  2a272436-5132-4136-86fa-dcc88c88f482       660728                      API   \n",
       "2  8cc8c611-a219-4f35-ad23-fdfd2656bd8a       660727  Landing Page Submission   \n",
       "3  0cc2df48-7cf4-4e39-9de9-19797f9b38cc       660719  Landing Page Submission   \n",
       "4  3256f628-e534-4826-9d63-4a8b88782852       660681  Landing Page Submission   \n",
       "\n",
       "      Lead Source Do Not Email Do Not Call  Converted  TotalVisits  \\\n",
       "0      Olark Chat           No          No          0          0.0   \n",
       "1  Organic Search           No          No          0          5.0   \n",
       "2  Direct Traffic           No          No          1          2.0   \n",
       "3  Direct Traffic           No          No          0          1.0   \n",
       "4          Google           No          No          1          2.0   \n",
       "\n",
       "   Total Time Spent on Website  Page Views Per Visit            Last Activity  \\\n",
       "0                            0                   0.0  Page Visited on Website   \n",
       "1                          674                   2.5             Email Opened   \n",
       "2                         1532                   2.0             Email Opened   \n",
       "3                          305                   1.0              Unreachable   \n",
       "4                         1428                   1.0        Converted to Lead   \n",
       "\n",
       "  Country           Specialization How did you hear about X Education  \\\n",
       "0     NaN                   Select                             Select   \n",
       "1   India                   Select                             Select   \n",
       "2   India  Business Administration                             Select   \n",
       "3   India    Media and Advertising                      Word Of Mouth   \n",
       "4   India                   Select                              Other   \n",
       "\n",
       "  What is your current occupation  \\\n",
       "0                      Unemployed   \n",
       "1                      Unemployed   \n",
       "2                         Student   \n",
       "3                      Unemployed   \n",
       "4                      Unemployed   \n",
       "\n",
       "  What matters most to you in choosing a course Search Magazine  \\\n",
       "0                       Better Career Prospects     No       No   \n",
       "1                       Better Career Prospects     No       No   \n",
       "2                       Better Career Prospects     No       No   \n",
       "3                       Better Career Prospects     No       No   \n",
       "4                       Better Career Prospects     No       No   \n",
       "\n",
       "  Newspaper Article X Education Forums Newspaper Digital Advertisement  \\\n",
       "0                No                 No        No                    No   \n",
       "1                No                 No        No                    No   \n",
       "2                No                 No        No                    No   \n",
       "3                No                 No        No                    No   \n",
       "4                No                 No        No                    No   \n",
       "\n",
       "  Through Recommendations Receive More Updates About Our Courses  \\\n",
       "0                      No                                     No   \n",
       "1                      No                                     No   \n",
       "2                      No                                     No   \n",
       "3                      No                                     No   \n",
       "4                      No                                     No   \n",
       "\n",
       "                                  Tags      Lead Quality  \\\n",
       "0          Interested in other courses  Low in Relevance   \n",
       "1                              Ringing               NaN   \n",
       "2  Will revert after reading the email          Might be   \n",
       "3                              Ringing          Not Sure   \n",
       "4  Will revert after reading the email          Might be   \n",
       "\n",
       "  Update me on Supply Chain Content Get updates on DM Content    Lead Profile  \\\n",
       "0                                No                        No          Select   \n",
       "1                                No                        No          Select   \n",
       "2                                No                        No  Potential Lead   \n",
       "3                                No                        No          Select   \n",
       "4                                No                        No          Select   \n",
       "\n",
       "     City Asymmetrique Activity Index Asymmetrique Profile Index  \\\n",
       "0  Select                   02.Medium                  02.Medium   \n",
       "1  Select                   02.Medium                  02.Medium   \n",
       "2  Mumbai                   02.Medium                    01.High   \n",
       "3  Mumbai                   02.Medium                    01.High   \n",
       "4  Mumbai                   02.Medium                    01.High   \n",
       "\n",
       "   Asymmetrique Activity Score  Asymmetrique Profile Score  \\\n",
       "0                         15.0                        15.0   \n",
       "1                         15.0                        15.0   \n",
       "2                         14.0                        20.0   \n",
       "3                         13.0                        17.0   \n",
       "4                         15.0                        18.0   \n",
       "\n",
       "  I agree to pay the amount through cheque  \\\n",
       "0                                       No   \n",
       "1                                       No   \n",
       "2                                       No   \n",
       "3                                       No   \n",
       "4                                       No   \n",
       "\n",
       "  A free copy of Mastering The Interview Last Notable Activity  \n",
       "0                                     No              Modified  \n",
       "1                                     No          Email Opened  \n",
       "2                                    Yes          Email Opened  \n",
       "3                                     No              Modified  \n",
       "4                                     No              Modified  "
      ]
     },
     "execution_count": 333,
     "metadata": {},
     "output_type": "execute_result"
    }
   ],
   "source": [
    "Leads_1 = pd.read_csv('Leads.csv')\n",
    "Leads_1.head()"
   ]
  },
  {
   "cell_type": "code",
   "execution_count": 334,
   "id": "4dbba187",
   "metadata": {},
   "outputs": [
    {
     "name": "stdout",
     "output_type": "stream",
     "text": [
      "<class 'pandas.core.frame.DataFrame'>\n",
      "RangeIndex: 9240 entries, 0 to 9239\n",
      "Data columns (total 37 columns):\n",
      " #   Column                                         Non-Null Count  Dtype  \n",
      "---  ------                                         --------------  -----  \n",
      " 0   Prospect ID                                    9240 non-null   object \n",
      " 1   Lead Number                                    9240 non-null   int64  \n",
      " 2   Lead Origin                                    9240 non-null   object \n",
      " 3   Lead Source                                    9204 non-null   object \n",
      " 4   Do Not Email                                   9240 non-null   object \n",
      " 5   Do Not Call                                    9240 non-null   object \n",
      " 6   Converted                                      9240 non-null   int64  \n",
      " 7   TotalVisits                                    9103 non-null   float64\n",
      " 8   Total Time Spent on Website                    9240 non-null   int64  \n",
      " 9   Page Views Per Visit                           9103 non-null   float64\n",
      " 10  Last Activity                                  9137 non-null   object \n",
      " 11  Country                                        6779 non-null   object \n",
      " 12  Specialization                                 7802 non-null   object \n",
      " 13  How did you hear about X Education             7033 non-null   object \n",
      " 14  What is your current occupation                6550 non-null   object \n",
      " 15  What matters most to you in choosing a course  6531 non-null   object \n",
      " 16  Search                                         9240 non-null   object \n",
      " 17  Magazine                                       9240 non-null   object \n",
      " 18  Newspaper Article                              9240 non-null   object \n",
      " 19  X Education Forums                             9240 non-null   object \n",
      " 20  Newspaper                                      9240 non-null   object \n",
      " 21  Digital Advertisement                          9240 non-null   object \n",
      " 22  Through Recommendations                        9240 non-null   object \n",
      " 23  Receive More Updates About Our Courses         9240 non-null   object \n",
      " 24  Tags                                           5887 non-null   object \n",
      " 25  Lead Quality                                   4473 non-null   object \n",
      " 26  Update me on Supply Chain Content              9240 non-null   object \n",
      " 27  Get updates on DM Content                      9240 non-null   object \n",
      " 28  Lead Profile                                   6531 non-null   object \n",
      " 29  City                                           7820 non-null   object \n",
      " 30  Asymmetrique Activity Index                    5022 non-null   object \n",
      " 31  Asymmetrique Profile Index                     5022 non-null   object \n",
      " 32  Asymmetrique Activity Score                    5022 non-null   float64\n",
      " 33  Asymmetrique Profile Score                     5022 non-null   float64\n",
      " 34  I agree to pay the amount through cheque       9240 non-null   object \n",
      " 35  A free copy of Mastering The Interview         9240 non-null   object \n",
      " 36  Last Notable Activity                          9240 non-null   object \n",
      "dtypes: float64(4), int64(3), object(30)\n",
      "memory usage: 2.6+ MB\n"
     ]
    }
   ],
   "source": [
    "# Performing Data Quality Checks :\n",
    "Leads_1.info()"
   ]
  },
  {
   "cell_type": "code",
   "execution_count": 335,
   "id": "d0d6e604",
   "metadata": {},
   "outputs": [
    {
     "data": {
      "text/plain": [
       "(9240, 37)"
      ]
     },
     "execution_count": 335,
     "metadata": {},
     "output_type": "execute_result"
    }
   ],
   "source": [
    "Leads_1.shape"
   ]
  },
  {
   "cell_type": "code",
   "execution_count": 336,
   "id": "aac4b33c",
   "metadata": {},
   "outputs": [
    {
     "data": {
      "text/plain": [
       "0"
      ]
     },
     "execution_count": 336,
     "metadata": {},
     "output_type": "execute_result"
    }
   ],
   "source": [
    "# Duplicate Checks :\n",
    "\n",
    "sum(Leads_1.duplicated(subset = 'Prospect ID'))"
   ]
  },
  {
   "cell_type": "code",
   "execution_count": 337,
   "id": "66505c3d",
   "metadata": {},
   "outputs": [],
   "source": [
    "# From the above we can infer that there are no duplicate values ."
   ]
  },
  {
   "cell_type": "code",
   "execution_count": 338,
   "id": "40b5e42e",
   "metadata": {},
   "outputs": [
    {
     "data": {
      "text/html": [
       "<div>\n",
       "<style scoped>\n",
       "    .dataframe tbody tr th:only-of-type {\n",
       "        vertical-align: middle;\n",
       "    }\n",
       "\n",
       "    .dataframe tbody tr th {\n",
       "        vertical-align: top;\n",
       "    }\n",
       "\n",
       "    .dataframe thead th {\n",
       "        text-align: right;\n",
       "    }\n",
       "</style>\n",
       "<table border=\"1\" class=\"dataframe\">\n",
       "  <thead>\n",
       "    <tr style=\"text-align: right;\">\n",
       "      <th></th>\n",
       "      <th>Lead Number</th>\n",
       "      <th>Converted</th>\n",
       "      <th>TotalVisits</th>\n",
       "      <th>Total Time Spent on Website</th>\n",
       "      <th>Page Views Per Visit</th>\n",
       "      <th>Asymmetrique Activity Score</th>\n",
       "      <th>Asymmetrique Profile Score</th>\n",
       "    </tr>\n",
       "  </thead>\n",
       "  <tbody>\n",
       "    <tr>\n",
       "      <th>count</th>\n",
       "      <td>9240.000000</td>\n",
       "      <td>9240.000000</td>\n",
       "      <td>9103.000000</td>\n",
       "      <td>9240.000000</td>\n",
       "      <td>9103.000000</td>\n",
       "      <td>5022.000000</td>\n",
       "      <td>5022.000000</td>\n",
       "    </tr>\n",
       "    <tr>\n",
       "      <th>mean</th>\n",
       "      <td>617188.435606</td>\n",
       "      <td>0.385390</td>\n",
       "      <td>3.445238</td>\n",
       "      <td>487.698268</td>\n",
       "      <td>2.362820</td>\n",
       "      <td>14.306252</td>\n",
       "      <td>16.344883</td>\n",
       "    </tr>\n",
       "    <tr>\n",
       "      <th>std</th>\n",
       "      <td>23405.995698</td>\n",
       "      <td>0.486714</td>\n",
       "      <td>4.854853</td>\n",
       "      <td>548.021466</td>\n",
       "      <td>2.161418</td>\n",
       "      <td>1.386694</td>\n",
       "      <td>1.811395</td>\n",
       "    </tr>\n",
       "    <tr>\n",
       "      <th>min</th>\n",
       "      <td>579533.000000</td>\n",
       "      <td>0.000000</td>\n",
       "      <td>0.000000</td>\n",
       "      <td>0.000000</td>\n",
       "      <td>0.000000</td>\n",
       "      <td>7.000000</td>\n",
       "      <td>11.000000</td>\n",
       "    </tr>\n",
       "    <tr>\n",
       "      <th>25%</th>\n",
       "      <td>596484.500000</td>\n",
       "      <td>0.000000</td>\n",
       "      <td>1.000000</td>\n",
       "      <td>12.000000</td>\n",
       "      <td>1.000000</td>\n",
       "      <td>14.000000</td>\n",
       "      <td>15.000000</td>\n",
       "    </tr>\n",
       "    <tr>\n",
       "      <th>50%</th>\n",
       "      <td>615479.000000</td>\n",
       "      <td>0.000000</td>\n",
       "      <td>3.000000</td>\n",
       "      <td>248.000000</td>\n",
       "      <td>2.000000</td>\n",
       "      <td>14.000000</td>\n",
       "      <td>16.000000</td>\n",
       "    </tr>\n",
       "    <tr>\n",
       "      <th>75%</th>\n",
       "      <td>637387.250000</td>\n",
       "      <td>1.000000</td>\n",
       "      <td>5.000000</td>\n",
       "      <td>936.000000</td>\n",
       "      <td>3.000000</td>\n",
       "      <td>15.000000</td>\n",
       "      <td>18.000000</td>\n",
       "    </tr>\n",
       "    <tr>\n",
       "      <th>max</th>\n",
       "      <td>660737.000000</td>\n",
       "      <td>1.000000</td>\n",
       "      <td>251.000000</td>\n",
       "      <td>2272.000000</td>\n",
       "      <td>55.000000</td>\n",
       "      <td>18.000000</td>\n",
       "      <td>20.000000</td>\n",
       "    </tr>\n",
       "  </tbody>\n",
       "</table>\n",
       "</div>"
      ],
      "text/plain": [
       "         Lead Number    Converted  TotalVisits  Total Time Spent on Website  \\\n",
       "count    9240.000000  9240.000000  9103.000000                  9240.000000   \n",
       "mean   617188.435606     0.385390     3.445238                   487.698268   \n",
       "std     23405.995698     0.486714     4.854853                   548.021466   \n",
       "min    579533.000000     0.000000     0.000000                     0.000000   \n",
       "25%    596484.500000     0.000000     1.000000                    12.000000   \n",
       "50%    615479.000000     0.000000     3.000000                   248.000000   \n",
       "75%    637387.250000     1.000000     5.000000                   936.000000   \n",
       "max    660737.000000     1.000000   251.000000                  2272.000000   \n",
       "\n",
       "       Page Views Per Visit  Asymmetrique Activity Score  \\\n",
       "count           9103.000000                  5022.000000   \n",
       "mean               2.362820                    14.306252   \n",
       "std                2.161418                     1.386694   \n",
       "min                0.000000                     7.000000   \n",
       "25%                1.000000                    14.000000   \n",
       "50%                2.000000                    14.000000   \n",
       "75%                3.000000                    15.000000   \n",
       "max               55.000000                    18.000000   \n",
       "\n",
       "       Asymmetrique Profile Score  \n",
       "count                 5022.000000  \n",
       "mean                    16.344883  \n",
       "std                      1.811395  \n",
       "min                     11.000000  \n",
       "25%                     15.000000  \n",
       "50%                     16.000000  \n",
       "75%                     18.000000  \n",
       "max                     20.000000  "
      ]
     },
     "execution_count": 338,
     "metadata": {},
     "output_type": "execute_result"
    }
   ],
   "source": [
    "Leads_1.describe()"
   ]
  },
  {
   "cell_type": "code",
   "execution_count": 339,
   "id": "2897578a",
   "metadata": {},
   "outputs": [],
   "source": [
    "# Let's Move to the Data Cleaning :\n",
    "# Converting the Data which contains \"Select Values\"  to NaN"
   ]
  },
  {
   "cell_type": "code",
   "execution_count": 340,
   "id": "a5acad73",
   "metadata": {},
   "outputs": [],
   "source": [
    "Leads_1 = Leads_1.replace('Select', np.nan)"
   ]
  },
  {
   "cell_type": "code",
   "execution_count": 341,
   "id": "46b22263",
   "metadata": {},
   "outputs": [
    {
     "data": {
      "text/plain": [
       "How did you hear about X Education               78.46\n",
       "Lead Profile                                     74.19\n",
       "Lead Quality                                     51.59\n",
       "Asymmetrique Profile Score                       45.65\n",
       "Asymmetrique Activity Score                      45.65\n",
       "Asymmetrique Activity Index                      45.65\n",
       "Asymmetrique Profile Index                       45.65\n",
       "City                                             39.71\n",
       "Specialization                                   36.58\n",
       "Tags                                             36.29\n",
       "What matters most to you in choosing a course    29.32\n",
       "What is your current occupation                  29.11\n",
       "Country                                          26.63\n",
       "Page Views Per Visit                              1.48\n",
       "TotalVisits                                       1.48\n",
       "Last Activity                                     1.11\n",
       "Lead Source                                       0.39\n",
       "Receive More Updates About Our Courses            0.00\n",
       "I agree to pay the amount through cheque          0.00\n",
       "Get updates on DM Content                         0.00\n",
       "Update me on Supply Chain Content                 0.00\n",
       "A free copy of Mastering The Interview            0.00\n",
       "Prospect ID                                       0.00\n",
       "Newspaper Article                                 0.00\n",
       "Through Recommendations                           0.00\n",
       "Digital Advertisement                             0.00\n",
       "Newspaper                                         0.00\n",
       "X Education Forums                                0.00\n",
       "Lead Number                                       0.00\n",
       "Magazine                                          0.00\n",
       "Search                                            0.00\n",
       "Total Time Spent on Website                       0.00\n",
       "Converted                                         0.00\n",
       "Do Not Call                                       0.00\n",
       "Do Not Email                                      0.00\n",
       "Lead Origin                                       0.00\n",
       "Last Notable Activity                             0.00\n",
       "dtype: float64"
      ]
     },
     "execution_count": 341,
     "metadata": {},
     "output_type": "execute_result"
    }
   ],
   "source": [
    "# Checking the data For NULL datasets :\n",
    "round((100*Leads_1.isnull().sum()/Leads_1.shape[0]),2).sort_values(ascending=False)"
   ]
  },
  {
   "cell_type": "code",
   "execution_count": 342,
   "id": "18680b35",
   "metadata": {},
   "outputs": [
    {
     "data": {
      "text/plain": [
       "Index(['How did you hear about X Education', 'Lead Quality', 'Lead Profile',\n",
       "       'Asymmetrique Activity Index', 'Asymmetrique Profile Index',\n",
       "       'Asymmetrique Activity Score', 'Asymmetrique Profile Score'],\n",
       "      dtype='object')"
      ]
     },
     "execution_count": 342,
     "metadata": {},
     "output_type": "execute_result"
    }
   ],
   "source": [
    "# Setting up a condition for the checking the values over 40% for the NUll data set\n",
    "to_drop=Leads_1.loc[:,list(round((100*Leads_1.isnull().sum()/Leads_1.shape[0]),2)>40)].columns\n",
    "to_drop"
   ]
  },
  {
   "cell_type": "code",
   "execution_count": 343,
   "id": "a2296ebe",
   "metadata": {},
   "outputs": [],
   "source": [
    "# Dropping columns that have more than 40% null values\n",
    "Leads_1 = Leads_1.drop(to_drop,axis=1)"
   ]
  },
  {
   "cell_type": "code",
   "execution_count": 344,
   "id": "fbae2d36",
   "metadata": {},
   "outputs": [
    {
     "data": {
      "text/plain": [
       "City                                             39.71\n",
       "Specialization                                   36.58\n",
       "Tags                                             36.29\n",
       "What matters most to you in choosing a course    29.32\n",
       "What is your current occupation                  29.11\n",
       "Country                                          26.63\n",
       "Page Views Per Visit                              1.48\n",
       "TotalVisits                                       1.48\n",
       "Last Activity                                     1.11\n",
       "Lead Source                                       0.39\n",
       "Through Recommendations                           0.00\n",
       "Receive More Updates About Our Courses            0.00\n",
       "Prospect ID                                       0.00\n",
       "Newspaper                                         0.00\n",
       "Update me on Supply Chain Content                 0.00\n",
       "Get updates on DM Content                         0.00\n",
       "I agree to pay the amount through cheque          0.00\n",
       "A free copy of Mastering The Interview            0.00\n",
       "Digital Advertisement                             0.00\n",
       "Search                                            0.00\n",
       "X Education Forums                                0.00\n",
       "Newspaper Article                                 0.00\n",
       "Magazine                                          0.00\n",
       "Lead Number                                       0.00\n",
       "Total Time Spent on Website                       0.00\n",
       "Converted                                         0.00\n",
       "Do Not Call                                       0.00\n",
       "Do Not Email                                      0.00\n",
       "Lead Origin                                       0.00\n",
       "Last Notable Activity                             0.00\n",
       "dtype: float64"
      ]
     },
     "execution_count": 344,
     "metadata": {},
     "output_type": "execute_result"
    }
   ],
   "source": [
    "# Checking null values Percentage :\n",
    "round((100*Leads_1.isnull().sum()/Leads_1.shape[0]),2).sort_values(ascending=False)"
   ]
  },
  {
   "cell_type": "code",
   "execution_count": 345,
   "id": "0f368850",
   "metadata": {},
   "outputs": [
    {
     "data": {
      "image/png": "[encoded data removed]",
      "text/plain": [
       "<Figure size 432x288 with 1 Axes>"
      ]
     },
     "metadata": {
      "needs_background": "light"
     },
     "output_type": "display_data"
    }
   ],
   "source": [
    "# Understanding the dataset of 'City' :\n",
    "sns.countplot(Leads_1.City)\n",
    "plt.xticks(rotation = 90)\n",
    "plt.show()"
   ]
  },
  {
   "cell_type": "code",
   "execution_count": 346,
   "id": "c9a4d83d",
   "metadata": {},
   "outputs": [],
   "source": [
    "# Imputing Null with 'Others'\n",
    "Leads_1['City'] = Leads_1['City'].replace(np.nan, 'Others')\n",
    "\n",
    "# Merging Cities which are low in numbers to 'Others'\n",
    "Leads_1['City'] = Leads_1['City'].replace(['Tier II Cities','Other Metro Cities','Other Cities of Maharashtra','Other Cities'], 'Others')"
   ]
  },
  {
   "cell_type": "code",
   "execution_count": 347,
   "id": "e0927665",
   "metadata": {},
   "outputs": [
    {
     "data": {
      "text/plain": [
       "Others               5266\n",
       "Mumbai               3222\n",
       "Thane & Outskirts     752\n",
       "Name: City, dtype: int64"
      ]
     },
     "execution_count": 347,
     "metadata": {},
     "output_type": "execute_result"
    }
   ],
   "source": [
    "Leads_1['City'].value_counts()"
   ]
  },
  {
   "cell_type": "code",
   "execution_count": 348,
   "id": "d023dc62",
   "metadata": {},
   "outputs": [
    {
     "data": {
      "image/png": "[encoded data removed]",
      "text/plain": [
       "<Figure size 432x288 with 1 Axes>"
      ]
     },
     "metadata": {
      "needs_background": "light"
     },
     "output_type": "display_data"
    }
   ],
   "source": [
    "# Understanding the dataset of 'Specialization' :\n",
    "sns.countplot(Leads_1.Specialization)\n",
    "plt.xticks(rotation = 90)\n",
    "plt.show()"
   ]
  },
  {
   "cell_type": "code",
   "execution_count": 349,
   "id": "6e06462e",
   "metadata": {},
   "outputs": [
    {
     "data": {
      "text/plain": [
       "Finance Management                   976\n",
       "Human Resource Management            848\n",
       "Marketing Management                 838\n",
       "Operations Management                503\n",
       "Business Administration              403\n",
       "IT Projects Management               366\n",
       "Supply Chain Management              349\n",
       "Banking, Investment And Insurance    338\n",
       "Travel and Tourism                   203\n",
       "Media and Advertising                203\n",
       "International Business               178\n",
       "Healthcare Management                159\n",
       "Hospitality Management               114\n",
       "E-COMMERCE                           112\n",
       "Retail Management                    100\n",
       "Rural and Agribusiness                73\n",
       "E-Business                            57\n",
       "Services Excellence                   40\n",
       "Name: Specialization, dtype: int64"
      ]
     },
     "execution_count": 349,
     "metadata": {},
     "output_type": "execute_result"
    }
   ],
   "source": [
    "Leads_1.Specialization.value_counts()"
   ]
  },
  {
   "cell_type": "code",
   "execution_count": 350,
   "id": "9ae95fee",
   "metadata": {},
   "outputs": [],
   "source": [
    "# Imputing Null with 'Others'\n",
    "Leads_1['Specialization'] = Leads_1['Specialization'].replace(np.nan, 'Others')\n",
    "\n",
    "# Merging Specialization which are low in numbers to 'Others'\n",
    "Leads_1['Specialization'] = Leads_1['Specialization'].replace(['Rural and Agribusiness','E-Business','Services Excellence'], 'Others')"
   ]
  },
  {
   "cell_type": "code",
   "execution_count": 351,
   "id": "b3e2f0c7",
   "metadata": {},
   "outputs": [
    {
     "data": {
      "text/plain": [
       "Others                               3550\n",
       "Finance Management                    976\n",
       "Human Resource Management             848\n",
       "Marketing Management                  838\n",
       "Operations Management                 503\n",
       "Business Administration               403\n",
       "IT Projects Management                366\n",
       "Supply Chain Management               349\n",
       "Banking, Investment And Insurance     338\n",
       "Media and Advertising                 203\n",
       "Travel and Tourism                    203\n",
       "International Business                178\n",
       "Healthcare Management                 159\n",
       "Hospitality Management                114\n",
       "E-COMMERCE                            112\n",
       "Retail Management                     100\n",
       "Name: Specialization, dtype: int64"
      ]
     },
     "execution_count": 351,
     "metadata": {},
     "output_type": "execute_result"
    }
   ],
   "source": [
    "Leads_1.Specialization.value_counts()"
   ]
  },
  {
   "cell_type": "code",
   "execution_count": 352,
   "id": "5373f683",
   "metadata": {},
   "outputs": [
    {
     "data": {
      "image/png": "[encoded data removed]",
      "text/plain": [
       "<Figure size 432x288 with 1 Axes>"
      ]
     },
     "metadata": {
      "needs_background": "light"
     },
     "output_type": "display_data"
    }
   ],
   "source": [
    "# Understanding the dataset of 'Tags' :\n",
    "sns.countplot(Leads_1.Tags)\n",
    "plt.xticks(rotation = 90)\n",
    "plt.show()"
   ]
  },
  {
   "cell_type": "code",
   "execution_count": 353,
   "id": "94285623",
   "metadata": {},
   "outputs": [
    {
     "data": {
      "text/plain": [
       "Will revert after reading the email                  2072\n",
       "Ringing                                              1203\n",
       "Interested in other courses                           513\n",
       "Already a student                                     465\n",
       "Closed by Horizzon                                    358\n",
       "switched off                                          240\n",
       "Busy                                                  186\n",
       "Lost to EINS                                          175\n",
       "Not doing further education                           145\n",
       "Interested  in full time MBA                          117\n",
       "Graduation in progress                                111\n",
       "invalid number                                         83\n",
       "Diploma holder (Not Eligible)                          63\n",
       "wrong number given                                     47\n",
       "opp hangup                                             33\n",
       "number not provided                                    27\n",
       "in touch with EINS                                     12\n",
       "Lost to Others                                          7\n",
       "Still Thinking                                          6\n",
       "Want to take admission but has financial problems       6\n",
       "In confusion whether part time or DLP                   5\n",
       "Interested in Next batch                                5\n",
       "Lateral student                                         3\n",
       "Shall take in the next coming month                     2\n",
       "University not recognized                               2\n",
       "Recognition issue (DEC approval)                        1\n",
       "Name: Tags, dtype: int64"
      ]
     },
     "execution_count": 353,
     "metadata": {},
     "output_type": "execute_result"
    }
   ],
   "source": [
    "Leads_1.Tags.value_counts()"
   ]
  },
  {
   "cell_type": "code",
   "execution_count": 354,
   "id": "42335bd4",
   "metadata": {},
   "outputs": [
    {
     "data": {
      "text/plain": [
       "Others                                 4987\n",
       "Will revert after reading the email    2072\n",
       "Ringing                                1203\n",
       "Interested in other courses             513\n",
       "Already a student                       465\n",
       "Name: Tags, dtype: int64"
      ]
     },
     "execution_count": 354,
     "metadata": {},
     "output_type": "execute_result"
    }
   ],
   "source": [
    "# Imputing Null with Others\n",
    "Leads_1['Tags'] = Leads_1['Tags'].replace(np.nan, 'Others')\n",
    "\n",
    "# Merging the dataset with low frequency(Criteria : Each category should have minimum 5% of total data)\n",
    "Leads_1['Tags'] = Leads_1['Tags'].replace(['switched off', 'Busy', 'Lost to EINS', 'Not doing further education', 'Interested  in full time MBA',\n",
    "                                     'Graduation in progress', 'invalid number', 'Diploma holder (Not Eligible)', 'wrong number given', 'opp hangup',\n",
    "                                     'number not provided', 'in touch with EINS', 'Lost to Others', 'Want to take admission but has financial problems',\n",
    "                                     'Still Thinking', 'Interested in Next batch', 'In confusion whether part time or DLP', 'Lateral student',\n",
    "                                     'Shall take in the next coming month', 'University not recognized', 'Recognition issue (DEC approval)','Closed by Horizzon'\n",
    "                                     ], 'Others')\n",
    "\n",
    "Leads_1.Tags.value_counts()"
   ]
  },
  {
   "cell_type": "code",
   "execution_count": 355,
   "id": "f6eeb675",
   "metadata": {},
   "outputs": [
    {
     "data": {
      "image/png": "[encoded data removed]",
      "text/plain": [
       "<Figure size 432x288 with 1 Axes>"
      ]
     },
     "metadata": {
      "needs_background": "light"
     },
     "output_type": "display_data"
    }
   ],
   "source": [
    "# Understanding the dataset of 'What matters most to you in choosing a course ' :\n",
    "sns.countplot(Leads_1['What matters most to you in choosing a course'])\n",
    "plt.xticks(rotation = 90)\n",
    "plt.show()"
   ]
  },
  {
   "cell_type": "code",
   "execution_count": 356,
   "id": "e9c04671",
   "metadata": {},
   "outputs": [
    {
     "data": {
      "text/plain": [
       "Better Career Prospects      6528\n",
       "Flexibility & Convenience       2\n",
       "Other                           1\n",
       "Name: What matters most to you in choosing a course, dtype: int64"
      ]
     },
     "execution_count": 356,
     "metadata": {},
     "output_type": "execute_result"
    }
   ],
   "source": [
    "Leads_1['What matters most to you in choosing a course'].value_counts()"
   ]
  },
  {
   "cell_type": "code",
   "execution_count": 357,
   "id": "a5454aba",
   "metadata": {},
   "outputs": [],
   "source": [
    "# Let's drop the dataset of 'What matters the most to you choosing a course' as it is highy skewed.\n",
    "Leads_1 = Leads_1.drop('What matters most to you in choosing a course',axis=1)"
   ]
  },
  {
   "cell_type": "code",
   "execution_count": 358,
   "id": "c023d10f",
   "metadata": {},
   "outputs": [
    {
     "data": {
      "image/png": "[encoded data removed]",
      "text/plain": [
       "<Figure size 432x288 with 1 Axes>"
      ]
     },
     "metadata": {
      "needs_background": "light"
     },
     "output_type": "display_data"
    }
   ],
   "source": [
    "# Understanding the data set of 'What is your Currrent Occupation'\n",
    "sns.countplot(Leads_1['What is your current occupation'])\n",
    "plt.xticks(rotation = 90)\n",
    "plt.show()"
   ]
  },
  {
   "cell_type": "code",
   "execution_count": 359,
   "id": "ce116c3d",
   "metadata": {},
   "outputs": [
    {
     "data": {
      "text/plain": [
       "Unemployed              5600\n",
       "Working Professional     706\n",
       "Student                  210\n",
       "Other                     16\n",
       "Housewife                 10\n",
       "Businessman                8\n",
       "Name: What is your current occupation, dtype: int64"
      ]
     },
     "execution_count": 359,
     "metadata": {},
     "output_type": "execute_result"
    }
   ],
   "source": [
    "Leads_1['What is your current occupation'].value_counts()"
   ]
  },
  {
   "cell_type": "code",
   "execution_count": 360,
   "id": "1fae9c14",
   "metadata": {},
   "outputs": [],
   "source": [
    "# Imputing Null with Others :\n",
    "Leads_1['What is your current occupation'] = Leads_1['What is your current occupation'].replace(np.nan, 'Other')"
   ]
  },
  {
   "cell_type": "code",
   "execution_count": 361,
   "id": "e28bfdd4",
   "metadata": {},
   "outputs": [
    {
     "data": {
      "text/plain": [
       "Unemployed              5600\n",
       "Other                   2706\n",
       "Working Professional     706\n",
       "Student                  210\n",
       "Housewife                 10\n",
       "Businessman                8\n",
       "Name: What is your current occupation, dtype: int64"
      ]
     },
     "execution_count": 361,
     "metadata": {},
     "output_type": "execute_result"
    }
   ],
   "source": [
    "Leads_1['What is your current occupation'].value_counts()"
   ]
  },
  {
   "cell_type": "code",
   "execution_count": 362,
   "id": "b580d4f5",
   "metadata": {},
   "outputs": [
    {
     "data": {
      "image/png": "[encoded data removed]",
      "text/plain": [
       "<Figure size 432x288 with 1 Axes>"
      ]
     },
     "metadata": {
      "needs_background": "light"
     },
     "output_type": "display_data"
    }
   ],
   "source": [
    "# Understanding the data set for 'Country':\n",
    "sns.countplot(Leads_1['Country'])\n",
    "plt.xticks(rotation = 90)\n",
    "plt.show()"
   ]
  },
  {
   "cell_type": "code",
   "execution_count": 363,
   "id": "93bd84a5",
   "metadata": {},
   "outputs": [
    {
     "data": {
      "text/plain": [
       "India                   6492\n",
       "United States             69\n",
       "United Arab Emirates      53\n",
       "Singapore                 24\n",
       "Saudi Arabia              21\n",
       "United Kingdom            15\n",
       "Australia                 13\n",
       "Qatar                     10\n",
       "Hong Kong                  7\n",
       "Bahrain                    7\n",
       "Oman                       6\n",
       "France                     6\n",
       "unknown                    5\n",
       "South Africa               4\n",
       "Nigeria                    4\n",
       "Germany                    4\n",
       "Kuwait                     4\n",
       "Canada                     4\n",
       "Sweden                     3\n",
       "China                      2\n",
       "Asia/Pacific Region        2\n",
       "Uganda                     2\n",
       "Bangladesh                 2\n",
       "Italy                      2\n",
       "Belgium                    2\n",
       "Netherlands                2\n",
       "Ghana                      2\n",
       "Philippines                2\n",
       "Russia                     1\n",
       "Switzerland                1\n",
       "Vietnam                    1\n",
       "Denmark                    1\n",
       "Tanzania                   1\n",
       "Liberia                    1\n",
       "Malaysia                   1\n",
       "Kenya                      1\n",
       "Sri Lanka                  1\n",
       "Indonesia                  1\n",
       "Name: Country, dtype: int64"
      ]
     },
     "execution_count": 363,
     "metadata": {},
     "output_type": "execute_result"
    }
   ],
   "source": [
    "Leads_1['Country'].value_counts()"
   ]
  },
  {
   "cell_type": "code",
   "execution_count": 364,
   "id": "3ff3ccda",
   "metadata": {},
   "outputs": [],
   "source": [
    "# Dropping the dataset 'Country' as it is highly skewed :\n",
    "Leads_1 = Leads_1.drop('Country',axis=1)"
   ]
  },
  {
   "cell_type": "code",
   "execution_count": 365,
   "id": "84f8b427",
   "metadata": {},
   "outputs": [
    {
     "data": {
      "text/plain": [
       "Email Opened                    3437\n",
       "SMS Sent                        2745\n",
       "Olark Chat Conversation          973\n",
       "Page Visited on Website          640\n",
       "Converted to Lead                428\n",
       "Email Bounced                    326\n",
       "Email Link Clicked               267\n",
       "Form Submitted on Website        116\n",
       "Unreachable                       93\n",
       "Unsubscribed                      61\n",
       "Had a Phone Conversation          30\n",
       "Approached upfront                 9\n",
       "View in browser link Clicked       6\n",
       "Email Received                     2\n",
       "Email Marked Spam                  2\n",
       "Visited Booth in Tradeshow         1\n",
       "Resubscribed to emails             1\n",
       "Name: Last Activity, dtype: int64"
      ]
     },
     "execution_count": 365,
     "metadata": {},
     "output_type": "execute_result"
    }
   ],
   "source": [
    "# Understanding the dataset 'Last Activity' :\n",
    "Leads_1['Last Activity'].value_counts()"
   ]
  },
  {
   "cell_type": "code",
   "execution_count": 366,
   "id": "6befc01f",
   "metadata": {},
   "outputs": [],
   "source": [
    "# Imputing Null with Others :\n",
    "Leads_1['Last Activity'] = Leads_1['Last Activity'].replace(np.nan, 'Others')\n",
    "\n",
    "# Merging the items with low frequency to Others :\n",
    "Leads_1['Last Activity'] = Leads_1['Last Activity'].replace(['Unreachable','Unsubscribed','Had a Phone Conversation','Approached upfront',\n",
    "                                                   'View in browser link Clicked','Email Received','Email Marked Spam','Resubscribed to emails',\n",
    "                                                  'Visited Booth in Tradeshow'], 'Others')"
   ]
  },
  {
   "cell_type": "code",
   "execution_count": 367,
   "id": "03928979",
   "metadata": {},
   "outputs": [
    {
     "data": {
      "text/plain": [
       "Google               2868\n",
       "Direct Traffic       2543\n",
       "Olark Chat           1755\n",
       "Organic Search       1154\n",
       "Reference             534\n",
       "Welingak Website      142\n",
       "Referral Sites        125\n",
       "Facebook               55\n",
       "bing                    6\n",
       "google                  5\n",
       "Click2call              4\n",
       "Press_Release           2\n",
       "Social Media            2\n",
       "Live Chat               2\n",
       "youtubechannel          1\n",
       "testone                 1\n",
       "Pay per Click Ads       1\n",
       "welearnblog_Home        1\n",
       "WeLearn                 1\n",
       "blog                    1\n",
       "NC_EDM                  1\n",
       "Name: Lead Source, dtype: int64"
      ]
     },
     "execution_count": 367,
     "metadata": {},
     "output_type": "execute_result"
    }
   ],
   "source": [
    "# Understading the unique value counts of 'Lead Source':\n",
    "\n",
    "Leads_1['Lead Source'].value_counts()"
   ]
  },
  {
   "cell_type": "code",
   "execution_count": 368,
   "id": "ea87dbff",
   "metadata": {},
   "outputs": [],
   "source": [
    "# As we can see from the above data that there are two Google sets so we will combine them to one category of Data set:\n",
    "Leads_1['Lead Source'] = Leads_1['Lead Source'].replace('google', 'Google')\n",
    "# Imputing Null with Others :\n",
    "Leads_1['Lead Source'] = Leads_1['Lead Source'].replace(np.nan, 'Others')\n",
    "\n",
    "# Merging low frequency data set items to Others :\n",
    "Leads_1['Lead Source'] = Leads_1['Lead Source'].replace(['bing', 'Click2call', 'Press_Release',\n",
    "                                                   'youtubechannel', 'welearnblog_Home',\n",
    "                                                   'WeLearn', 'blog', 'Pay per Click Ads',\n",
    "                                                   'testone', 'NC_EDM', 'Live Chat', 'Facebook', 'Social Media'], 'Others')"
   ]
  },
  {
   "cell_type": "code",
   "execution_count": 369,
   "id": "201feccf",
   "metadata": {},
   "outputs": [
    {
     "data": {
      "text/plain": [
       "Google              2873\n",
       "Direct Traffic      2543\n",
       "Olark Chat          1755\n",
       "Organic Search      1154\n",
       "Reference            534\n",
       "Welingak Website     142\n",
       "Referral Sites       125\n",
       "Others               114\n",
       "Name: Lead Source, dtype: int64"
      ]
     },
     "execution_count": 369,
     "metadata": {},
     "output_type": "execute_result"
    }
   ],
   "source": [
    "# Checking the unique Value Counts :\n",
    "Leads_1['Lead Source'].value_counts()"
   ]
  },
  {
   "cell_type": "code",
   "execution_count": 370,
   "id": "9b867b8e",
   "metadata": {},
   "outputs": [
    {
     "data": {
      "text/plain": [
       "Modified                        3407\n",
       "Email Opened                    2827\n",
       "SMS Sent                        2172\n",
       "Page Visited on Website          318\n",
       "Olark Chat Conversation          183\n",
       "Email Link Clicked               173\n",
       "Email Bounced                     60\n",
       "Unsubscribed                      47\n",
       "Unreachable                       32\n",
       "Had a Phone Conversation          14\n",
       "Email Marked Spam                  2\n",
       "Approached upfront                 1\n",
       "Resubscribed to emails             1\n",
       "View in browser link Clicked       1\n",
       "Form Submitted on Website          1\n",
       "Email Received                     1\n",
       "Name: Last Notable Activity, dtype: int64"
      ]
     },
     "execution_count": 370,
     "metadata": {},
     "output_type": "execute_result"
    }
   ],
   "source": [
    "# Understanding the dataset 'Last Activity' :\n",
    "Leads_1['Last Notable Activity'].value_counts()"
   ]
  },
  {
   "cell_type": "code",
   "execution_count": 371,
   "id": "0a9aa3cd",
   "metadata": {},
   "outputs": [],
   "source": [
    "# As we can see there are less frequency values in the dataset hence we need to merge them into 'Others' :\n",
    "Leads_1['Last Notable Activity'] = Leads_1['Last Notable Activity'].replace(['Email Bounced', 'Unsubscribed', 'Unreachable', \n",
    "                                                                         'Had a Phone Conversation', 'Email Marked Spam', \n",
    "                                                                         'Resubscribed to emails', 'Approached upfront', \n",
    "                                                                         'Email Received', 'Form Submitted on Website', \n",
    "                                                                         'View in browser link Clicked'], 'Others')"
   ]
  },
  {
   "cell_type": "code",
   "execution_count": 372,
   "id": "e3fb309c",
   "metadata": {},
   "outputs": [
    {
     "data": {
      "text/plain": [
       "count    9103.000000\n",
       "mean        3.445238\n",
       "std         4.854853\n",
       "min         0.000000\n",
       "25%         1.000000\n",
       "50%         3.000000\n",
       "75%         5.000000\n",
       "max       251.000000\n",
       "Name: TotalVisits, dtype: float64"
      ]
     },
     "execution_count": 372,
     "metadata": {},
     "output_type": "execute_result"
    }
   ],
   "source": [
    "# Understanding the data set 'Total Visits' :\n",
    "Leads_1.TotalVisits.describe()"
   ]
  },
  {
   "cell_type": "code",
   "execution_count": 373,
   "id": "a80f42f6",
   "metadata": {},
   "outputs": [],
   "source": [
    "# Impute 'Total Visits' with 'Median' :\n",
    "TotalVisits_med = Leads_1.TotalVisits.median()\n",
    "Leads_1.TotalVisits.fillna(TotalVisits_med, inplace=True)"
   ]
  },
  {
   "cell_type": "code",
   "execution_count": 374,
   "id": "710e3c0e",
   "metadata": {},
   "outputs": [
    {
     "data": {
      "text/plain": [
       "<bound method NDFrame.describe of 0       0.00\n",
       "1       2.50\n",
       "2       2.00\n",
       "3       1.00\n",
       "4       1.00\n",
       "        ... \n",
       "9235    2.67\n",
       "9236    2.00\n",
       "9237    2.00\n",
       "9238    3.00\n",
       "9239    3.00\n",
       "Name: Page Views Per Visit, Length: 9240, dtype: float64>"
      ]
     },
     "execution_count": 374,
     "metadata": {},
     "output_type": "execute_result"
    }
   ],
   "source": [
    "# Understanding the data set 'Page Views Per Visit':\n",
    "Leads_1['Page Views Per Visit'].describe"
   ]
  },
  {
   "cell_type": "code",
   "execution_count": 375,
   "id": "505055b6",
   "metadata": {},
   "outputs": [],
   "source": [
    "# Impute 'Page Views Per Visit' with the 'Median' :\n",
    "pvpv_med = Leads_1['Page Views Per Visit'].median()\n",
    "Leads_1['Page Views Per Visit'].fillna(pvpv_med, inplace=True)"
   ]
  },
  {
   "cell_type": "code",
   "execution_count": 376,
   "id": "dd6b75eb",
   "metadata": {},
   "outputs": [
    {
     "data": {
      "text/plain": [
       "Prospect ID                                 0.0\n",
       "Lead Number                                 0.0\n",
       "A free copy of Mastering The Interview      0.0\n",
       "I agree to pay the amount through cheque    0.0\n",
       "City                                        0.0\n",
       "Get updates on DM Content                   0.0\n",
       "Update me on Supply Chain Content           0.0\n",
       "Tags                                        0.0\n",
       "Receive More Updates About Our Courses      0.0\n",
       "Through Recommendations                     0.0\n",
       "Digital Advertisement                       0.0\n",
       "Newspaper                                   0.0\n",
       "X Education Forums                          0.0\n",
       "Newspaper Article                           0.0\n",
       "Magazine                                    0.0\n",
       "Search                                      0.0\n",
       "What is your current occupation             0.0\n",
       "Specialization                              0.0\n",
       "Last Activity                               0.0\n",
       "Page Views Per Visit                        0.0\n",
       "Total Time Spent on Website                 0.0\n",
       "TotalVisits                                 0.0\n",
       "Converted                                   0.0\n",
       "Do Not Call                                 0.0\n",
       "Do Not Email                                0.0\n",
       "Lead Source                                 0.0\n",
       "Lead Origin                                 0.0\n",
       "Last Notable Activity                       0.0\n",
       "dtype: float64"
      ]
     },
     "execution_count": 376,
     "metadata": {},
     "output_type": "execute_result"
    }
   ],
   "source": [
    "# Now We check the Entire data for NULLS :\n",
    "round((100*Leads_1.isnull().sum()/Leads_1.shape[0]),2).sort_values(ascending=False)"
   ]
  },
  {
   "cell_type": "code",
   "execution_count": 377,
   "id": "a3ca1f23",
   "metadata": {},
   "outputs": [
    {
     "name": "stdout",
     "output_type": "stream",
     "text": [
      "000104b9-23e4-4ddc-8caa-8629fe8ad7f4    1\n",
      "a7a319ea-b6ae-4c6b-afc5-183b933d10b5    1\n",
      "aa27a0af-eeab-4007-a770-fa8a93fa53c8    1\n",
      "aa30ebb2-8476-41ce-9258-37cc025110d3    1\n",
      "aa405742-17ac-4c65-b19e-ab91c241cc53    1\n",
      "                                       ..\n",
      "539eb309-df36-4a89-ac58-6d3651393910    1\n",
      "539ffa32-1be7-4fe1-b04c-faf1bab763cf    1\n",
      "53aabd84-5dcc-4299-bbe3-62f3764b07b1    1\n",
      "53ac14bd-2bb2-4315-a21c-94562d1b6b2d    1\n",
      "fffb0e5e-9f92-4017-9f42-781a69da4154    1\n",
      "Name: Prospect ID, Length: 9240, dtype: int64\n",
      "**********************************************\n",
      "Landing Page Submission    4886\n",
      "API                        3580\n",
      "Lead Add Form               718\n",
      "Lead Import                  55\n",
      "Quick Add Form                1\n",
      "Name: Lead Origin, dtype: int64\n",
      "**********************************************\n",
      "Google              2873\n",
      "Direct Traffic      2543\n",
      "Olark Chat          1755\n",
      "Organic Search      1154\n",
      "Reference            534\n",
      "Welingak Website     142\n",
      "Referral Sites       125\n",
      "Others               114\n",
      "Name: Lead Source, dtype: int64\n",
      "**********************************************\n",
      "No     8506\n",
      "Yes     734\n",
      "Name: Do Not Email, dtype: int64\n",
      "**********************************************\n",
      "No     9238\n",
      "Yes       2\n",
      "Name: Do Not Call, dtype: int64\n",
      "**********************************************\n",
      "Email Opened                 3437\n",
      "SMS Sent                     2745\n",
      "Olark Chat Conversation       973\n",
      "Page Visited on Website       640\n",
      "Converted to Lead             428\n",
      "Email Bounced                 326\n",
      "Others                        308\n",
      "Email Link Clicked            267\n",
      "Form Submitted on Website     116\n",
      "Name: Last Activity, dtype: int64\n",
      "**********************************************\n",
      "Others                               3550\n",
      "Finance Management                    976\n",
      "Human Resource Management             848\n",
      "Marketing Management                  838\n",
      "Operations Management                 503\n",
      "Business Administration               403\n",
      "IT Projects Management                366\n",
      "Supply Chain Management               349\n",
      "Banking, Investment And Insurance     338\n",
      "Media and Advertising                 203\n",
      "Travel and Tourism                    203\n",
      "International Business                178\n",
      "Healthcare Management                 159\n",
      "Hospitality Management                114\n",
      "E-COMMERCE                            112\n",
      "Retail Management                     100\n",
      "Name: Specialization, dtype: int64\n",
      "**********************************************\n",
      "Unemployed              5600\n",
      "Other                   2706\n",
      "Working Professional     706\n",
      "Student                  210\n",
      "Housewife                 10\n",
      "Businessman                8\n",
      "Name: What is your current occupation, dtype: int64\n",
      "**********************************************\n",
      "No     9226\n",
      "Yes      14\n",
      "Name: Search, dtype: int64\n",
      "**********************************************\n",
      "No    9240\n",
      "Name: Magazine, dtype: int64\n",
      "**********************************************\n",
      "No     9238\n",
      "Yes       2\n",
      "Name: Newspaper Article, dtype: int64\n",
      "**********************************************\n",
      "No     9239\n",
      "Yes       1\n",
      "Name: X Education Forums, dtype: int64\n",
      "**********************************************\n",
      "No     9239\n",
      "Yes       1\n",
      "Name: Newspaper, dtype: int64\n",
      "**********************************************\n",
      "No     9236\n",
      "Yes       4\n",
      "Name: Digital Advertisement, dtype: int64\n",
      "**********************************************\n",
      "No     9233\n",
      "Yes       7\n",
      "Name: Through Recommendations, dtype: int64\n",
      "**********************************************\n",
      "No    9240\n",
      "Name: Receive More Updates About Our Courses, dtype: int64\n",
      "**********************************************\n",
      "Others                                 4987\n",
      "Will revert after reading the email    2072\n",
      "Ringing                                1203\n",
      "Interested in other courses             513\n",
      "Already a student                       465\n",
      "Name: Tags, dtype: int64\n",
      "**********************************************\n",
      "No    9240\n",
      "Name: Update me on Supply Chain Content, dtype: int64\n",
      "**********************************************\n",
      "No    9240\n",
      "Name: Get updates on DM Content, dtype: int64\n",
      "**********************************************\n",
      "Others               5266\n",
      "Mumbai               3222\n",
      "Thane & Outskirts     752\n",
      "Name: City, dtype: int64\n",
      "**********************************************\n",
      "No    9240\n",
      "Name: I agree to pay the amount through cheque, dtype: int64\n",
      "**********************************************\n",
      "No     6352\n",
      "Yes    2888\n",
      "Name: A free copy of Mastering The Interview, dtype: int64\n",
      "**********************************************\n",
      "Modified                   3407\n",
      "Email Opened               2827\n",
      "SMS Sent                   2172\n",
      "Page Visited on Website     318\n",
      "Olark Chat Conversation     183\n",
      "Email Link Clicked          173\n",
      "Others                      160\n",
      "Name: Last Notable Activity, dtype: int64\n",
      "**********************************************\n"
     ]
    }
   ],
   "source": [
    "# Now we check the Data Distribution for the categorical columns :\n",
    "Leads_1_cat = Leads_1.loc[:, Leads_1.dtypes == 'object']\n",
    "for i in Leads_1_cat:\n",
    "    print(Leads_1[i].astype('category').value_counts())\n",
    "    print('**********************************************')"
   ]
  },
  {
   "cell_type": "code",
   "execution_count": 378,
   "id": "5e10b375",
   "metadata": {},
   "outputs": [],
   "source": [
    "to_drop_cols = ['Do Not Call', 'Do Not Email', 'Search', 'Newspaper Article', 'X Education Forums', 'Newspaper', 'Digital Advertisement', \n",
    "                'Through Recommendations', 'Magazine', 'Receive More Updates About Our Courses', 'Update me on Supply Chain Content', \n",
    "                'Get updates on DM Content', 'I agree to pay the amount through cheque']\n",
    "Leads_1.drop(to_drop_cols, axis=1, inplace=True)"
   ]
  },
  {
   "cell_type": "code",
   "execution_count": 379,
   "id": "6e756394",
   "metadata": {},
   "outputs": [
    {
     "data": {
      "text/plain": [
       "(9240, 15)"
      ]
     },
     "execution_count": 379,
     "metadata": {},
     "output_type": "execute_result"
    }
   ],
   "source": [
    "Leads_1.shape"
   ]
  },
  {
   "cell_type": "code",
   "execution_count": 380,
   "id": "7c990813",
   "metadata": {},
   "outputs": [
    {
     "data": {
      "text/plain": [
       "<bound method DataFrame.info of                                Prospect ID  Lead Number  \\\n",
       "0     7927b2df-8bba-4d29-b9a2-b6e0beafe620       660737   \n",
       "1     2a272436-5132-4136-86fa-dcc88c88f482       660728   \n",
       "2     8cc8c611-a219-4f35-ad23-fdfd2656bd8a       660727   \n",
       "3     0cc2df48-7cf4-4e39-9de9-19797f9b38cc       660719   \n",
       "4     3256f628-e534-4826-9d63-4a8b88782852       660681   \n",
       "...                                    ...          ...   \n",
       "9235  19d6451e-fcd6-407c-b83b-48e1af805ea9       579564   \n",
       "9236  82a7005b-7196-4d56-95ce-a79f937a158d       579546   \n",
       "9237  aac550fe-a586-452d-8d3c-f1b62c94e02c       579545   \n",
       "9238  5330a7d1-2f2b-4df4-85d6-64ca2f6b95b9       579538   \n",
       "9239  571b5c8e-a5b2-4d57-8574-f2ffb06fdeff       579533   \n",
       "\n",
       "                  Lead Origin     Lead Source  Converted  TotalVisits  \\\n",
       "0                         API      Olark Chat          0          0.0   \n",
       "1                         API  Organic Search          0          5.0   \n",
       "2     Landing Page Submission  Direct Traffic          1          2.0   \n",
       "3     Landing Page Submission  Direct Traffic          0          1.0   \n",
       "4     Landing Page Submission          Google          1          2.0   \n",
       "...                       ...             ...        ...          ...   \n",
       "9235  Landing Page Submission  Direct Traffic          1          8.0   \n",
       "9236  Landing Page Submission  Direct Traffic          0          2.0   \n",
       "9237  Landing Page Submission  Direct Traffic          0          2.0   \n",
       "9238  Landing Page Submission          Google          1          3.0   \n",
       "9239  Landing Page Submission  Direct Traffic          1          6.0   \n",
       "\n",
       "      Total Time Spent on Website  Page Views Per Visit  \\\n",
       "0                               0                  0.00   \n",
       "1                             674                  2.50   \n",
       "2                            1532                  2.00   \n",
       "3                             305                  1.00   \n",
       "4                            1428                  1.00   \n",
       "...                           ...                   ...   \n",
       "9235                         1845                  2.67   \n",
       "9236                          238                  2.00   \n",
       "9237                          199                  2.00   \n",
       "9238                          499                  3.00   \n",
       "9239                         1279                  3.00   \n",
       "\n",
       "                Last Activity             Specialization  \\\n",
       "0     Page Visited on Website                     Others   \n",
       "1                Email Opened                     Others   \n",
       "2                Email Opened    Business Administration   \n",
       "3                      Others      Media and Advertising   \n",
       "4           Converted to Lead                     Others   \n",
       "...                       ...                        ...   \n",
       "9235                   Others     IT Projects Management   \n",
       "9236                 SMS Sent      Media and Advertising   \n",
       "9237                 SMS Sent    Business Administration   \n",
       "9238                 SMS Sent  Human Resource Management   \n",
       "9239                 SMS Sent    Supply Chain Management   \n",
       "\n",
       "     What is your current occupation                                 Tags  \\\n",
       "0                         Unemployed          Interested in other courses   \n",
       "1                         Unemployed                              Ringing   \n",
       "2                            Student  Will revert after reading the email   \n",
       "3                         Unemployed                              Ringing   \n",
       "4                         Unemployed  Will revert after reading the email   \n",
       "...                              ...                                  ...   \n",
       "9235                      Unemployed  Will revert after reading the email   \n",
       "9236                      Unemployed                               Others   \n",
       "9237                      Unemployed                               Others   \n",
       "9238                           Other                               Others   \n",
       "9239                      Unemployed  Will revert after reading the email   \n",
       "\n",
       "        City A free copy of Mastering The Interview Last Notable Activity  \n",
       "0     Others                                     No              Modified  \n",
       "1     Others                                     No          Email Opened  \n",
       "2     Mumbai                                    Yes          Email Opened  \n",
       "3     Mumbai                                     No              Modified  \n",
       "4     Mumbai                                     No              Modified  \n",
       "...      ...                                    ...                   ...  \n",
       "9235  Mumbai                                     No                Others  \n",
       "9236  Mumbai                                    Yes              SMS Sent  \n",
       "9237  Mumbai                                    Yes              SMS Sent  \n",
       "9238  Others                                     No              SMS Sent  \n",
       "9239  Others                                    Yes              Modified  \n",
       "\n",
       "[9240 rows x 15 columns]>"
      ]
     },
     "execution_count": 380,
     "metadata": {},
     "output_type": "execute_result"
    }
   ],
   "source": [
    "Leads_1.info"
   ]
  },
  {
   "cell_type": "code",
   "execution_count": 381,
   "id": "6d2dd501",
   "metadata": {},
   "outputs": [],
   "source": [
    "# Now We create a copy of the dataset excluding the unique identifiers :\n",
    "Leads_1_excl = Leads_1.drop(['Prospect ID', 'Lead Number'], axis=1)"
   ]
  },
  {
   "cell_type": "code",
   "execution_count": 382,
   "id": "b017437d",
   "metadata": {},
   "outputs": [
    {
     "data": {
      "image/png": "[encoded data removed]",
      "text/plain": [
       "<Figure size 432x288 with 1 Axes>"
      ]
     },
     "metadata": {
      "needs_background": "light"
     },
     "output_type": "display_data"
    }
   ],
   "source": [
    "# Data Visualization :\n",
    "# No we proceed with the data visualization :\n",
    "# Let's start of this with the univariate and bivariate analysis :\n",
    "\n",
    "# Percentage of covered data :\n",
    "ax=sns.barplot(x='Converted', y='Converted', data=Leads_1_excl, estimator=lambda x: len(x) / len(Leads_1_excl) * 100)\n",
    "for p in ax.patches:\n",
    "        ax.annotate('{:.2f}%'.format(p.get_height()), (p.get_x()+0.3, p.get_height()))\n",
    "plt.title('Target Variable Ratio')\n",
    "plt.xlabel('0=No 1=Yes')\n",
    "plt.xticks(rotation=0)\n",
    "plt.ylabel('% of Conversion')\n",
    "plt.show()"
   ]
  },
  {
   "cell_type": "code",
   "execution_count": 383,
   "id": "b303c9be",
   "metadata": {},
   "outputs": [
    {
     "data": {
      "image/png": "[encoded data removed]",
      "text/plain": [
       "<Figure size 432x288 with 1 Axes>"
      ]
     },
     "metadata": {
      "needs_background": "light"
     },
     "output_type": "display_data"
    }
   ],
   "source": [
    "# Origin of the Lead :\n",
    "sns.countplot(x = \"Lead Origin\", hue = \"Converted\", data = Leads_1_excl)\n",
    "plt.xticks(rotation = 90)\n",
    "plt.show()"
   ]
  },
  {
   "cell_type": "code",
   "execution_count": 384,
   "id": "1dfd076d",
   "metadata": {},
   "outputs": [],
   "source": [
    "# Inference :\n",
    "# What we can infer from the above data is that API and Landing Page Submission have 35-40% conversion reat but count of lead originate from them are considerable.\n",
    "# We can also infer that the Lead Add Form has more than 90% conversion rate but the values are not that high .\n",
    "# We also infer that the Lead Import and Quick Add Form are very Low."
   ]
  },
  {
   "cell_type": "code",
   "execution_count": 385,
   "id": "f2b32ce6",
   "metadata": {},
   "outputs": [
    {
     "data": {
      "image/png": "[encoded data removed]",
      "text/plain": [
       "<Figure size 432x288 with 1 Axes>"
      ]
     },
     "metadata": {
      "needs_background": "light"
     },
     "output_type": "display_data"
    }
   ],
   "source": [
    "# Understanding Lead Source : \n",
    "sns.countplot(x = \"Lead Source\", hue = \"Converted\", data = Leads_1_excl)\n",
    "plt.xticks(rotation =90)\n",
    "plt.show()"
   ]
  },
  {
   "cell_type": "code",
   "execution_count": 386,
   "id": "dabfae12",
   "metadata": {},
   "outputs": [],
   "source": [
    "# Inference :\n",
    "# What we can infer from the above plot is that Google and Data Traffic are generating very high number of leads but they should focus for their conversion \n",
    "# We can also infer that Welingak and Reference are having more conversion rate hence should be focused to generate more leads."
   ]
  },
  {
   "cell_type": "code",
   "execution_count": 387,
   "id": "fb97e528",
   "metadata": {},
   "outputs": [
    {
     "data": {
      "image/png": "[encoded data removed]",
      "text/plain": [
       "<Figure size 432x288 with 1 Axes>"
      ]
     },
     "metadata": {
      "needs_background": "light"
     },
     "output_type": "display_data"
    }
   ],
   "source": [
    "# Understading Last Activity :\n",
    "sns.countplot(x = \"Last Activity\", hue = \"Converted\", data = Leads_1_excl)\n",
    "plt.xticks(rotation = 90)\n",
    "plt.show()"
   ]
  },
  {
   "cell_type": "code",
   "execution_count": 388,
   "id": "81506e9d",
   "metadata": {},
   "outputs": [],
   "source": [
    "# Inference :\n",
    "# What we can infer from the above plot is that the most of the leads have Emails Opened and SMS Sent and should focus more on the Leads Opening Mail .\n",
    "# We can also see that the coversion rate for SMS sent is very high and hence we should focus more on the lead conversion for the same ."
   ]
  },
  {
   "cell_type": "code",
   "execution_count": 389,
   "id": "2a6a1e65",
   "metadata": {},
   "outputs": [
    {
     "data": {
      "image/png": "[encoded data removed]",
      "text/plain": [
       "<Figure size 432x288 with 1 Axes>"
      ]
     },
     "metadata": {
      "needs_background": "light"
     },
     "output_type": "display_data"
    }
   ],
   "source": [
    "# Understanding Specialization :\n",
    "sns.countplot(x = \"Specialization\", hue = \"Converted\", data = Leads_1_excl)\n",
    "plt.xticks(rotation = 90)\n",
    "plt.show()"
   ]
  },
  {
   "cell_type": "code",
   "execution_count": 390,
   "id": "853f02c9",
   "metadata": {},
   "outputs": [],
   "source": [
    "# Inference :\n",
    "# What we can infer from the above plot is that focus should be more on the Various Specialization with less leads but high conversion rates.\n",
    "# Also we can see that the most of the leads are from 'Others'."
   ]
  },
  {
   "cell_type": "code",
   "execution_count": 391,
   "id": "8f32f41b",
   "metadata": {},
   "outputs": [
    {
     "data": {
      "image/png": "[encoded data removed]",
      "text/plain": [
       "<Figure size 432x288 with 1 Axes>"
      ]
     },
     "metadata": {
      "needs_background": "light"
     },
     "output_type": "display_data"
    }
   ],
   "source": [
    "# Understanding 'What is your current occupation ?'\n",
    "sns.countplot(x = \"What is your current occupation\", hue = \"Converted\", data = Leads_1_excl)\n",
    "plt.xticks(rotation = 90)\n",
    "plt.show()"
   ]
  },
  {
   "cell_type": "code",
   "execution_count": 392,
   "id": "f8d578e6",
   "metadata": {},
   "outputs": [],
   "source": [
    "# Inference :\n",
    "# What we can infer from the above plot is that The Working Professionals have a very high conversion rates\n",
    "# Also the most leads are from the Unemployed Sections , we should focus more on increasing conversion ."
   ]
  },
  {
   "cell_type": "code",
   "execution_count": 393,
   "id": "81c21e7f",
   "metadata": {},
   "outputs": [
    {
     "data": {
      "image/png": "[encoded data removed]",
      "text/plain": [
       "<Figure size 432x288 with 1 Axes>"
      ]
     },
     "metadata": {
      "needs_background": "light"
     },
     "output_type": "display_data"
    }
   ],
   "source": [
    "# Understanding Tags :\n",
    "sns.countplot(x = \"Tags\", hue = \"Converted\", data = Leads_1_excl)\n",
    "plt.xticks(rotation = 90)\n",
    "plt.show()"
   ]
  },
  {
   "cell_type": "code",
   "execution_count": 394,
   "id": "2f758f54",
   "metadata": {},
   "outputs": [],
   "source": [
    "# Inference :\n",
    "# What we infer from the above the plot is that 'Will Revert after reading the email' have high conversion and we should focus more on the leads."
   ]
  },
  {
   "cell_type": "code",
   "execution_count": 395,
   "id": "7ad26edf",
   "metadata": {},
   "outputs": [
    {
     "data": {
      "image/png": "[encoded data removed]",
      "text/plain": [
       "<Figure size 432x288 with 1 Axes>"
      ]
     },
     "metadata": {
      "needs_background": "light"
     },
     "output_type": "display_data"
    }
   ],
   "source": [
    "# Understanding the 'A free copy of Mastering The Interview' :\n",
    "sns.countplot(x = \"A free copy of Mastering The Interview\", hue = \"Converted\", data = Leads_1_excl)\n",
    "plt.xticks(rotation = 90)\n",
    "plt.show()"
   ]
  },
  {
   "cell_type": "code",
   "execution_count": 396,
   "id": "e5519e09",
   "metadata": {},
   "outputs": [],
   "source": [
    "# Inference :\n",
    "# What we can infer from the above plot is that more leads are from those who do not ask for free copy of mastering interviews so focus should be more on the conversion."
   ]
  },
  {
   "cell_type": "code",
   "execution_count": 397,
   "id": "aef2b66d",
   "metadata": {},
   "outputs": [
    {
     "data": {
      "image/png": "[encoded data removed]",
      "text/plain": [
       "<Figure size 432x288 with 1 Axes>"
      ]
     },
     "metadata": {
      "needs_background": "light"
     },
     "output_type": "display_data"
    }
   ],
   "source": [
    "# Understanding 'Last Notable Activity' :\n",
    "sns.countplot(x = \"Last Notable Activity\", hue = \"Converted\", data = Leads_1_excl)\n",
    "plt.xticks(rotation = 90)\n",
    "plt.show()"
   ]
  },
  {
   "cell_type": "code",
   "execution_count": 398,
   "id": "01ded856",
   "metadata": {},
   "outputs": [],
   "source": [
    "# Inference :\n",
    "# What we can infer from the above plots is that More leads are from those who have modified their account or opened email. Focus should be on their conversion"
   ]
  },
  {
   "cell_type": "code",
   "execution_count": 399,
   "id": "e7f7b9e5",
   "metadata": {},
   "outputs": [
    {
     "data": {
      "image/png": "[encoded data removed]",
      "text/plain": [
       "<Figure size 432x288 with 2 Axes>"
      ]
     },
     "metadata": {
      "needs_background": "light"
     },
     "output_type": "display_data"
    }
   ],
   "source": [
    "# Understanding 'umerical columns (TotalVisits, Total Time Spent on Website, Page Views Per Visit, Converted)\n",
    "sns.heatmap(Leads_1_excl.corr(),annot=True)\n",
    "plt.show()"
   ]
  },
  {
   "cell_type": "code",
   "execution_count": 400,
   "id": "a3a1f662",
   "metadata": {},
   "outputs": [],
   "source": [
    "# Inference :\n",
    "# Since we have used the Heatmap for this data, we can infer that there is a strong correlation between TotalVisit and Page Views Per Visit.\n",
    "# We can also infer from the above Heatmap , Coverted has a good corelation with total time spent on website ."
   ]
  },
  {
   "cell_type": "code",
   "execution_count": 401,
   "id": "09339a44",
   "metadata": {},
   "outputs": [],
   "source": [
    "# Let's now Create an Outlier Treatment for the Numerical Columns :\n",
    "# We can see that the data for the Treatment comes from the following :\n",
    "# 1.TotalVisits\n",
    "# 2.Total Time Spent on Website\n",
    "# 3.Page Views Per Visit"
   ]
  },
  {
   "cell_type": "code",
   "execution_count": 402,
   "id": "f3527ff4",
   "metadata": {},
   "outputs": [],
   "source": [
    "Num_cols_1 = Leads_1_excl[['TotalVisits', 'Total Time Spent on Website', 'Page Views Per Visit']]"
   ]
  },
  {
   "cell_type": "code",
   "execution_count": 403,
   "id": "85d678a1",
   "metadata": {},
   "outputs": [
    {
     "data": {
      "image/png": "[encoded data removed]",
      "text/plain": [
       "<Figure size 720x720 with 3 Axes>"
      ]
     },
     "metadata": {
      "needs_background": "light"
     },
     "output_type": "display_data"
    }
   ],
   "source": [
    "plt.figure(figsize=(10,10))\n",
    "\n",
    "for i in enumerate(Num_cols_1):\n",
    "    plt.subplot(3,3,i[0]+1)\n",
    "    sns.boxplot(Leads_1_excl[i[1]])\n",
    "    plt.title(\"Plot \"+str(i[0]+1)+\": \"+i[1])\n",
    "plt.subplots_adjust(wspace=1,hspace=0.2)\n",
    "    \n",
    "plt.show()"
   ]
  },
  {
   "cell_type": "code",
   "execution_count": 404,
   "id": "1fbc39ae",
   "metadata": {},
   "outputs": [
    {
     "name": "stdout",
     "output_type": "stream",
     "text": [
      "TotalVisits                       6.0\n",
      "Total Time Spent on Website    1386.0\n",
      "Page Views Per Visit              3.0\n",
      "dtype: float64\n"
     ]
    }
   ],
   "source": [
    "P1=Num_cols_1.quantile(.25)\n",
    "P3=Num_cols_1.quantile(.75)\n",
    "IQR=P3-P1\n",
    "print(IQR*1.5)"
   ]
  },
  {
   "cell_type": "code",
   "execution_count": 405,
   "id": "f11409fe",
   "metadata": {},
   "outputs": [
    {
     "name": "stdout",
     "output_type": "stream",
     "text": [
      "TotalVisits                      11.0\n",
      "Total Time Spent on Website    2322.0\n",
      "Page Views Per Visit              6.0\n",
      "dtype: float64\n"
     ]
    }
   ],
   "source": [
    "print(P3+IQR*1.5)"
   ]
  },
  {
   "cell_type": "code",
   "execution_count": 406,
   "id": "2aabfed4",
   "metadata": {},
   "outputs": [],
   "source": [
    "# Now we can Impute the outliers in TotalVisits and Page Views Per Visit with 1.5*IQR :\n",
    "Leads_1_excl.loc[Leads_1_excl['TotalVisits'] > 11, 'TotalVisits'] = 6\n",
    "Leads_1_excl.loc[Leads_1_excl['Page Views Per Visit'] > 6, 'Page Views Per Visit'] = 3"
   ]
  },
  {
   "cell_type": "code",
   "execution_count": 407,
   "id": "6a0304aa",
   "metadata": {},
   "outputs": [
    {
     "data": {
      "text/plain": [
       "(9240, 13)"
      ]
     },
     "execution_count": 407,
     "metadata": {},
     "output_type": "execute_result"
    }
   ],
   "source": [
    "Leads_1_excl.shape"
   ]
  },
  {
   "cell_type": "code",
   "execution_count": 408,
   "id": "ce759e76",
   "metadata": {},
   "outputs": [
    {
     "name": "stdout",
     "output_type": "stream",
     "text": [
      "<class 'pandas.core.frame.DataFrame'>\n",
      "RangeIndex: 9240 entries, 0 to 9239\n",
      "Data columns (total 13 columns):\n",
      " #   Column                                  Non-Null Count  Dtype  \n",
      "---  ------                                  --------------  -----  \n",
      " 0   Lead Origin                             9240 non-null   object \n",
      " 1   Lead Source                             9240 non-null   object \n",
      " 2   Converted                               9240 non-null   int64  \n",
      " 3   TotalVisits                             9240 non-null   float64\n",
      " 4   Total Time Spent on Website             9240 non-null   int64  \n",
      " 5   Page Views Per Visit                    9240 non-null   float64\n",
      " 6   Last Activity                           9240 non-null   object \n",
      " 7   Specialization                          9240 non-null   object \n",
      " 8   What is your current occupation         9240 non-null   object \n",
      " 9   Tags                                    9240 non-null   object \n",
      " 10  City                                    9240 non-null   object \n",
      " 11  A free copy of Mastering The Interview  9240 non-null   object \n",
      " 12  Last Notable Activity                   9240 non-null   object \n",
      "dtypes: float64(2), int64(2), object(9)\n",
      "memory usage: 938.6+ KB\n"
     ]
    }
   ],
   "source": [
    "Leads_1_excl.info()"
   ]
  },
  {
   "cell_type": "code",
   "execution_count": 409,
   "id": "1f6b7578",
   "metadata": {},
   "outputs": [
    {
     "data": {
      "text/html": [
       "<div>\n",
       "<style scoped>\n",
       "    .dataframe tbody tr th:only-of-type {\n",
       "        vertical-align: middle;\n",
       "    }\n",
       "\n",
       "    .dataframe tbody tr th {\n",
       "        vertical-align: top;\n",
       "    }\n",
       "\n",
       "    .dataframe thead th {\n",
       "        text-align: right;\n",
       "    }\n",
       "</style>\n",
       "<table border=\"1\" class=\"dataframe\">\n",
       "  <thead>\n",
       "    <tr style=\"text-align: right;\">\n",
       "      <th></th>\n",
       "      <th>Lead Origin</th>\n",
       "      <th>Lead Source</th>\n",
       "      <th>Converted</th>\n",
       "      <th>TotalVisits</th>\n",
       "      <th>Total Time Spent on Website</th>\n",
       "      <th>Page Views Per Visit</th>\n",
       "      <th>Last Activity</th>\n",
       "      <th>Specialization</th>\n",
       "      <th>What is your current occupation</th>\n",
       "      <th>Tags</th>\n",
       "      <th>City</th>\n",
       "      <th>A free copy of Mastering The Interview</th>\n",
       "      <th>Last Notable Activity</th>\n",
       "    </tr>\n",
       "  </thead>\n",
       "  <tbody>\n",
       "    <tr>\n",
       "      <th>0</th>\n",
       "      <td>API</td>\n",
       "      <td>Olark Chat</td>\n",
       "      <td>0</td>\n",
       "      <td>0.0</td>\n",
       "      <td>0</td>\n",
       "      <td>0.0</td>\n",
       "      <td>Page Visited on Website</td>\n",
       "      <td>Others</td>\n",
       "      <td>Unemployed</td>\n",
       "      <td>Interested in other courses</td>\n",
       "      <td>Others</td>\n",
       "      <td>No</td>\n",
       "      <td>Modified</td>\n",
       "    </tr>\n",
       "    <tr>\n",
       "      <th>1</th>\n",
       "      <td>API</td>\n",
       "      <td>Organic Search</td>\n",
       "      <td>0</td>\n",
       "      <td>5.0</td>\n",
       "      <td>674</td>\n",
       "      <td>2.5</td>\n",
       "      <td>Email Opened</td>\n",
       "      <td>Others</td>\n",
       "      <td>Unemployed</td>\n",
       "      <td>Ringing</td>\n",
       "      <td>Others</td>\n",
       "      <td>No</td>\n",
       "      <td>Email Opened</td>\n",
       "    </tr>\n",
       "    <tr>\n",
       "      <th>2</th>\n",
       "      <td>Landing Page Submission</td>\n",
       "      <td>Direct Traffic</td>\n",
       "      <td>1</td>\n",
       "      <td>2.0</td>\n",
       "      <td>1532</td>\n",
       "      <td>2.0</td>\n",
       "      <td>Email Opened</td>\n",
       "      <td>Business Administration</td>\n",
       "      <td>Student</td>\n",
       "      <td>Will revert after reading the email</td>\n",
       "      <td>Mumbai</td>\n",
       "      <td>Yes</td>\n",
       "      <td>Email Opened</td>\n",
       "    </tr>\n",
       "    <tr>\n",
       "      <th>3</th>\n",
       "      <td>Landing Page Submission</td>\n",
       "      <td>Direct Traffic</td>\n",
       "      <td>0</td>\n",
       "      <td>1.0</td>\n",
       "      <td>305</td>\n",
       "      <td>1.0</td>\n",
       "      <td>Others</td>\n",
       "      <td>Media and Advertising</td>\n",
       "      <td>Unemployed</td>\n",
       "      <td>Ringing</td>\n",
       "      <td>Mumbai</td>\n",
       "      <td>No</td>\n",
       "      <td>Modified</td>\n",
       "    </tr>\n",
       "    <tr>\n",
       "      <th>4</th>\n",
       "      <td>Landing Page Submission</td>\n",
       "      <td>Google</td>\n",
       "      <td>1</td>\n",
       "      <td>2.0</td>\n",
       "      <td>1428</td>\n",
       "      <td>1.0</td>\n",
       "      <td>Converted to Lead</td>\n",
       "      <td>Others</td>\n",
       "      <td>Unemployed</td>\n",
       "      <td>Will revert after reading the email</td>\n",
       "      <td>Mumbai</td>\n",
       "      <td>No</td>\n",
       "      <td>Modified</td>\n",
       "    </tr>\n",
       "  </tbody>\n",
       "</table>\n",
       "</div>"
      ],
      "text/plain": [
       "               Lead Origin     Lead Source  Converted  TotalVisits  \\\n",
       "0                      API      Olark Chat          0          0.0   \n",
       "1                      API  Organic Search          0          5.0   \n",
       "2  Landing Page Submission  Direct Traffic          1          2.0   \n",
       "3  Landing Page Submission  Direct Traffic          0          1.0   \n",
       "4  Landing Page Submission          Google          1          2.0   \n",
       "\n",
       "   Total Time Spent on Website  Page Views Per Visit            Last Activity  \\\n",
       "0                            0                   0.0  Page Visited on Website   \n",
       "1                          674                   2.5             Email Opened   \n",
       "2                         1532                   2.0             Email Opened   \n",
       "3                          305                   1.0                   Others   \n",
       "4                         1428                   1.0        Converted to Lead   \n",
       "\n",
       "            Specialization What is your current occupation  \\\n",
       "0                   Others                      Unemployed   \n",
       "1                   Others                      Unemployed   \n",
       "2  Business Administration                         Student   \n",
       "3    Media and Advertising                      Unemployed   \n",
       "4                   Others                      Unemployed   \n",
       "\n",
       "                                  Tags    City  \\\n",
       "0          Interested in other courses  Others   \n",
       "1                              Ringing  Others   \n",
       "2  Will revert after reading the email  Mumbai   \n",
       "3                              Ringing  Mumbai   \n",
       "4  Will revert after reading the email  Mumbai   \n",
       "\n",
       "  A free copy of Mastering The Interview Last Notable Activity  \n",
       "0                                     No              Modified  \n",
       "1                                     No          Email Opened  \n",
       "2                                    Yes          Email Opened  \n",
       "3                                     No              Modified  \n",
       "4                                     No              Modified  "
      ]
     },
     "execution_count": 409,
     "metadata": {},
     "output_type": "execute_result"
    }
   ],
   "source": [
    "Leads_1_excl.head()"
   ]
  },
  {
   "cell_type": "code",
   "execution_count": 410,
   "id": "f8dcb092",
   "metadata": {},
   "outputs": [
    {
     "data": {
      "text/plain": [
       "0    6352\n",
       "1    2888\n",
       "Name: A free copy of Mastering The Interview, dtype: int64"
      ]
     },
     "execution_count": 410,
     "metadata": {},
     "output_type": "execute_result"
    }
   ],
   "source": [
    "# Let's now create a Dummy Variable for 'A free copy of Mastering The Interview':\n",
    "Leads_1_excl['A free copy of Mastering The Interview'] = Leads_1_excl['A free copy of Mastering The Interview'].map({'No':0,'Yes':1})\n",
    "Leads_1_excl['A free copy of Mastering The Interview'].value_counts()"
   ]
  },
  {
   "cell_type": "code",
   "execution_count": 411,
   "id": "17d80d27",
   "metadata": {},
   "outputs": [
    {
     "data": {
      "text/html": [
       "<div>\n",
       "<style scoped>\n",
       "    .dataframe tbody tr th:only-of-type {\n",
       "        vertical-align: middle;\n",
       "    }\n",
       "\n",
       "    .dataframe tbody tr th {\n",
       "        vertical-align: top;\n",
       "    }\n",
       "\n",
       "    .dataframe thead th {\n",
       "        text-align: right;\n",
       "    }\n",
       "</style>\n",
       "<table border=\"1\" class=\"dataframe\">\n",
       "  <thead>\n",
       "    <tr style=\"text-align: right;\">\n",
       "      <th></th>\n",
       "      <th>Converted</th>\n",
       "      <th>TotalVisits</th>\n",
       "      <th>Total Time Spent on Website</th>\n",
       "      <th>Page Views Per Visit</th>\n",
       "      <th>A free copy of Mastering The Interview</th>\n",
       "      <th>Lead Origin_Landing Page Submission</th>\n",
       "      <th>Lead Origin_Lead Add Form</th>\n",
       "      <th>Lead Origin_Lead Import</th>\n",
       "      <th>Lead Origin_Quick Add Form</th>\n",
       "      <th>Lead Source_Google</th>\n",
       "      <th>Lead Source_Olark Chat</th>\n",
       "      <th>Lead Source_Organic Search</th>\n",
       "      <th>Lead Source_Others</th>\n",
       "      <th>Lead Source_Reference</th>\n",
       "      <th>Lead Source_Referral Sites</th>\n",
       "      <th>Lead Source_Welingak Website</th>\n",
       "      <th>Last Activity_Email Bounced</th>\n",
       "      <th>Last Activity_Email Link Clicked</th>\n",
       "      <th>Last Activity_Email Opened</th>\n",
       "      <th>Last Activity_Form Submitted on Website</th>\n",
       "      <th>Last Activity_Olark Chat Conversation</th>\n",
       "      <th>Last Activity_Others</th>\n",
       "      <th>Last Activity_Page Visited on Website</th>\n",
       "      <th>Last Activity_SMS Sent</th>\n",
       "      <th>Specialization_Business Administration</th>\n",
       "      <th>Specialization_E-COMMERCE</th>\n",
       "      <th>Specialization_Finance Management</th>\n",
       "      <th>Specialization_Healthcare Management</th>\n",
       "      <th>Specialization_Hospitality Management</th>\n",
       "      <th>Specialization_Human Resource Management</th>\n",
       "      <th>Specialization_IT Projects Management</th>\n",
       "      <th>Specialization_International Business</th>\n",
       "      <th>Specialization_Marketing Management</th>\n",
       "      <th>Specialization_Media and Advertising</th>\n",
       "      <th>Specialization_Operations Management</th>\n",
       "      <th>Specialization_Others</th>\n",
       "      <th>Specialization_Retail Management</th>\n",
       "      <th>Specialization_Supply Chain Management</th>\n",
       "      <th>Specialization_Travel and Tourism</th>\n",
       "      <th>What is your current occupation_Housewife</th>\n",
       "      <th>What is your current occupation_Other</th>\n",
       "      <th>What is your current occupation_Student</th>\n",
       "      <th>What is your current occupation_Unemployed</th>\n",
       "      <th>What is your current occupation_Working Professional</th>\n",
       "      <th>Tags_Interested in other courses</th>\n",
       "      <th>Tags_Others</th>\n",
       "      <th>Tags_Ringing</th>\n",
       "      <th>Tags_Will revert after reading the email</th>\n",
       "      <th>City_Others</th>\n",
       "      <th>City_Thane &amp; Outskirts</th>\n",
       "      <th>Last Notable Activity_Email Opened</th>\n",
       "      <th>Last Notable Activity_Modified</th>\n",
       "      <th>Last Notable Activity_Olark Chat Conversation</th>\n",
       "      <th>Last Notable Activity_Others</th>\n",
       "      <th>Last Notable Activity_Page Visited on Website</th>\n",
       "      <th>Last Notable Activity_SMS Sent</th>\n",
       "    </tr>\n",
       "  </thead>\n",
       "  <tbody>\n",
       "    <tr>\n",
       "      <th>0</th>\n",
       "      <td>0</td>\n",
       "      <td>0.0</td>\n",
       "      <td>0</td>\n",
       "      <td>0.0</td>\n",
       "      <td>0</td>\n",
       "      <td>0</td>\n",
       "      <td>0</td>\n",
       "      <td>0</td>\n",
       "      <td>0</td>\n",
       "      <td>0</td>\n",
       "      <td>1</td>\n",
       "      <td>0</td>\n",
       "      <td>0</td>\n",
       "      <td>0</td>\n",
       "      <td>0</td>\n",
       "      <td>0</td>\n",
       "      <td>0</td>\n",
       "      <td>0</td>\n",
       "      <td>0</td>\n",
       "      <td>0</td>\n",
       "      <td>0</td>\n",
       "      <td>0</td>\n",
       "      <td>1</td>\n",
       "      <td>0</td>\n",
       "      <td>0</td>\n",
       "      <td>0</td>\n",
       "      <td>0</td>\n",
       "      <td>0</td>\n",
       "      <td>0</td>\n",
       "      <td>0</td>\n",
       "      <td>0</td>\n",
       "      <td>0</td>\n",
       "      <td>0</td>\n",
       "      <td>0</td>\n",
       "      <td>0</td>\n",
       "      <td>1</td>\n",
       "      <td>0</td>\n",
       "      <td>0</td>\n",
       "      <td>0</td>\n",
       "      <td>0</td>\n",
       "      <td>0</td>\n",
       "      <td>0</td>\n",
       "      <td>1</td>\n",
       "      <td>0</td>\n",
       "      <td>1</td>\n",
       "      <td>0</td>\n",
       "      <td>0</td>\n",
       "      <td>0</td>\n",
       "      <td>1</td>\n",
       "      <td>0</td>\n",
       "      <td>0</td>\n",
       "      <td>1</td>\n",
       "      <td>0</td>\n",
       "      <td>0</td>\n",
       "      <td>0</td>\n",
       "      <td>0</td>\n",
       "    </tr>\n",
       "    <tr>\n",
       "      <th>1</th>\n",
       "      <td>0</td>\n",
       "      <td>5.0</td>\n",
       "      <td>674</td>\n",
       "      <td>2.5</td>\n",
       "      <td>0</td>\n",
       "      <td>0</td>\n",
       "      <td>0</td>\n",
       "      <td>0</td>\n",
       "      <td>0</td>\n",
       "      <td>0</td>\n",
       "      <td>0</td>\n",
       "      <td>1</td>\n",
       "      <td>0</td>\n",
       "      <td>0</td>\n",
       "      <td>0</td>\n",
       "      <td>0</td>\n",
       "      <td>0</td>\n",
       "      <td>0</td>\n",
       "      <td>1</td>\n",
       "      <td>0</td>\n",
       "      <td>0</td>\n",
       "      <td>0</td>\n",
       "      <td>0</td>\n",
       "      <td>0</td>\n",
       "      <td>0</td>\n",
       "      <td>0</td>\n",
       "      <td>0</td>\n",
       "      <td>0</td>\n",
       "      <td>0</td>\n",
       "      <td>0</td>\n",
       "      <td>0</td>\n",
       "      <td>0</td>\n",
       "      <td>0</td>\n",
       "      <td>0</td>\n",
       "      <td>0</td>\n",
       "      <td>1</td>\n",
       "      <td>0</td>\n",
       "      <td>0</td>\n",
       "      <td>0</td>\n",
       "      <td>0</td>\n",
       "      <td>0</td>\n",
       "      <td>0</td>\n",
       "      <td>1</td>\n",
       "      <td>0</td>\n",
       "      <td>0</td>\n",
       "      <td>0</td>\n",
       "      <td>1</td>\n",
       "      <td>0</td>\n",
       "      <td>1</td>\n",
       "      <td>0</td>\n",
       "      <td>1</td>\n",
       "      <td>0</td>\n",
       "      <td>0</td>\n",
       "      <td>0</td>\n",
       "      <td>0</td>\n",
       "      <td>0</td>\n",
       "    </tr>\n",
       "    <tr>\n",
       "      <th>2</th>\n",
       "      <td>1</td>\n",
       "      <td>2.0</td>\n",
       "      <td>1532</td>\n",
       "      <td>2.0</td>\n",
       "      <td>1</td>\n",
       "      <td>1</td>\n",
       "      <td>0</td>\n",
       "      <td>0</td>\n",
       "      <td>0</td>\n",
       "      <td>0</td>\n",
       "      <td>0</td>\n",
       "      <td>0</td>\n",
       "      <td>0</td>\n",
       "      <td>0</td>\n",
       "      <td>0</td>\n",
       "      <td>0</td>\n",
       "      <td>0</td>\n",
       "      <td>0</td>\n",
       "      <td>1</td>\n",
       "      <td>0</td>\n",
       "      <td>0</td>\n",
       "      <td>0</td>\n",
       "      <td>0</td>\n",
       "      <td>0</td>\n",
       "      <td>1</td>\n",
       "      <td>0</td>\n",
       "      <td>0</td>\n",
       "      <td>0</td>\n",
       "      <td>0</td>\n",
       "      <td>0</td>\n",
       "      <td>0</td>\n",
       "      <td>0</td>\n",
       "      <td>0</td>\n",
       "      <td>0</td>\n",
       "      <td>0</td>\n",
       "      <td>0</td>\n",
       "      <td>0</td>\n",
       "      <td>0</td>\n",
       "      <td>0</td>\n",
       "      <td>0</td>\n",
       "      <td>0</td>\n",
       "      <td>1</td>\n",
       "      <td>0</td>\n",
       "      <td>0</td>\n",
       "      <td>0</td>\n",
       "      <td>0</td>\n",
       "      <td>0</td>\n",
       "      <td>1</td>\n",
       "      <td>0</td>\n",
       "      <td>0</td>\n",
       "      <td>1</td>\n",
       "      <td>0</td>\n",
       "      <td>0</td>\n",
       "      <td>0</td>\n",
       "      <td>0</td>\n",
       "      <td>0</td>\n",
       "    </tr>\n",
       "    <tr>\n",
       "      <th>3</th>\n",
       "      <td>0</td>\n",
       "      <td>1.0</td>\n",
       "      <td>305</td>\n",
       "      <td>1.0</td>\n",
       "      <td>0</td>\n",
       "      <td>1</td>\n",
       "      <td>0</td>\n",
       "      <td>0</td>\n",
       "      <td>0</td>\n",
       "      <td>0</td>\n",
       "      <td>0</td>\n",
       "      <td>0</td>\n",
       "      <td>0</td>\n",
       "      <td>0</td>\n",
       "      <td>0</td>\n",
       "      <td>0</td>\n",
       "      <td>0</td>\n",
       "      <td>0</td>\n",
       "      <td>0</td>\n",
       "      <td>0</td>\n",
       "      <td>0</td>\n",
       "      <td>1</td>\n",
       "      <td>0</td>\n",
       "      <td>0</td>\n",
       "      <td>0</td>\n",
       "      <td>0</td>\n",
       "      <td>0</td>\n",
       "      <td>0</td>\n",
       "      <td>0</td>\n",
       "      <td>0</td>\n",
       "      <td>0</td>\n",
       "      <td>0</td>\n",
       "      <td>0</td>\n",
       "      <td>1</td>\n",
       "      <td>0</td>\n",
       "      <td>0</td>\n",
       "      <td>0</td>\n",
       "      <td>0</td>\n",
       "      <td>0</td>\n",
       "      <td>0</td>\n",
       "      <td>0</td>\n",
       "      <td>0</td>\n",
       "      <td>1</td>\n",
       "      <td>0</td>\n",
       "      <td>0</td>\n",
       "      <td>0</td>\n",
       "      <td>1</td>\n",
       "      <td>0</td>\n",
       "      <td>0</td>\n",
       "      <td>0</td>\n",
       "      <td>0</td>\n",
       "      <td>1</td>\n",
       "      <td>0</td>\n",
       "      <td>0</td>\n",
       "      <td>0</td>\n",
       "      <td>0</td>\n",
       "    </tr>\n",
       "    <tr>\n",
       "      <th>4</th>\n",
       "      <td>1</td>\n",
       "      <td>2.0</td>\n",
       "      <td>1428</td>\n",
       "      <td>1.0</td>\n",
       "      <td>0</td>\n",
       "      <td>1</td>\n",
       "      <td>0</td>\n",
       "      <td>0</td>\n",
       "      <td>0</td>\n",
       "      <td>1</td>\n",
       "      <td>0</td>\n",
       "      <td>0</td>\n",
       "      <td>0</td>\n",
       "      <td>0</td>\n",
       "      <td>0</td>\n",
       "      <td>0</td>\n",
       "      <td>0</td>\n",
       "      <td>0</td>\n",
       "      <td>0</td>\n",
       "      <td>0</td>\n",
       "      <td>0</td>\n",
       "      <td>0</td>\n",
       "      <td>0</td>\n",
       "      <td>0</td>\n",
       "      <td>0</td>\n",
       "      <td>0</td>\n",
       "      <td>0</td>\n",
       "      <td>0</td>\n",
       "      <td>0</td>\n",
       "      <td>0</td>\n",
       "      <td>0</td>\n",
       "      <td>0</td>\n",
       "      <td>0</td>\n",
       "      <td>0</td>\n",
       "      <td>0</td>\n",
       "      <td>1</td>\n",
       "      <td>0</td>\n",
       "      <td>0</td>\n",
       "      <td>0</td>\n",
       "      <td>0</td>\n",
       "      <td>0</td>\n",
       "      <td>0</td>\n",
       "      <td>1</td>\n",
       "      <td>0</td>\n",
       "      <td>0</td>\n",
       "      <td>0</td>\n",
       "      <td>0</td>\n",
       "      <td>1</td>\n",
       "      <td>0</td>\n",
       "      <td>0</td>\n",
       "      <td>0</td>\n",
       "      <td>1</td>\n",
       "      <td>0</td>\n",
       "      <td>0</td>\n",
       "      <td>0</td>\n",
       "      <td>0</td>\n",
       "    </tr>\n",
       "  </tbody>\n",
       "</table>\n",
       "</div>"
      ],
      "text/plain": [
       "   Converted  TotalVisits  Total Time Spent on Website  Page Views Per Visit  \\\n",
       "0          0          0.0                            0                   0.0   \n",
       "1          0          5.0                          674                   2.5   \n",
       "2          1          2.0                         1532                   2.0   \n",
       "3          0          1.0                          305                   1.0   \n",
       "4          1          2.0                         1428                   1.0   \n",
       "\n",
       "   A free copy of Mastering The Interview  \\\n",
       "0                                       0   \n",
       "1                                       0   \n",
       "2                                       1   \n",
       "3                                       0   \n",
       "4                                       0   \n",
       "\n",
       "   Lead Origin_Landing Page Submission  Lead Origin_Lead Add Form  \\\n",
       "0                                    0                          0   \n",
       "1                                    0                          0   \n",
       "2                                    1                          0   \n",
       "3                                    1                          0   \n",
       "4                                    1                          0   \n",
       "\n",
       "   Lead Origin_Lead Import  Lead Origin_Quick Add Form  Lead Source_Google  \\\n",
       "0                        0                           0                   0   \n",
       "1                        0                           0                   0   \n",
       "2                        0                           0                   0   \n",
       "3                        0                           0                   0   \n",
       "4                        0                           0                   1   \n",
       "\n",
       "   Lead Source_Olark Chat  Lead Source_Organic Search  Lead Source_Others  \\\n",
       "0                       1                           0                   0   \n",
       "1                       0                           1                   0   \n",
       "2                       0                           0                   0   \n",
       "3                       0                           0                   0   \n",
       "4                       0                           0                   0   \n",
       "\n",
       "   Lead Source_Reference  Lead Source_Referral Sites  \\\n",
       "0                      0                           0   \n",
       "1                      0                           0   \n",
       "2                      0                           0   \n",
       "3                      0                           0   \n",
       "4                      0                           0   \n",
       "\n",
       "   Lead Source_Welingak Website  Last Activity_Email Bounced  \\\n",
       "0                             0                            0   \n",
       "1                             0                            0   \n",
       "2                             0                            0   \n",
       "3                             0                            0   \n",
       "4                             0                            0   \n",
       "\n",
       "   Last Activity_Email Link Clicked  Last Activity_Email Opened  \\\n",
       "0                                 0                           0   \n",
       "1                                 0                           1   \n",
       "2                                 0                           1   \n",
       "3                                 0                           0   \n",
       "4                                 0                           0   \n",
       "\n",
       "   Last Activity_Form Submitted on Website  \\\n",
       "0                                        0   \n",
       "1                                        0   \n",
       "2                                        0   \n",
       "3                                        0   \n",
       "4                                        0   \n",
       "\n",
       "   Last Activity_Olark Chat Conversation  Last Activity_Others  \\\n",
       "0                                      0                     0   \n",
       "1                                      0                     0   \n",
       "2                                      0                     0   \n",
       "3                                      0                     1   \n",
       "4                                      0                     0   \n",
       "\n",
       "   Last Activity_Page Visited on Website  Last Activity_SMS Sent  \\\n",
       "0                                      1                       0   \n",
       "1                                      0                       0   \n",
       "2                                      0                       0   \n",
       "3                                      0                       0   \n",
       "4                                      0                       0   \n",
       "\n",
       "   Specialization_Business Administration  Specialization_E-COMMERCE  \\\n",
       "0                                       0                          0   \n",
       "1                                       0                          0   \n",
       "2                                       1                          0   \n",
       "3                                       0                          0   \n",
       "4                                       0                          0   \n",
       "\n",
       "   Specialization_Finance Management  Specialization_Healthcare Management  \\\n",
       "0                                  0                                     0   \n",
       "1                                  0                                     0   \n",
       "2                                  0                                     0   \n",
       "3                                  0                                     0   \n",
       "4                                  0                                     0   \n",
       "\n",
       "   Specialization_Hospitality Management  \\\n",
       "0                                      0   \n",
       "1                                      0   \n",
       "2                                      0   \n",
       "3                                      0   \n",
       "4                                      0   \n",
       "\n",
       "   Specialization_Human Resource Management  \\\n",
       "0                                         0   \n",
       "1                                         0   \n",
       "2                                         0   \n",
       "3                                         0   \n",
       "4                                         0   \n",
       "\n",
       "   Specialization_IT Projects Management  \\\n",
       "0                                      0   \n",
       "1                                      0   \n",
       "2                                      0   \n",
       "3                                      0   \n",
       "4                                      0   \n",
       "\n",
       "   Specialization_International Business  Specialization_Marketing Management  \\\n",
       "0                                      0                                    0   \n",
       "1                                      0                                    0   \n",
       "2                                      0                                    0   \n",
       "3                                      0                                    0   \n",
       "4                                      0                                    0   \n",
       "\n",
       "   Specialization_Media and Advertising  Specialization_Operations Management  \\\n",
       "0                                     0                                     0   \n",
       "1                                     0                                     0   \n",
       "2                                     0                                     0   \n",
       "3                                     1                                     0   \n",
       "4                                     0                                     0   \n",
       "\n",
       "   Specialization_Others  Specialization_Retail Management  \\\n",
       "0                      1                                 0   \n",
       "1                      1                                 0   \n",
       "2                      0                                 0   \n",
       "3                      0                                 0   \n",
       "4                      1                                 0   \n",
       "\n",
       "   Specialization_Supply Chain Management  Specialization_Travel and Tourism  \\\n",
       "0                                       0                                  0   \n",
       "1                                       0                                  0   \n",
       "2                                       0                                  0   \n",
       "3                                       0                                  0   \n",
       "4                                       0                                  0   \n",
       "\n",
       "   What is your current occupation_Housewife  \\\n",
       "0                                          0   \n",
       "1                                          0   \n",
       "2                                          0   \n",
       "3                                          0   \n",
       "4                                          0   \n",
       "\n",
       "   What is your current occupation_Other  \\\n",
       "0                                      0   \n",
       "1                                      0   \n",
       "2                                      0   \n",
       "3                                      0   \n",
       "4                                      0   \n",
       "\n",
       "   What is your current occupation_Student  \\\n",
       "0                                        0   \n",
       "1                                        0   \n",
       "2                                        1   \n",
       "3                                        0   \n",
       "4                                        0   \n",
       "\n",
       "   What is your current occupation_Unemployed  \\\n",
       "0                                           1   \n",
       "1                                           1   \n",
       "2                                           0   \n",
       "3                                           1   \n",
       "4                                           1   \n",
       "\n",
       "   What is your current occupation_Working Professional  \\\n",
       "0                                                  0      \n",
       "1                                                  0      \n",
       "2                                                  0      \n",
       "3                                                  0      \n",
       "4                                                  0      \n",
       "\n",
       "   Tags_Interested in other courses  Tags_Others  Tags_Ringing  \\\n",
       "0                                 1            0             0   \n",
       "1                                 0            0             1   \n",
       "2                                 0            0             0   \n",
       "3                                 0            0             1   \n",
       "4                                 0            0             0   \n",
       "\n",
       "   Tags_Will revert after reading the email  City_Others  \\\n",
       "0                                         0            1   \n",
       "1                                         0            1   \n",
       "2                                         1            0   \n",
       "3                                         0            0   \n",
       "4                                         1            0   \n",
       "\n",
       "   City_Thane & Outskirts  Last Notable Activity_Email Opened  \\\n",
       "0                       0                                   0   \n",
       "1                       0                                   1   \n",
       "2                       0                                   1   \n",
       "3                       0                                   0   \n",
       "4                       0                                   0   \n",
       "\n",
       "   Last Notable Activity_Modified  \\\n",
       "0                               1   \n",
       "1                               0   \n",
       "2                               0   \n",
       "3                               1   \n",
       "4                               1   \n",
       "\n",
       "   Last Notable Activity_Olark Chat Conversation  \\\n",
       "0                                              0   \n",
       "1                                              0   \n",
       "2                                              0   \n",
       "3                                              0   \n",
       "4                                              0   \n",
       "\n",
       "   Last Notable Activity_Others  \\\n",
       "0                             0   \n",
       "1                             0   \n",
       "2                             0   \n",
       "3                             0   \n",
       "4                             0   \n",
       "\n",
       "   Last Notable Activity_Page Visited on Website  \\\n",
       "0                                              0   \n",
       "1                                              0   \n",
       "2                                              0   \n",
       "3                                              0   \n",
       "4                                              0   \n",
       "\n",
       "   Last Notable Activity_SMS Sent  \n",
       "0                               0  \n",
       "1                               0  \n",
       "2                               0  \n",
       "3                               0  \n",
       "4                               0  "
      ]
     },
     "execution_count": 411,
     "metadata": {},
     "output_type": "execute_result"
    }
   ],
   "source": [
    "Leads_1_excl = pd.get_dummies(Leads_1_excl, drop_first=True)\n",
    "Leads_1_excl.head()"
   ]
  },
  {
   "cell_type": "code",
   "execution_count": 412,
   "id": "718b96ea",
   "metadata": {},
   "outputs": [
    {
     "name": "stdout",
     "output_type": "stream",
     "text": [
      "<class 'pandas.core.frame.DataFrame'>\n",
      "RangeIndex: 9240 entries, 0 to 9239\n",
      "Data columns (total 56 columns):\n",
      " #   Column                                                Non-Null Count  Dtype  \n",
      "---  ------                                                --------------  -----  \n",
      " 0   Converted                                             9240 non-null   int64  \n",
      " 1   TotalVisits                                           9240 non-null   float64\n",
      " 2   Total Time Spent on Website                           9240 non-null   int64  \n",
      " 3   Page Views Per Visit                                  9240 non-null   float64\n",
      " 4   A free copy of Mastering The Interview                9240 non-null   int64  \n",
      " 5   Lead Origin_Landing Page Submission                   9240 non-null   uint8  \n",
      " 6   Lead Origin_Lead Add Form                             9240 non-null   uint8  \n",
      " 7   Lead Origin_Lead Import                               9240 non-null   uint8  \n",
      " 8   Lead Origin_Quick Add Form                            9240 non-null   uint8  \n",
      " 9   Lead Source_Google                                    9240 non-null   uint8  \n",
      " 10  Lead Source_Olark Chat                                9240 non-null   uint8  \n",
      " 11  Lead Source_Organic Search                            9240 non-null   uint8  \n",
      " 12  Lead Source_Others                                    9240 non-null   uint8  \n",
      " 13  Lead Source_Reference                                 9240 non-null   uint8  \n",
      " 14  Lead Source_Referral Sites                            9240 non-null   uint8  \n",
      " 15  Lead Source_Welingak Website                          9240 non-null   uint8  \n",
      " 16  Last Activity_Email Bounced                           9240 non-null   uint8  \n",
      " 17  Last Activity_Email Link Clicked                      9240 non-null   uint8  \n",
      " 18  Last Activity_Email Opened                            9240 non-null   uint8  \n",
      " 19  Last Activity_Form Submitted on Website               9240 non-null   uint8  \n",
      " 20  Last Activity_Olark Chat Conversation                 9240 non-null   uint8  \n",
      " 21  Last Activity_Others                                  9240 non-null   uint8  \n",
      " 22  Last Activity_Page Visited on Website                 9240 non-null   uint8  \n",
      " 23  Last Activity_SMS Sent                                9240 non-null   uint8  \n",
      " 24  Specialization_Business Administration                9240 non-null   uint8  \n",
      " 25  Specialization_E-COMMERCE                             9240 non-null   uint8  \n",
      " 26  Specialization_Finance Management                     9240 non-null   uint8  \n",
      " 27  Specialization_Healthcare Management                  9240 non-null   uint8  \n",
      " 28  Specialization_Hospitality Management                 9240 non-null   uint8  \n",
      " 29  Specialization_Human Resource Management              9240 non-null   uint8  \n",
      " 30  Specialization_IT Projects Management                 9240 non-null   uint8  \n",
      " 31  Specialization_International Business                 9240 non-null   uint8  \n",
      " 32  Specialization_Marketing Management                   9240 non-null   uint8  \n",
      " 33  Specialization_Media and Advertising                  9240 non-null   uint8  \n",
      " 34  Specialization_Operations Management                  9240 non-null   uint8  \n",
      " 35  Specialization_Others                                 9240 non-null   uint8  \n",
      " 36  Specialization_Retail Management                      9240 non-null   uint8  \n",
      " 37  Specialization_Supply Chain Management                9240 non-null   uint8  \n",
      " 38  Specialization_Travel and Tourism                     9240 non-null   uint8  \n",
      " 39  What is your current occupation_Housewife             9240 non-null   uint8  \n",
      " 40  What is your current occupation_Other                 9240 non-null   uint8  \n",
      " 41  What is your current occupation_Student               9240 non-null   uint8  \n",
      " 42  What is your current occupation_Unemployed            9240 non-null   uint8  \n",
      " 43  What is your current occupation_Working Professional  9240 non-null   uint8  \n",
      " 44  Tags_Interested in other courses                      9240 non-null   uint8  \n",
      " 45  Tags_Others                                           9240 non-null   uint8  \n",
      " 46  Tags_Ringing                                          9240 non-null   uint8  \n",
      " 47  Tags_Will revert after reading the email              9240 non-null   uint8  \n",
      " 48  City_Others                                           9240 non-null   uint8  \n",
      " 49  City_Thane & Outskirts                                9240 non-null   uint8  \n",
      " 50  Last Notable Activity_Email Opened                    9240 non-null   uint8  \n",
      " 51  Last Notable Activity_Modified                        9240 non-null   uint8  \n",
      " 52  Last Notable Activity_Olark Chat Conversation         9240 non-null   uint8  \n",
      " 53  Last Notable Activity_Others                          9240 non-null   uint8  \n",
      " 54  Last Notable Activity_Page Visited on Website         9240 non-null   uint8  \n",
      " 55  Last Notable Activity_SMS Sent                        9240 non-null   uint8  \n",
      "dtypes: float64(2), int64(3), uint8(51)\n",
      "memory usage: 821.3 KB\n"
     ]
    }
   ],
   "source": [
    "Leads_1_excl.info()"
   ]
  },
  {
   "cell_type": "code",
   "execution_count": 413,
   "id": "d25ad6c6",
   "metadata": {},
   "outputs": [],
   "source": [
    "# Now we create a Train-Test Split :\n",
    "X=Leads_1_excl.drop('Converted',axis=1)\n",
    "y=Leads_1_excl.Converted\n",
    "\n",
    "X_train, X_test, y_train, y_test = train_test_split(X, y, train_size=0.7, test_size=0.3, random_state=100)"
   ]
  },
  {
   "cell_type": "code",
   "execution_count": 414,
   "id": "33ba8d93",
   "metadata": {},
   "outputs": [],
   "source": [
    "# Scaling the above Test Split :\n",
    "to_scale_1=['TotalVisits','Total Time Spent on Website']\n",
    "scaler = StandardScaler()\n",
    "X_train[to_scale_1]=scaler.fit_transform(X_train[to_scale_1])"
   ]
  },
  {
   "cell_type": "code",
   "execution_count": 415,
   "id": "9826e164",
   "metadata": {},
   "outputs": [],
   "source": [
    "# Model Building :\n",
    "# Let's Now create a model for the data :\n",
    "# Let's do Feature Selection Using RFE :"
   ]
  },
  {
   "cell_type": "code",
   "execution_count": 416,
   "id": "6f6c2f4c",
   "metadata": {},
   "outputs": [
    {
     "data": {
      "text/plain": [
       "[('TotalVisits', False, 4),\n",
       " ('Total Time Spent on Website', True, 1),\n",
       " ('Page Views Per Visit', False, 5),\n",
       " ('A free copy of Mastering The Interview', False, 22),\n",
       " ('Lead Origin_Landing Page Submission', True, 1),\n",
       " ('Lead Origin_Lead Add Form', True, 1),\n",
       " ('Lead Origin_Lead Import', False, 14),\n",
       " ('Lead Origin_Quick Add Form', False, 7),\n",
       " ('Lead Source_Google', False, 6),\n",
       " ('Lead Source_Olark Chat', True, 1),\n",
       " ('Lead Source_Organic Search', False, 20),\n",
       " ('Lead Source_Others', False, 17),\n",
       " ('Lead Source_Reference', True, 1),\n",
       " ('Lead Source_Referral Sites', False, 19),\n",
       " ('Lead Source_Welingak Website', True, 1),\n",
       " ('Last Activity_Email Bounced', True, 1),\n",
       " ('Last Activity_Email Link Clicked', False, 3),\n",
       " ('Last Activity_Email Opened', True, 1),\n",
       " ('Last Activity_Form Submitted on Website', True, 1),\n",
       " ('Last Activity_Olark Chat Conversation', True, 1),\n",
       " ('Last Activity_Others', False, 12),\n",
       " ('Last Activity_Page Visited on Website', False, 21),\n",
       " ('Last Activity_SMS Sent', True, 1),\n",
       " ('Specialization_Business Administration', False, 11),\n",
       " ('Specialization_E-COMMERCE', True, 1),\n",
       " ('Specialization_Finance Management', True, 1),\n",
       " ('Specialization_Healthcare Management', False, 18),\n",
       " ('Specialization_Hospitality Management', True, 1),\n",
       " ('Specialization_Human Resource Management', False, 29),\n",
       " ('Specialization_IT Projects Management', False, 2),\n",
       " ('Specialization_International Business', True, 1),\n",
       " ('Specialization_Marketing Management', False, 26),\n",
       " ('Specialization_Media and Advertising', False, 23),\n",
       " ('Specialization_Operations Management', False, 16),\n",
       " ('Specialization_Others', False, 28),\n",
       " ('Specialization_Retail Management', False, 13),\n",
       " ('Specialization_Supply Chain Management', False, 8),\n",
       " ('Specialization_Travel and Tourism', True, 1),\n",
       " ('What is your current occupation_Housewife', True, 1),\n",
       " ('What is your current occupation_Other', True, 1),\n",
       " ('What is your current occupation_Student', False, 10),\n",
       " ('What is your current occupation_Unemployed', False, 27),\n",
       " ('What is your current occupation_Working Professional', True, 1),\n",
       " ('Tags_Interested in other courses', False, 15),\n",
       " ('Tags_Others', True, 1),\n",
       " ('Tags_Ringing', True, 1),\n",
       " ('Tags_Will revert after reading the email', True, 1),\n",
       " ('City_Others', False, 25),\n",
       " ('City_Thane & Outskirts', False, 24),\n",
       " ('Last Notable Activity_Email Opened', True, 1),\n",
       " ('Last Notable Activity_Modified', True, 1),\n",
       " ('Last Notable Activity_Olark Chat Conversation', True, 1),\n",
       " ('Last Notable Activity_Others', True, 1),\n",
       " ('Last Notable Activity_Page Visited on Website', False, 9),\n",
       " ('Last Notable Activity_SMS Sent', True, 1)]"
      ]
     },
     "execution_count": 416,
     "metadata": {},
     "output_type": "execute_result"
    }
   ],
   "source": [
    "logreg=LogisticRegression()\n",
    "rfe=RFE(logreg).fit(X_train,y_train)\n",
    "list(zip(X_train.columns, rfe.support_, rfe.ranking_))"
   ]
  },
  {
   "cell_type": "code",
   "execution_count": 417,
   "id": "f54a07ce",
   "metadata": {},
   "outputs": [
    {
     "data": {
      "text/plain": [
       "Index(['Total Time Spent on Website', 'Lead Origin_Landing Page Submission',\n",
       "       'Lead Origin_Lead Add Form', 'Lead Source_Olark Chat',\n",
       "       'Lead Source_Reference', 'Lead Source_Welingak Website',\n",
       "       'Last Activity_Email Bounced', 'Last Activity_Email Opened',\n",
       "       'Last Activity_Form Submitted on Website',\n",
       "       'Last Activity_Olark Chat Conversation', 'Last Activity_SMS Sent',\n",
       "       'Specialization_E-COMMERCE', 'Specialization_Finance Management',\n",
       "       'Specialization_Hospitality Management',\n",
       "       'Specialization_International Business',\n",
       "       'Specialization_Travel and Tourism',\n",
       "       'What is your current occupation_Housewife',\n",
       "       'What is your current occupation_Other',\n",
       "       'What is your current occupation_Working Professional', 'Tags_Others',\n",
       "       'Tags_Ringing', 'Tags_Will revert after reading the email',\n",
       "       'Last Notable Activity_Email Opened', 'Last Notable Activity_Modified',\n",
       "       'Last Notable Activity_Olark Chat Conversation',\n",
       "       'Last Notable Activity_Others', 'Last Notable Activity_SMS Sent'],\n",
       "      dtype='object')"
      ]
     },
     "execution_count": 417,
     "metadata": {},
     "output_type": "execute_result"
    }
   ],
   "source": [
    "col=X_train.columns[rfe.support_]\n",
    "col"
   ]
  },
  {
   "cell_type": "code",
   "execution_count": 418,
   "id": "96a2ffad",
   "metadata": {},
   "outputs": [],
   "source": [
    "# Let's start buliding a Model:\n",
    "# Model - I"
   ]
  },
  {
   "cell_type": "code",
   "execution_count": 419,
   "id": "17e5107e",
   "metadata": {},
   "outputs": [
    {
     "data": {
      "text/html": [
       "<table class=\"simpletable\">\n",
       "<caption>Generalized Linear Model Regression Results</caption>\n",
       "<tr>\n",
       "  <th>Dep. Variable:</th>       <td>Converted</td>    <th>  No. Observations:  </th>  <td>  6468</td> \n",
       "</tr>\n",
       "<tr>\n",
       "  <th>Model:</th>                  <td>GLM</td>       <th>  Df Residuals:      </th>  <td>  6440</td> \n",
       "</tr>\n",
       "<tr>\n",
       "  <th>Model Family:</th>        <td>Binomial</td>     <th>  Df Model:          </th>  <td>    27</td> \n",
       "</tr>\n",
       "<tr>\n",
       "  <th>Link Function:</th>         <td>logit</td>      <th>  Scale:             </th> <td>  1.0000</td>\n",
       "</tr>\n",
       "<tr>\n",
       "  <th>Method:</th>                <td>IRLS</td>       <th>  Log-Likelihood:    </th> <td> -1592.2</td>\n",
       "</tr>\n",
       "<tr>\n",
       "  <th>Date:</th>            <td>Mon, 14 Mar 2022</td> <th>  Deviance:          </th> <td>  3184.4</td>\n",
       "</tr>\n",
       "<tr>\n",
       "  <th>Time:</th>                <td>15:34:28</td>     <th>  Pearson chi2:      </th> <td>1.12e+04</td>\n",
       "</tr>\n",
       "<tr>\n",
       "  <th>No. Iterations:</th>         <td>21</td>        <th>  Pseudo R-squ. (CS):</th>  <td>0.5670</td> \n",
       "</tr>\n",
       "<tr>\n",
       "  <th>Covariance Type:</th>     <td>nonrobust</td>    <th>                     </th>     <td> </td>   \n",
       "</tr>\n",
       "</table>\n",
       "<table class=\"simpletable\">\n",
       "<tr>\n",
       "                            <td></td>                              <th>coef</th>     <th>std err</th>      <th>z</th>      <th>P>|z|</th>  <th>[0.025</th>    <th>0.975]</th>  \n",
       "</tr>\n",
       "<tr>\n",
       "  <th>const</th>                                                <td>   -4.2267</td> <td>    0.361</td> <td>  -11.699</td> <td> 0.000</td> <td>   -4.935</td> <td>   -3.519</td>\n",
       "</tr>\n",
       "<tr>\n",
       "  <th>Total Time Spent on Website</th>                          <td>    1.1267</td> <td>    0.053</td> <td>   21.216</td> <td> 0.000</td> <td>    1.023</td> <td>    1.231</td>\n",
       "</tr>\n",
       "<tr>\n",
       "  <th>Lead Origin_Landing Page Submission</th>                  <td>   -0.5184</td> <td>    0.121</td> <td>   -4.270</td> <td> 0.000</td> <td>   -0.756</td> <td>   -0.280</td>\n",
       "</tr>\n",
       "<tr>\n",
       "  <th>Lead Origin_Lead Add Form</th>                            <td>    1.5714</td> <td>    0.673</td> <td>    2.335</td> <td> 0.020</td> <td>    0.252</td> <td>    2.890</td>\n",
       "</tr>\n",
       "<tr>\n",
       "  <th>Lead Source_Olark Chat</th>                               <td>    0.9838</td> <td>    0.152</td> <td>    6.479</td> <td> 0.000</td> <td>    0.686</td> <td>    1.281</td>\n",
       "</tr>\n",
       "<tr>\n",
       "  <th>Lead Source_Reference</th>                                <td>    1.6524</td> <td>    0.712</td> <td>    2.322</td> <td> 0.020</td> <td>    0.258</td> <td>    3.047</td>\n",
       "</tr>\n",
       "<tr>\n",
       "  <th>Lead Source_Welingak Website</th>                         <td>    3.2052</td> <td>    0.981</td> <td>    3.268</td> <td> 0.001</td> <td>    1.283</td> <td>    5.127</td>\n",
       "</tr>\n",
       "<tr>\n",
       "  <th>Last Activity_Email Bounced</th>                          <td>   -1.3524</td> <td>    0.403</td> <td>   -3.354</td> <td> 0.001</td> <td>   -2.143</td> <td>   -0.562</td>\n",
       "</tr>\n",
       "<tr>\n",
       "  <th>Last Activity_Email Opened</th>                           <td>    1.1863</td> <td>    0.219</td> <td>    5.420</td> <td> 0.000</td> <td>    0.757</td> <td>    1.615</td>\n",
       "</tr>\n",
       "<tr>\n",
       "  <th>Last Activity_Form Submitted on Website</th>              <td>    0.4061</td> <td>    0.437</td> <td>    0.930</td> <td> 0.352</td> <td>   -0.450</td> <td>    1.262</td>\n",
       "</tr>\n",
       "<tr>\n",
       "  <th>Last Activity_Olark Chat Conversation</th>                <td>   -0.3391</td> <td>    0.275</td> <td>   -1.234</td> <td> 0.217</td> <td>   -0.877</td> <td>    0.199</td>\n",
       "</tr>\n",
       "<tr>\n",
       "  <th>Last Activity_SMS Sent</th>                               <td>    1.4025</td> <td>    0.226</td> <td>    6.202</td> <td> 0.000</td> <td>    0.959</td> <td>    1.846</td>\n",
       "</tr>\n",
       "<tr>\n",
       "  <th>Specialization_E-COMMERCE</th>                            <td>    0.4516</td> <td>    0.382</td> <td>    1.181</td> <td> 0.238</td> <td>   -0.298</td> <td>    1.201</td>\n",
       "</tr>\n",
       "<tr>\n",
       "  <th>Specialization_Finance Management</th>                    <td>    0.3541</td> <td>    0.163</td> <td>    2.174</td> <td> 0.030</td> <td>    0.035</td> <td>    0.673</td>\n",
       "</tr>\n",
       "<tr>\n",
       "  <th>Specialization_Hospitality Management</th>                <td>   -0.6844</td> <td>    0.426</td> <td>   -1.607</td> <td> 0.108</td> <td>   -1.519</td> <td>    0.150</td>\n",
       "</tr>\n",
       "<tr>\n",
       "  <th>Specialization_International Business</th>                <td>   -0.6815</td> <td>    0.367</td> <td>   -1.858</td> <td> 0.063</td> <td>   -1.400</td> <td>    0.037</td>\n",
       "</tr>\n",
       "<tr>\n",
       "  <th>Specialization_Travel and Tourism</th>                    <td>   -0.5515</td> <td>    0.344</td> <td>   -1.603</td> <td> 0.109</td> <td>   -1.226</td> <td>    0.123</td>\n",
       "</tr>\n",
       "<tr>\n",
       "  <th>What is your current occupation_Housewife</th>            <td>   21.3049</td> <td> 1.33e+04</td> <td>    0.002</td> <td> 0.999</td> <td>-2.61e+04</td> <td> 2.61e+04</td>\n",
       "</tr>\n",
       "<tr>\n",
       "  <th>What is your current occupation_Other</th>                <td>   -1.2632</td> <td>    0.104</td> <td>  -12.156</td> <td> 0.000</td> <td>   -1.467</td> <td>   -1.059</td>\n",
       "</tr>\n",
       "<tr>\n",
       "  <th>What is your current occupation_Working Professional</th> <td>    1.2920</td> <td>    0.270</td> <td>    4.778</td> <td> 0.000</td> <td>    0.762</td> <td>    1.822</td>\n",
       "</tr>\n",
       "<tr>\n",
       "  <th>Tags_Others</th>                                          <td>    3.3448</td> <td>    0.305</td> <td>   10.958</td> <td> 0.000</td> <td>    2.747</td> <td>    3.943</td>\n",
       "</tr>\n",
       "<tr>\n",
       "  <th>Tags_Ringing</th>                                         <td>   -0.6465</td> <td>    0.374</td> <td>   -1.728</td> <td> 0.084</td> <td>   -1.380</td> <td>    0.087</td>\n",
       "</tr>\n",
       "<tr>\n",
       "  <th>Tags_Will revert after reading the email</th>             <td>    6.6716</td> <td>    0.342</td> <td>   19.481</td> <td> 0.000</td> <td>    6.000</td> <td>    7.343</td>\n",
       "</tr>\n",
       "<tr>\n",
       "  <th>Last Notable Activity_Email Opened</th>                   <td>   -0.8435</td> <td>    0.297</td> <td>   -2.842</td> <td> 0.004</td> <td>   -1.425</td> <td>   -0.262</td>\n",
       "</tr>\n",
       "<tr>\n",
       "  <th>Last Notable Activity_Modified</th>                       <td>   -0.8339</td> <td>    0.242</td> <td>   -3.448</td> <td> 0.001</td> <td>   -1.308</td> <td>   -0.360</td>\n",
       "</tr>\n",
       "<tr>\n",
       "  <th>Last Notable Activity_Olark Chat Conversation</th>        <td>   -0.6296</td> <td>    0.504</td> <td>   -1.249</td> <td> 0.212</td> <td>   -1.618</td> <td>    0.359</td>\n",
       "</tr>\n",
       "<tr>\n",
       "  <th>Last Notable Activity_Others</th>                         <td>    0.6092</td> <td>    0.413</td> <td>    1.474</td> <td> 0.141</td> <td>   -0.201</td> <td>    1.419</td>\n",
       "</tr>\n",
       "<tr>\n",
       "  <th>Last Notable Activity_SMS Sent</th>                       <td>    0.3602</td> <td>    0.306</td> <td>    1.179</td> <td> 0.239</td> <td>   -0.239</td> <td>    0.959</td>\n",
       "</tr>\n",
       "</table>"
      ],
      "text/plain": [
       "<class 'statsmodels.iolib.summary.Summary'>\n",
       "\"\"\"\n",
       "                 Generalized Linear Model Regression Results                  \n",
       "==============================================================================\n",
       "Dep. Variable:              Converted   No. Observations:                 6468\n",
       "Model:                            GLM   Df Residuals:                     6440\n",
       "Model Family:                Binomial   Df Model:                           27\n",
       "Link Function:                  logit   Scale:                          1.0000\n",
       "Method:                          IRLS   Log-Likelihood:                -1592.2\n",
       "Date:                Mon, 14 Mar 2022   Deviance:                       3184.4\n",
       "Time:                        15:34:28   Pearson chi2:                 1.12e+04\n",
       "No. Iterations:                    21   Pseudo R-squ. (CS):             0.5670\n",
       "Covariance Type:            nonrobust                                         \n",
       "========================================================================================================================\n",
       "                                                           coef    std err          z      P>|z|      [0.025      0.975]\n",
       "------------------------------------------------------------------------------------------------------------------------\n",
       "const                                                   -4.2267      0.361    -11.699      0.000      -4.935      -3.519\n",
       "Total Time Spent on Website                              1.1267      0.053     21.216      0.000       1.023       1.231\n",
       "Lead Origin_Landing Page Submission                     -0.5184      0.121     -4.270      0.000      -0.756      -0.280\n",
       "Lead Origin_Lead Add Form                                1.5714      0.673      2.335      0.020       0.252       2.890\n",
       "Lead Source_Olark Chat                                   0.9838      0.152      6.479      0.000       0.686       1.281\n",
       "Lead Source_Reference                                    1.6524      0.712      2.322      0.020       0.258       3.047\n",
       "Lead Source_Welingak Website                             3.2052      0.981      3.268      0.001       1.283       5.127\n",
       "Last Activity_Email Bounced                             -1.3524      0.403     -3.354      0.001      -2.143      -0.562\n",
       "Last Activity_Email Opened                               1.1863      0.219      5.420      0.000       0.757       1.615\n",
       "Last Activity_Form Submitted on Website                  0.4061      0.437      0.930      0.352      -0.450       1.262\n",
       "Last Activity_Olark Chat Conversation                   -0.3391      0.275     -1.234      0.217      -0.877       0.199\n",
       "Last Activity_SMS Sent                                   1.4025      0.226      6.202      0.000       0.959       1.846\n",
       "Specialization_E-COMMERCE                                0.4516      0.382      1.181      0.238      -0.298       1.201\n",
       "Specialization_Finance Management                        0.3541      0.163      2.174      0.030       0.035       0.673\n",
       "Specialization_Hospitality Management                   -0.6844      0.426     -1.607      0.108      -1.519       0.150\n",
       "Specialization_International Business                   -0.6815      0.367     -1.858      0.063      -1.400       0.037\n",
       "Specialization_Travel and Tourism                       -0.5515      0.344     -1.603      0.109      -1.226       0.123\n",
       "What is your current occupation_Housewife               21.3049   1.33e+04      0.002      0.999   -2.61e+04    2.61e+04\n",
       "What is your current occupation_Other                   -1.2632      0.104    -12.156      0.000      -1.467      -1.059\n",
       "What is your current occupation_Working Professional     1.2920      0.270      4.778      0.000       0.762       1.822\n",
       "Tags_Others                                              3.3448      0.305     10.958      0.000       2.747       3.943\n",
       "Tags_Ringing                                            -0.6465      0.374     -1.728      0.084      -1.380       0.087\n",
       "Tags_Will revert after reading the email                 6.6716      0.342     19.481      0.000       6.000       7.343\n",
       "Last Notable Activity_Email Opened                      -0.8435      0.297     -2.842      0.004      -1.425      -0.262\n",
       "Last Notable Activity_Modified                          -0.8339      0.242     -3.448      0.001      -1.308      -0.360\n",
       "Last Notable Activity_Olark Chat Conversation           -0.6296      0.504     -1.249      0.212      -1.618       0.359\n",
       "Last Notable Activity_Others                             0.6092      0.413      1.474      0.141      -0.201       1.419\n",
       "Last Notable Activity_SMS Sent                           0.3602      0.306      1.179      0.239      -0.239       0.959\n",
       "========================================================================================================================\n",
       "\"\"\""
      ]
     },
     "execution_count": 419,
     "metadata": {},
     "output_type": "execute_result"
    }
   ],
   "source": [
    "X_train_1 = sm.add_constant(X_train[col])\n",
    "log_m1 = sm.GLM(y_train,X_train_1,family=sm.families.Binomial())\n",
    "log_model_1 = log_m1.fit()\n",
    "log_model_1.summary()"
   ]
  },
  {
   "cell_type": "code",
   "execution_count": 420,
   "id": "c9ba1839",
   "metadata": {},
   "outputs": [
    {
     "data": {
      "text/html": [
       "<table class=\"simpletable\">\n",
       "<caption>Generalized Linear Model Regression Results</caption>\n",
       "<tr>\n",
       "  <th>Dep. Variable:</th>       <td>Converted</td>    <th>  No. Observations:  </th>  <td>  6468</td> \n",
       "</tr>\n",
       "<tr>\n",
       "  <th>Model:</th>                  <td>GLM</td>       <th>  Df Residuals:      </th>  <td>  6441</td> \n",
       "</tr>\n",
       "<tr>\n",
       "  <th>Model Family:</th>        <td>Binomial</td>     <th>  Df Model:          </th>  <td>    26</td> \n",
       "</tr>\n",
       "<tr>\n",
       "  <th>Link Function:</th>         <td>logit</td>      <th>  Scale:             </th> <td>  1.0000</td>\n",
       "</tr>\n",
       "<tr>\n",
       "  <th>Method:</th>                <td>IRLS</td>       <th>  Log-Likelihood:    </th> <td> -1594.6</td>\n",
       "</tr>\n",
       "<tr>\n",
       "  <th>Date:</th>            <td>Mon, 14 Mar 2022</td> <th>  Deviance:          </th> <td>  3189.3</td>\n",
       "</tr>\n",
       "<tr>\n",
       "  <th>Time:</th>                <td>15:34:29</td>     <th>  Pearson chi2:      </th> <td>1.13e+04</td>\n",
       "</tr>\n",
       "<tr>\n",
       "  <th>No. Iterations:</th>          <td>7</td>        <th>  Pseudo R-squ. (CS):</th>  <td>0.5667</td> \n",
       "</tr>\n",
       "<tr>\n",
       "  <th>Covariance Type:</th>     <td>nonrobust</td>    <th>                     </th>     <td> </td>   \n",
       "</tr>\n",
       "</table>\n",
       "<table class=\"simpletable\">\n",
       "<tr>\n",
       "                            <td></td>                              <th>coef</th>     <th>std err</th>      <th>z</th>      <th>P>|z|</th>  <th>[0.025</th>    <th>0.975]</th>  \n",
       "</tr>\n",
       "<tr>\n",
       "  <th>const</th>                                                <td>   -4.2355</td> <td>    0.361</td> <td>  -11.721</td> <td> 0.000</td> <td>   -4.944</td> <td>   -3.527</td>\n",
       "</tr>\n",
       "<tr>\n",
       "  <th>Total Time Spent on Website</th>                          <td>    1.1272</td> <td>    0.053</td> <td>   21.226</td> <td> 0.000</td> <td>    1.023</td> <td>    1.231</td>\n",
       "</tr>\n",
       "<tr>\n",
       "  <th>Lead Origin_Landing Page Submission</th>                  <td>   -0.5110</td> <td>    0.121</td> <td>   -4.213</td> <td> 0.000</td> <td>   -0.749</td> <td>   -0.273</td>\n",
       "</tr>\n",
       "<tr>\n",
       "  <th>Lead Origin_Lead Add Form</th>                            <td>    1.5703</td> <td>    0.673</td> <td>    2.333</td> <td> 0.020</td> <td>    0.251</td> <td>    2.890</td>\n",
       "</tr>\n",
       "<tr>\n",
       "  <th>Lead Source_Olark Chat</th>                               <td>    0.9839</td> <td>    0.152</td> <td>    6.480</td> <td> 0.000</td> <td>    0.686</td> <td>    1.281</td>\n",
       "</tr>\n",
       "<tr>\n",
       "  <th>Lead Source_Reference</th>                                <td>    1.6696</td> <td>    0.712</td> <td>    2.346</td> <td> 0.019</td> <td>    0.275</td> <td>    3.064</td>\n",
       "</tr>\n",
       "<tr>\n",
       "  <th>Lead Source_Welingak Website</th>                         <td>    3.2056</td> <td>    0.981</td> <td>    3.268</td> <td> 0.001</td> <td>    1.283</td> <td>    5.128</td>\n",
       "</tr>\n",
       "<tr>\n",
       "  <th>Last Activity_Email Bounced</th>                          <td>   -1.3543</td> <td>    0.403</td> <td>   -3.357</td> <td> 0.001</td> <td>   -2.145</td> <td>   -0.564</td>\n",
       "</tr>\n",
       "<tr>\n",
       "  <th>Last Activity_Email Opened</th>                           <td>    1.2020</td> <td>    0.218</td> <td>    5.507</td> <td> 0.000</td> <td>    0.774</td> <td>    1.630</td>\n",
       "</tr>\n",
       "<tr>\n",
       "  <th>Last Activity_Form Submitted on Website</th>              <td>    0.4212</td> <td>    0.433</td> <td>    0.973</td> <td> 0.330</td> <td>   -0.427</td> <td>    1.270</td>\n",
       "</tr>\n",
       "<tr>\n",
       "  <th>Last Activity_Olark Chat Conversation</th>                <td>   -0.3371</td> <td>    0.275</td> <td>   -1.227</td> <td> 0.220</td> <td>   -0.876</td> <td>    0.201</td>\n",
       "</tr>\n",
       "<tr>\n",
       "  <th>Last Activity_SMS Sent</th>                               <td>    1.4014</td> <td>    0.226</td> <td>    6.198</td> <td> 0.000</td> <td>    0.958</td> <td>    1.845</td>\n",
       "</tr>\n",
       "<tr>\n",
       "  <th>Specialization_E-COMMERCE</th>                            <td>    0.4455</td> <td>    0.382</td> <td>    1.165</td> <td> 0.244</td> <td>   -0.304</td> <td>    1.195</td>\n",
       "</tr>\n",
       "<tr>\n",
       "  <th>Specialization_Finance Management</th>                    <td>    0.3493</td> <td>    0.163</td> <td>    2.147</td> <td> 0.032</td> <td>    0.030</td> <td>    0.668</td>\n",
       "</tr>\n",
       "<tr>\n",
       "  <th>Specialization_Hospitality Management</th>                <td>   -0.6934</td> <td>    0.426</td> <td>   -1.626</td> <td> 0.104</td> <td>   -1.529</td> <td>    0.142</td>\n",
       "</tr>\n",
       "<tr>\n",
       "  <th>Specialization_International Business</th>                <td>   -0.6885</td> <td>    0.367</td> <td>   -1.876</td> <td> 0.061</td> <td>   -1.408</td> <td>    0.031</td>\n",
       "</tr>\n",
       "<tr>\n",
       "  <th>Specialization_Travel and Tourism</th>                    <td>   -0.5590</td> <td>    0.344</td> <td>   -1.624</td> <td> 0.104</td> <td>   -1.234</td> <td>    0.116</td>\n",
       "</tr>\n",
       "<tr>\n",
       "  <th>What is your current occupation_Other</th>                <td>   -1.2683</td> <td>    0.104</td> <td>  -12.212</td> <td> 0.000</td> <td>   -1.472</td> <td>   -1.065</td>\n",
       "</tr>\n",
       "<tr>\n",
       "  <th>What is your current occupation_Working Professional</th> <td>    1.2825</td> <td>    0.270</td> <td>    4.742</td> <td> 0.000</td> <td>    0.752</td> <td>    1.813</td>\n",
       "</tr>\n",
       "<tr>\n",
       "  <th>Tags_Others</th>                                          <td>    3.3523</td> <td>    0.305</td> <td>   10.983</td> <td> 0.000</td> <td>    2.754</td> <td>    3.950</td>\n",
       "</tr>\n",
       "<tr>\n",
       "  <th>Tags_Ringing</th>                                         <td>   -0.6449</td> <td>    0.374</td> <td>   -1.724</td> <td> 0.085</td> <td>   -1.378</td> <td>    0.088</td>\n",
       "</tr>\n",
       "<tr>\n",
       "  <th>Tags_Will revert after reading the email</th>             <td>    6.6828</td> <td>    0.342</td> <td>   19.514</td> <td> 0.000</td> <td>    6.012</td> <td>    7.354</td>\n",
       "</tr>\n",
       "<tr>\n",
       "  <th>Last Notable Activity_Email Opened</th>                   <td>   -0.8538</td> <td>    0.296</td> <td>   -2.880</td> <td> 0.004</td> <td>   -1.435</td> <td>   -0.273</td>\n",
       "</tr>\n",
       "<tr>\n",
       "  <th>Last Notable Activity_Modified</th>                       <td>   -0.8325</td> <td>    0.242</td> <td>   -3.442</td> <td> 0.001</td> <td>   -1.307</td> <td>   -0.358</td>\n",
       "</tr>\n",
       "<tr>\n",
       "  <th>Last Notable Activity_Olark Chat Conversation</th>        <td>   -0.6284</td> <td>    0.504</td> <td>   -1.246</td> <td> 0.213</td> <td>   -1.617</td> <td>    0.360</td>\n",
       "</tr>\n",
       "<tr>\n",
       "  <th>Last Notable Activity_Others</th>                         <td>    0.6099</td> <td>    0.414</td> <td>    1.475</td> <td> 0.140</td> <td>   -0.201</td> <td>    1.420</td>\n",
       "</tr>\n",
       "<tr>\n",
       "  <th>Last Notable Activity_SMS Sent</th>                       <td>    0.3611</td> <td>    0.306</td> <td>    1.182</td> <td> 0.237</td> <td>   -0.238</td> <td>    0.960</td>\n",
       "</tr>\n",
       "</table>"
      ],
      "text/plain": [
       "<class 'statsmodels.iolib.summary.Summary'>\n",
       "\"\"\"\n",
       "                 Generalized Linear Model Regression Results                  \n",
       "==============================================================================\n",
       "Dep. Variable:              Converted   No. Observations:                 6468\n",
       "Model:                            GLM   Df Residuals:                     6441\n",
       "Model Family:                Binomial   Df Model:                           26\n",
       "Link Function:                  logit   Scale:                          1.0000\n",
       "Method:                          IRLS   Log-Likelihood:                -1594.6\n",
       "Date:                Mon, 14 Mar 2022   Deviance:                       3189.3\n",
       "Time:                        15:34:29   Pearson chi2:                 1.13e+04\n",
       "No. Iterations:                     7   Pseudo R-squ. (CS):             0.5667\n",
       "Covariance Type:            nonrobust                                         \n",
       "========================================================================================================================\n",
       "                                                           coef    std err          z      P>|z|      [0.025      0.975]\n",
       "------------------------------------------------------------------------------------------------------------------------\n",
       "const                                                   -4.2355      0.361    -11.721      0.000      -4.944      -3.527\n",
       "Total Time Spent on Website                              1.1272      0.053     21.226      0.000       1.023       1.231\n",
       "Lead Origin_Landing Page Submission                     -0.5110      0.121     -4.213      0.000      -0.749      -0.273\n",
       "Lead Origin_Lead Add Form                                1.5703      0.673      2.333      0.020       0.251       2.890\n",
       "Lead Source_Olark Chat                                   0.9839      0.152      6.480      0.000       0.686       1.281\n",
       "Lead Source_Reference                                    1.6696      0.712      2.346      0.019       0.275       3.064\n",
       "Lead Source_Welingak Website                             3.2056      0.981      3.268      0.001       1.283       5.128\n",
       "Last Activity_Email Bounced                             -1.3543      0.403     -3.357      0.001      -2.145      -0.564\n",
       "Last Activity_Email Opened                               1.2020      0.218      5.507      0.000       0.774       1.630\n",
       "Last Activity_Form Submitted on Website                  0.4212      0.433      0.973      0.330      -0.427       1.270\n",
       "Last Activity_Olark Chat Conversation                   -0.3371      0.275     -1.227      0.220      -0.876       0.201\n",
       "Last Activity_SMS Sent                                   1.4014      0.226      6.198      0.000       0.958       1.845\n",
       "Specialization_E-COMMERCE                                0.4455      0.382      1.165      0.244      -0.304       1.195\n",
       "Specialization_Finance Management                        0.3493      0.163      2.147      0.032       0.030       0.668\n",
       "Specialization_Hospitality Management                   -0.6934      0.426     -1.626      0.104      -1.529       0.142\n",
       "Specialization_International Business                   -0.6885      0.367     -1.876      0.061      -1.408       0.031\n",
       "Specialization_Travel and Tourism                       -0.5590      0.344     -1.624      0.104      -1.234       0.116\n",
       "What is your current occupation_Other                   -1.2683      0.104    -12.212      0.000      -1.472      -1.065\n",
       "What is your current occupation_Working Professional     1.2825      0.270      4.742      0.000       0.752       1.813\n",
       "Tags_Others                                              3.3523      0.305     10.983      0.000       2.754       3.950\n",
       "Tags_Ringing                                            -0.6449      0.374     -1.724      0.085      -1.378       0.088\n",
       "Tags_Will revert after reading the email                 6.6828      0.342     19.514      0.000       6.012       7.354\n",
       "Last Notable Activity_Email Opened                      -0.8538      0.296     -2.880      0.004      -1.435      -0.273\n",
       "Last Notable Activity_Modified                          -0.8325      0.242     -3.442      0.001      -1.307      -0.358\n",
       "Last Notable Activity_Olark Chat Conversation           -0.6284      0.504     -1.246      0.213      -1.617       0.360\n",
       "Last Notable Activity_Others                             0.6099      0.414      1.475      0.140      -0.201       1.420\n",
       "Last Notable Activity_SMS Sent                           0.3611      0.306      1.182      0.237      -0.238       0.960\n",
       "========================================================================================================================\n",
       "\"\"\""
      ]
     },
     "execution_count": 420,
     "metadata": {},
     "output_type": "execute_result"
    }
   ],
   "source": [
    "# Now we drop the variable 'What is your current occupation_Housewife' since it has a very high P-Value and we build the model again .\n",
    "col = col.drop('What is your current occupation_Housewife', 1)\n",
    "\n",
    "X_train_2 = sm.add_constant(X_train[col])\n",
    "log_m2 = sm.GLM(y_train,X_train_2,family=sm.families.Binomial())\n",
    "log_model_2 = log_m2.fit()\n",
    "log_model_2.summary()"
   ]
  },
  {
   "cell_type": "code",
   "execution_count": 421,
   "id": "3f7994b7",
   "metadata": {},
   "outputs": [
    {
     "data": {
      "text/html": [
       "<table class=\"simpletable\">\n",
       "<caption>Generalized Linear Model Regression Results</caption>\n",
       "<tr>\n",
       "  <th>Dep. Variable:</th>       <td>Converted</td>    <th>  No. Observations:  </th>  <td>  6468</td> \n",
       "</tr>\n",
       "<tr>\n",
       "  <th>Model:</th>                  <td>GLM</td>       <th>  Df Residuals:      </th>  <td>  6442</td> \n",
       "</tr>\n",
       "<tr>\n",
       "  <th>Model Family:</th>        <td>Binomial</td>     <th>  Df Model:          </th>  <td>    25</td> \n",
       "</tr>\n",
       "<tr>\n",
       "  <th>Link Function:</th>         <td>logit</td>      <th>  Scale:             </th> <td>  1.0000</td>\n",
       "</tr>\n",
       "<tr>\n",
       "  <th>Method:</th>                <td>IRLS</td>       <th>  Log-Likelihood:    </th> <td> -1595.7</td>\n",
       "</tr>\n",
       "<tr>\n",
       "  <th>Date:</th>            <td>Mon, 14 Mar 2022</td> <th>  Deviance:          </th> <td>  3191.4</td>\n",
       "</tr>\n",
       "<tr>\n",
       "  <th>Time:</th>                <td>15:34:30</td>     <th>  Pearson chi2:      </th> <td>1.12e+04</td>\n",
       "</tr>\n",
       "<tr>\n",
       "  <th>No. Iterations:</th>          <td>7</td>        <th>  Pseudo R-squ. (CS):</th>  <td>0.5665</td> \n",
       "</tr>\n",
       "<tr>\n",
       "  <th>Covariance Type:</th>     <td>nonrobust</td>    <th>                     </th>     <td> </td>   \n",
       "</tr>\n",
       "</table>\n",
       "<table class=\"simpletable\">\n",
       "<tr>\n",
       "                            <td></td>                              <th>coef</th>     <th>std err</th>      <th>z</th>      <th>P>|z|</th>  <th>[0.025</th>    <th>0.975]</th>  \n",
       "</tr>\n",
       "<tr>\n",
       "  <th>const</th>                                                <td>   -4.1126</td> <td>    0.349</td> <td>  -11.768</td> <td> 0.000</td> <td>   -4.798</td> <td>   -3.428</td>\n",
       "</tr>\n",
       "<tr>\n",
       "  <th>Total Time Spent on Website</th>                          <td>    1.1237</td> <td>    0.053</td> <td>   21.204</td> <td> 0.000</td> <td>    1.020</td> <td>    1.228</td>\n",
       "</tr>\n",
       "<tr>\n",
       "  <th>Lead Origin_Landing Page Submission</th>                  <td>   -0.5162</td> <td>    0.121</td> <td>   -4.259</td> <td> 0.000</td> <td>   -0.754</td> <td>   -0.279</td>\n",
       "</tr>\n",
       "<tr>\n",
       "  <th>Lead Origin_Lead Add Form</th>                            <td>    1.5440</td> <td>    0.666</td> <td>    2.317</td> <td> 0.021</td> <td>    0.238</td> <td>    2.850</td>\n",
       "</tr>\n",
       "<tr>\n",
       "  <th>Lead Source_Olark Chat</th>                               <td>    0.9744</td> <td>    0.152</td> <td>    6.430</td> <td> 0.000</td> <td>    0.677</td> <td>    1.271</td>\n",
       "</tr>\n",
       "<tr>\n",
       "  <th>Lead Source_Reference</th>                                <td>    1.6823</td> <td>    0.706</td> <td>    2.384</td> <td> 0.017</td> <td>    0.299</td> <td>    3.065</td>\n",
       "</tr>\n",
       "<tr>\n",
       "  <th>Lead Source_Welingak Website</th>                         <td>    3.2370</td> <td>    0.977</td> <td>    3.314</td> <td> 0.001</td> <td>    1.323</td> <td>    5.151</td>\n",
       "</tr>\n",
       "<tr>\n",
       "  <th>Last Activity_Email Bounced</th>                          <td>   -1.1582</td> <td>    0.379</td> <td>   -3.053</td> <td> 0.002</td> <td>   -1.902</td> <td>   -0.415</td>\n",
       "</tr>\n",
       "<tr>\n",
       "  <th>Last Activity_Email Opened</th>                           <td>    1.2245</td> <td>    0.218</td> <td>    5.611</td> <td> 0.000</td> <td>    0.797</td> <td>    1.652</td>\n",
       "</tr>\n",
       "<tr>\n",
       "  <th>Last Activity_Form Submitted on Website</th>              <td>    0.4501</td> <td>    0.434</td> <td>    1.038</td> <td> 0.299</td> <td>   -0.400</td> <td>    1.300</td>\n",
       "</tr>\n",
       "<tr>\n",
       "  <th>Last Activity_Olark Chat Conversation</th>                <td>   -0.3163</td> <td>    0.275</td> <td>   -1.151</td> <td> 0.250</td> <td>   -0.855</td> <td>    0.222</td>\n",
       "</tr>\n",
       "<tr>\n",
       "  <th>Last Activity_SMS Sent</th>                               <td>    1.4238</td> <td>    0.226</td> <td>    6.296</td> <td> 0.000</td> <td>    0.981</td> <td>    1.867</td>\n",
       "</tr>\n",
       "<tr>\n",
       "  <th>Specialization_E-COMMERCE</th>                            <td>    0.4444</td> <td>    0.383</td> <td>    1.159</td> <td> 0.246</td> <td>   -0.307</td> <td>    1.196</td>\n",
       "</tr>\n",
       "<tr>\n",
       "  <th>Specialization_Finance Management</th>                    <td>    0.3496</td> <td>    0.162</td> <td>    2.151</td> <td> 0.031</td> <td>    0.031</td> <td>    0.668</td>\n",
       "</tr>\n",
       "<tr>\n",
       "  <th>Specialization_Hospitality Management</th>                <td>   -0.6906</td> <td>    0.424</td> <td>   -1.628</td> <td> 0.104</td> <td>   -1.522</td> <td>    0.141</td>\n",
       "</tr>\n",
       "<tr>\n",
       "  <th>Specialization_International Business</th>                <td>   -0.6772</td> <td>    0.367</td> <td>   -1.847</td> <td> 0.065</td> <td>   -1.396</td> <td>    0.041</td>\n",
       "</tr>\n",
       "<tr>\n",
       "  <th>Specialization_Travel and Tourism</th>                    <td>   -0.5658</td> <td>    0.344</td> <td>   -1.646</td> <td> 0.100</td> <td>   -1.239</td> <td>    0.108</td>\n",
       "</tr>\n",
       "<tr>\n",
       "  <th>What is your current occupation_Other</th>                <td>   -1.2679</td> <td>    0.104</td> <td>  -12.214</td> <td> 0.000</td> <td>   -1.471</td> <td>   -1.064</td>\n",
       "</tr>\n",
       "<tr>\n",
       "  <th>What is your current occupation_Working Professional</th> <td>    1.2785</td> <td>    0.271</td> <td>    4.726</td> <td> 0.000</td> <td>    0.748</td> <td>    1.809</td>\n",
       "</tr>\n",
       "<tr>\n",
       "  <th>Tags_Others</th>                                          <td>    3.3500</td> <td>    0.305</td> <td>   10.983</td> <td> 0.000</td> <td>    2.752</td> <td>    3.948</td>\n",
       "</tr>\n",
       "<tr>\n",
       "  <th>Tags_Ringing</th>                                         <td>   -0.6431</td> <td>    0.374</td> <td>   -1.720</td> <td> 0.085</td> <td>   -1.376</td> <td>    0.090</td>\n",
       "</tr>\n",
       "<tr>\n",
       "  <th>Tags_Will revert after reading the email</th>             <td>    6.6956</td> <td>    0.342</td> <td>   19.562</td> <td> 0.000</td> <td>    6.025</td> <td>    7.366</td>\n",
       "</tr>\n",
       "<tr>\n",
       "  <th>Last Notable Activity_Email Opened</th>                   <td>   -0.9933</td> <td>    0.280</td> <td>   -3.551</td> <td> 0.000</td> <td>   -1.542</td> <td>   -0.445</td>\n",
       "</tr>\n",
       "<tr>\n",
       "  <th>Last Notable Activity_Modified</th>                       <td>   -0.9703</td> <td>    0.222</td> <td>   -4.376</td> <td> 0.000</td> <td>   -1.405</td> <td>   -0.536</td>\n",
       "</tr>\n",
       "<tr>\n",
       "  <th>Last Notable Activity_Olark Chat Conversation</th>        <td>   -0.7640</td> <td>    0.496</td> <td>   -1.542</td> <td> 0.123</td> <td>   -1.735</td> <td>    0.207</td>\n",
       "</tr>\n",
       "<tr>\n",
       "  <th>Last Notable Activity_SMS Sent</th>                       <td>    0.2222</td> <td>    0.290</td> <td>    0.767</td> <td> 0.443</td> <td>   -0.346</td> <td>    0.790</td>\n",
       "</tr>\n",
       "</table>"
      ],
      "text/plain": [
       "<class 'statsmodels.iolib.summary.Summary'>\n",
       "\"\"\"\n",
       "                 Generalized Linear Model Regression Results                  \n",
       "==============================================================================\n",
       "Dep. Variable:              Converted   No. Observations:                 6468\n",
       "Model:                            GLM   Df Residuals:                     6442\n",
       "Model Family:                Binomial   Df Model:                           25\n",
       "Link Function:                  logit   Scale:                          1.0000\n",
       "Method:                          IRLS   Log-Likelihood:                -1595.7\n",
       "Date:                Mon, 14 Mar 2022   Deviance:                       3191.4\n",
       "Time:                        15:34:30   Pearson chi2:                 1.12e+04\n",
       "No. Iterations:                     7   Pseudo R-squ. (CS):             0.5665\n",
       "Covariance Type:            nonrobust                                         \n",
       "========================================================================================================================\n",
       "                                                           coef    std err          z      P>|z|      [0.025      0.975]\n",
       "------------------------------------------------------------------------------------------------------------------------\n",
       "const                                                   -4.1126      0.349    -11.768      0.000      -4.798      -3.428\n",
       "Total Time Spent on Website                              1.1237      0.053     21.204      0.000       1.020       1.228\n",
       "Lead Origin_Landing Page Submission                     -0.5162      0.121     -4.259      0.000      -0.754      -0.279\n",
       "Lead Origin_Lead Add Form                                1.5440      0.666      2.317      0.021       0.238       2.850\n",
       "Lead Source_Olark Chat                                   0.9744      0.152      6.430      0.000       0.677       1.271\n",
       "Lead Source_Reference                                    1.6823      0.706      2.384      0.017       0.299       3.065\n",
       "Lead Source_Welingak Website                             3.2370      0.977      3.314      0.001       1.323       5.151\n",
       "Last Activity_Email Bounced                             -1.1582      0.379     -3.053      0.002      -1.902      -0.415\n",
       "Last Activity_Email Opened                               1.2245      0.218      5.611      0.000       0.797       1.652\n",
       "Last Activity_Form Submitted on Website                  0.4501      0.434      1.038      0.299      -0.400       1.300\n",
       "Last Activity_Olark Chat Conversation                   -0.3163      0.275     -1.151      0.250      -0.855       0.222\n",
       "Last Activity_SMS Sent                                   1.4238      0.226      6.296      0.000       0.981       1.867\n",
       "Specialization_E-COMMERCE                                0.4444      0.383      1.159      0.246      -0.307       1.196\n",
       "Specialization_Finance Management                        0.3496      0.162      2.151      0.031       0.031       0.668\n",
       "Specialization_Hospitality Management                   -0.6906      0.424     -1.628      0.104      -1.522       0.141\n",
       "Specialization_International Business                   -0.6772      0.367     -1.847      0.065      -1.396       0.041\n",
       "Specialization_Travel and Tourism                       -0.5658      0.344     -1.646      0.100      -1.239       0.108\n",
       "What is your current occupation_Other                   -1.2679      0.104    -12.214      0.000      -1.471      -1.064\n",
       "What is your current occupation_Working Professional     1.2785      0.271      4.726      0.000       0.748       1.809\n",
       "Tags_Others                                              3.3500      0.305     10.983      0.000       2.752       3.948\n",
       "Tags_Ringing                                            -0.6431      0.374     -1.720      0.085      -1.376       0.090\n",
       "Tags_Will revert after reading the email                 6.6956      0.342     19.562      0.000       6.025       7.366\n",
       "Last Notable Activity_Email Opened                      -0.9933      0.280     -3.551      0.000      -1.542      -0.445\n",
       "Last Notable Activity_Modified                          -0.9703      0.222     -4.376      0.000      -1.405      -0.536\n",
       "Last Notable Activity_Olark Chat Conversation           -0.7640      0.496     -1.542      0.123      -1.735       0.207\n",
       "Last Notable Activity_SMS Sent                           0.2222      0.290      0.767      0.443      -0.346       0.790\n",
       "========================================================================================================================\n",
       "\"\"\""
      ]
     },
     "execution_count": 421,
     "metadata": {},
     "output_type": "execute_result"
    }
   ],
   "source": [
    "# Now we drop the variable 'Last Notable Activity_Others' since it has a very high P-Value and build the model again .\n",
    "col = col.drop('Last Notable Activity_Others', 1)\n",
    "\n",
    "X_train_3 = sm.add_constant(X_train[col])\n",
    "log_m3 = sm.GLM(y_train,X_train_3,family=sm.families.Binomial())\n",
    "log_model_3 = log_m3.fit()\n",
    "log_model_3.summary()"
   ]
  },
  {
   "cell_type": "code",
   "execution_count": 422,
   "id": "0922ccaa",
   "metadata": {},
   "outputs": [
    {
     "data": {
      "text/html": [
       "<table class=\"simpletable\">\n",
       "<caption>Generalized Linear Model Regression Results</caption>\n",
       "<tr>\n",
       "  <th>Dep. Variable:</th>       <td>Converted</td>    <th>  No. Observations:  </th>  <td>  6468</td> \n",
       "</tr>\n",
       "<tr>\n",
       "  <th>Model:</th>                  <td>GLM</td>       <th>  Df Residuals:      </th>  <td>  6443</td> \n",
       "</tr>\n",
       "<tr>\n",
       "  <th>Model Family:</th>        <td>Binomial</td>     <th>  Df Model:          </th>  <td>    24</td> \n",
       "</tr>\n",
       "<tr>\n",
       "  <th>Link Function:</th>         <td>logit</td>      <th>  Scale:             </th> <td>  1.0000</td>\n",
       "</tr>\n",
       "<tr>\n",
       "  <th>Method:</th>                <td>IRLS</td>       <th>  Log-Likelihood:    </th> <td> -1597.1</td>\n",
       "</tr>\n",
       "<tr>\n",
       "  <th>Date:</th>            <td>Mon, 14 Mar 2022</td> <th>  Deviance:          </th> <td>  3194.2</td>\n",
       "</tr>\n",
       "<tr>\n",
       "  <th>Time:</th>                <td>15:34:30</td>     <th>  Pearson chi2:      </th> <td>1.09e+04</td>\n",
       "</tr>\n",
       "<tr>\n",
       "  <th>No. Iterations:</th>          <td>7</td>        <th>  Pseudo R-squ. (CS):</th>  <td>0.5663</td> \n",
       "</tr>\n",
       "<tr>\n",
       "  <th>Covariance Type:</th>     <td>nonrobust</td>    <th>                     </th>     <td> </td>   \n",
       "</tr>\n",
       "</table>\n",
       "<table class=\"simpletable\">\n",
       "<tr>\n",
       "                            <td></td>                              <th>coef</th>     <th>std err</th>      <th>z</th>      <th>P>|z|</th>  <th>[0.025</th>    <th>0.975]</th>  \n",
       "</tr>\n",
       "<tr>\n",
       "  <th>const</th>                                                <td>   -4.5448</td> <td>    0.265</td> <td>  -17.161</td> <td> 0.000</td> <td>   -5.064</td> <td>   -4.026</td>\n",
       "</tr>\n",
       "<tr>\n",
       "  <th>Total Time Spent on Website</th>                          <td>    1.1225</td> <td>    0.053</td> <td>   21.190</td> <td> 0.000</td> <td>    1.019</td> <td>    1.226</td>\n",
       "</tr>\n",
       "<tr>\n",
       "  <th>Lead Origin_Landing Page Submission</th>                  <td>   -0.5233</td> <td>    0.121</td> <td>   -4.321</td> <td> 0.000</td> <td>   -0.761</td> <td>   -0.286</td>\n",
       "</tr>\n",
       "<tr>\n",
       "  <th>Lead Origin_Lead Add Form</th>                            <td>    1.5310</td> <td>    0.663</td> <td>    2.309</td> <td> 0.021</td> <td>    0.231</td> <td>    2.831</td>\n",
       "</tr>\n",
       "<tr>\n",
       "  <th>Lead Source_Olark Chat</th>                               <td>    0.9721</td> <td>    0.151</td> <td>    6.419</td> <td> 0.000</td> <td>    0.675</td> <td>    1.269</td>\n",
       "</tr>\n",
       "<tr>\n",
       "  <th>Lead Source_Reference</th>                                <td>    1.6595</td> <td>    0.702</td> <td>    2.365</td> <td> 0.018</td> <td>    0.284</td> <td>    3.035</td>\n",
       "</tr>\n",
       "<tr>\n",
       "  <th>Lead Source_Welingak Website</th>                         <td>    3.2432</td> <td>    0.974</td> <td>    3.328</td> <td> 0.001</td> <td>    1.333</td> <td>    5.153</td>\n",
       "</tr>\n",
       "<tr>\n",
       "  <th>Last Activity_Email Bounced</th>                          <td>   -1.1606</td> <td>    0.380</td> <td>   -3.057</td> <td> 0.002</td> <td>   -1.905</td> <td>   -0.416</td>\n",
       "</tr>\n",
       "<tr>\n",
       "  <th>Last Activity_Email Opened</th>                           <td>    1.2338</td> <td>    0.219</td> <td>    5.639</td> <td> 0.000</td> <td>    0.805</td> <td>    1.663</td>\n",
       "</tr>\n",
       "<tr>\n",
       "  <th>Last Activity_Form Submitted on Website</th>              <td>    0.4474</td> <td>    0.434</td> <td>    1.030</td> <td> 0.303</td> <td>   -0.404</td> <td>    1.299</td>\n",
       "</tr>\n",
       "<tr>\n",
       "  <th>Last Activity_Olark Chat Conversation</th>                <td>   -0.3196</td> <td>    0.275</td> <td>   -1.161</td> <td> 0.246</td> <td>   -0.859</td> <td>    0.220</td>\n",
       "</tr>\n",
       "<tr>\n",
       "  <th>Last Activity_SMS Sent</th>                               <td>    1.4151</td> <td>    0.226</td> <td>    6.259</td> <td> 0.000</td> <td>    0.972</td> <td>    1.858</td>\n",
       "</tr>\n",
       "<tr>\n",
       "  <th>Specialization_E-COMMERCE</th>                            <td>    0.4428</td> <td>    0.382</td> <td>    1.158</td> <td> 0.247</td> <td>   -0.307</td> <td>    1.192</td>\n",
       "</tr>\n",
       "<tr>\n",
       "  <th>Specialization_Finance Management</th>                    <td>    0.3429</td> <td>    0.162</td> <td>    2.115</td> <td> 0.034</td> <td>    0.025</td> <td>    0.661</td>\n",
       "</tr>\n",
       "<tr>\n",
       "  <th>Specialization_Hospitality Management</th>                <td>   -0.6603</td> <td>    0.425</td> <td>   -1.555</td> <td> 0.120</td> <td>   -1.493</td> <td>    0.172</td>\n",
       "</tr>\n",
       "<tr>\n",
       "  <th>Specialization_International Business</th>                <td>   -0.6717</td> <td>    0.366</td> <td>   -1.833</td> <td> 0.067</td> <td>   -1.390</td> <td>    0.047</td>\n",
       "</tr>\n",
       "<tr>\n",
       "  <th>Specialization_Travel and Tourism</th>                    <td>   -0.5600</td> <td>    0.344</td> <td>   -1.630</td> <td> 0.103</td> <td>   -1.233</td> <td>    0.113</td>\n",
       "</tr>\n",
       "<tr>\n",
       "  <th>What is your current occupation_Other</th>                <td>   -1.2687</td> <td>    0.104</td> <td>  -12.236</td> <td> 0.000</td> <td>   -1.472</td> <td>   -1.065</td>\n",
       "</tr>\n",
       "<tr>\n",
       "  <th>What is your current occupation_Working Professional</th> <td>    1.3010</td> <td>    0.273</td> <td>    4.765</td> <td> 0.000</td> <td>    0.766</td> <td>    1.836</td>\n",
       "</tr>\n",
       "<tr>\n",
       "  <th>Tags_Others</th>                                          <td>    3.7915</td> <td>    0.194</td> <td>   19.524</td> <td> 0.000</td> <td>    3.411</td> <td>    4.172</td>\n",
       "</tr>\n",
       "<tr>\n",
       "  <th>Tags_Will revert after reading the email</th>             <td>    7.1332</td> <td>    0.251</td> <td>   28.374</td> <td> 0.000</td> <td>    6.640</td> <td>    7.626</td>\n",
       "</tr>\n",
       "<tr>\n",
       "  <th>Last Notable Activity_Email Opened</th>                   <td>   -1.0012</td> <td>    0.280</td> <td>   -3.572</td> <td> 0.000</td> <td>   -1.551</td> <td>   -0.452</td>\n",
       "</tr>\n",
       "<tr>\n",
       "  <th>Last Notable Activity_Modified</th>                       <td>   -0.9650</td> <td>    0.222</td> <td>   -4.349</td> <td> 0.000</td> <td>   -1.400</td> <td>   -0.530</td>\n",
       "</tr>\n",
       "<tr>\n",
       "  <th>Last Notable Activity_Olark Chat Conversation</th>        <td>   -0.7617</td> <td>    0.496</td> <td>   -1.536</td> <td> 0.125</td> <td>   -1.734</td> <td>    0.210</td>\n",
       "</tr>\n",
       "<tr>\n",
       "  <th>Last Notable Activity_SMS Sent</th>                       <td>    0.2054</td> <td>    0.289</td> <td>    0.710</td> <td> 0.478</td> <td>   -0.362</td> <td>    0.773</td>\n",
       "</tr>\n",
       "</table>"
      ],
      "text/plain": [
       "<class 'statsmodels.iolib.summary.Summary'>\n",
       "\"\"\"\n",
       "                 Generalized Linear Model Regression Results                  \n",
       "==============================================================================\n",
       "Dep. Variable:              Converted   No. Observations:                 6468\n",
       "Model:                            GLM   Df Residuals:                     6443\n",
       "Model Family:                Binomial   Df Model:                           24\n",
       "Link Function:                  logit   Scale:                          1.0000\n",
       "Method:                          IRLS   Log-Likelihood:                -1597.1\n",
       "Date:                Mon, 14 Mar 2022   Deviance:                       3194.2\n",
       "Time:                        15:34:30   Pearson chi2:                 1.09e+04\n",
       "No. Iterations:                     7   Pseudo R-squ. (CS):             0.5663\n",
       "Covariance Type:            nonrobust                                         \n",
       "========================================================================================================================\n",
       "                                                           coef    std err          z      P>|z|      [0.025      0.975]\n",
       "------------------------------------------------------------------------------------------------------------------------\n",
       "const                                                   -4.5448      0.265    -17.161      0.000      -5.064      -4.026\n",
       "Total Time Spent on Website                              1.1225      0.053     21.190      0.000       1.019       1.226\n",
       "Lead Origin_Landing Page Submission                     -0.5233      0.121     -4.321      0.000      -0.761      -0.286\n",
       "Lead Origin_Lead Add Form                                1.5310      0.663      2.309      0.021       0.231       2.831\n",
       "Lead Source_Olark Chat                                   0.9721      0.151      6.419      0.000       0.675       1.269\n",
       "Lead Source_Reference                                    1.6595      0.702      2.365      0.018       0.284       3.035\n",
       "Lead Source_Welingak Website                             3.2432      0.974      3.328      0.001       1.333       5.153\n",
       "Last Activity_Email Bounced                             -1.1606      0.380     -3.057      0.002      -1.905      -0.416\n",
       "Last Activity_Email Opened                               1.2338      0.219      5.639      0.000       0.805       1.663\n",
       "Last Activity_Form Submitted on Website                  0.4474      0.434      1.030      0.303      -0.404       1.299\n",
       "Last Activity_Olark Chat Conversation                   -0.3196      0.275     -1.161      0.246      -0.859       0.220\n",
       "Last Activity_SMS Sent                                   1.4151      0.226      6.259      0.000       0.972       1.858\n",
       "Specialization_E-COMMERCE                                0.4428      0.382      1.158      0.247      -0.307       1.192\n",
       "Specialization_Finance Management                        0.3429      0.162      2.115      0.034       0.025       0.661\n",
       "Specialization_Hospitality Management                   -0.6603      0.425     -1.555      0.120      -1.493       0.172\n",
       "Specialization_International Business                   -0.6717      0.366     -1.833      0.067      -1.390       0.047\n",
       "Specialization_Travel and Tourism                       -0.5600      0.344     -1.630      0.103      -1.233       0.113\n",
       "What is your current occupation_Other                   -1.2687      0.104    -12.236      0.000      -1.472      -1.065\n",
       "What is your current occupation_Working Professional     1.3010      0.273      4.765      0.000       0.766       1.836\n",
       "Tags_Others                                              3.7915      0.194     19.524      0.000       3.411       4.172\n",
       "Tags_Will revert after reading the email                 7.1332      0.251     28.374      0.000       6.640       7.626\n",
       "Last Notable Activity_Email Opened                      -1.0012      0.280     -3.572      0.000      -1.551      -0.452\n",
       "Last Notable Activity_Modified                          -0.9650      0.222     -4.349      0.000      -1.400      -0.530\n",
       "Last Notable Activity_Olark Chat Conversation           -0.7617      0.496     -1.536      0.125      -1.734       0.210\n",
       "Last Notable Activity_SMS Sent                           0.2054      0.289      0.710      0.478      -0.362       0.773\n",
       "========================================================================================================================\n",
       "\"\"\""
      ]
     },
     "execution_count": 422,
     "metadata": {},
     "output_type": "execute_result"
    }
   ],
   "source": [
    "# Now we drop the variable 'Tags_Ringing' since it has the high P-Value and we build the model again :\n",
    "col = col.drop('Tags_Ringing', 1)\n",
    "\n",
    "X_train_4 = sm.add_constant(X_train[col])\n",
    "log_m4 = sm.GLM(y_train,X_train_4,family=sm.families.Binomial())\n",
    "log_model_4 = log_m4.fit()\n",
    "log_model_4.summary()"
   ]
  },
  {
   "cell_type": "code",
   "execution_count": 423,
   "id": "4c09ec32",
   "metadata": {},
   "outputs": [
    {
     "data": {
      "text/html": [
       "<table class=\"simpletable\">\n",
       "<caption>Generalized Linear Model Regression Results</caption>\n",
       "<tr>\n",
       "  <th>Dep. Variable:</th>       <td>Converted</td>    <th>  No. Observations:  </th>  <td>  6468</td> \n",
       "</tr>\n",
       "<tr>\n",
       "  <th>Model:</th>                  <td>GLM</td>       <th>  Df Residuals:      </th>  <td>  6444</td> \n",
       "</tr>\n",
       "<tr>\n",
       "  <th>Model Family:</th>        <td>Binomial</td>     <th>  Df Model:          </th>  <td>    23</td> \n",
       "</tr>\n",
       "<tr>\n",
       "  <th>Link Function:</th>         <td>logit</td>      <th>  Scale:             </th> <td>  1.0000</td>\n",
       "</tr>\n",
       "<tr>\n",
       "  <th>Method:</th>                <td>IRLS</td>       <th>  Log-Likelihood:    </th> <td> -1598.4</td>\n",
       "</tr>\n",
       "<tr>\n",
       "  <th>Date:</th>            <td>Mon, 14 Mar 2022</td> <th>  Deviance:          </th> <td>  3196.7</td>\n",
       "</tr>\n",
       "<tr>\n",
       "  <th>Time:</th>                <td>15:34:31</td>     <th>  Pearson chi2:      </th> <td>1.08e+04</td>\n",
       "</tr>\n",
       "<tr>\n",
       "  <th>No. Iterations:</th>          <td>7</td>        <th>  Pseudo R-squ. (CS):</th>  <td>0.5662</td> \n",
       "</tr>\n",
       "<tr>\n",
       "  <th>Covariance Type:</th>     <td>nonrobust</td>    <th>                     </th>     <td> </td>   \n",
       "</tr>\n",
       "</table>\n",
       "<table class=\"simpletable\">\n",
       "<tr>\n",
       "                            <td></td>                              <th>coef</th>     <th>std err</th>      <th>z</th>      <th>P>|z|</th>  <th>[0.025</th>    <th>0.975]</th>  \n",
       "</tr>\n",
       "<tr>\n",
       "  <th>const</th>                                                <td>   -4.5523</td> <td>    0.265</td> <td>  -17.182</td> <td> 0.000</td> <td>   -5.072</td> <td>   -4.033</td>\n",
       "</tr>\n",
       "<tr>\n",
       "  <th>Total Time Spent on Website</th>                          <td>    1.1192</td> <td>    0.053</td> <td>   21.176</td> <td> 0.000</td> <td>    1.016</td> <td>    1.223</td>\n",
       "</tr>\n",
       "<tr>\n",
       "  <th>Lead Origin_Landing Page Submission</th>                  <td>   -0.5360</td> <td>    0.121</td> <td>   -4.435</td> <td> 0.000</td> <td>   -0.773</td> <td>   -0.299</td>\n",
       "</tr>\n",
       "<tr>\n",
       "  <th>Lead Origin_Lead Add Form</th>                            <td>    1.5366</td> <td>    0.664</td> <td>    2.316</td> <td> 0.021</td> <td>    0.236</td> <td>    2.837</td>\n",
       "</tr>\n",
       "<tr>\n",
       "  <th>Lead Source_Olark Chat</th>                               <td>    0.9709</td> <td>    0.151</td> <td>    6.412</td> <td> 0.000</td> <td>    0.674</td> <td>    1.268</td>\n",
       "</tr>\n",
       "<tr>\n",
       "  <th>Lead Source_Reference</th>                                <td>    1.6178</td> <td>    0.702</td> <td>    2.306</td> <td> 0.021</td> <td>    0.243</td> <td>    2.993</td>\n",
       "</tr>\n",
       "<tr>\n",
       "  <th>Lead Source_Welingak Website</th>                         <td>    3.2372</td> <td>    0.975</td> <td>    3.321</td> <td> 0.001</td> <td>    1.327</td> <td>    5.148</td>\n",
       "</tr>\n",
       "<tr>\n",
       "  <th>Last Activity_Email Bounced</th>                          <td>   -1.1874</td> <td>    0.381</td> <td>   -3.120</td> <td> 0.002</td> <td>   -1.933</td> <td>   -0.441</td>\n",
       "</tr>\n",
       "<tr>\n",
       "  <th>Last Activity_Email Opened</th>                           <td>    1.2294</td> <td>    0.219</td> <td>    5.616</td> <td> 0.000</td> <td>    0.800</td> <td>    1.658</td>\n",
       "</tr>\n",
       "<tr>\n",
       "  <th>Last Activity_Form Submitted on Website</th>              <td>    0.4548</td> <td>    0.434</td> <td>    1.048</td> <td> 0.294</td> <td>   -0.395</td> <td>    1.305</td>\n",
       "</tr>\n",
       "<tr>\n",
       "  <th>Last Activity_Olark Chat Conversation</th>                <td>   -0.3224</td> <td>    0.275</td> <td>   -1.172</td> <td> 0.241</td> <td>   -0.862</td> <td>    0.217</td>\n",
       "</tr>\n",
       "<tr>\n",
       "  <th>Last Activity_SMS Sent</th>                               <td>    1.4104</td> <td>    0.226</td> <td>    6.245</td> <td> 0.000</td> <td>    0.968</td> <td>    1.853</td>\n",
       "</tr>\n",
       "<tr>\n",
       "  <th>Specialization_E-COMMERCE</th>                            <td>    0.4576</td> <td>    0.382</td> <td>    1.197</td> <td> 0.231</td> <td>   -0.292</td> <td>    1.207</td>\n",
       "</tr>\n",
       "<tr>\n",
       "  <th>Specialization_Finance Management</th>                    <td>    0.3583</td> <td>    0.162</td> <td>    2.215</td> <td> 0.027</td> <td>    0.041</td> <td>    0.675</td>\n",
       "</tr>\n",
       "<tr>\n",
       "  <th>Specialization_International Business</th>                <td>   -0.6568</td> <td>    0.366</td> <td>   -1.794</td> <td> 0.073</td> <td>   -1.374</td> <td>    0.061</td>\n",
       "</tr>\n",
       "<tr>\n",
       "  <th>Specialization_Travel and Tourism</th>                    <td>   -0.5439</td> <td>    0.343</td> <td>   -1.584</td> <td> 0.113</td> <td>   -1.217</td> <td>    0.129</td>\n",
       "</tr>\n",
       "<tr>\n",
       "  <th>What is your current occupation_Other</th>                <td>   -1.2703</td> <td>    0.104</td> <td>  -12.255</td> <td> 0.000</td> <td>   -1.473</td> <td>   -1.067</td>\n",
       "</tr>\n",
       "<tr>\n",
       "  <th>What is your current occupation_Working Professional</th> <td>    1.3026</td> <td>    0.272</td> <td>    4.782</td> <td> 0.000</td> <td>    0.769</td> <td>    1.836</td>\n",
       "</tr>\n",
       "<tr>\n",
       "  <th>Tags_Others</th>                                          <td>    3.7991</td> <td>    0.194</td> <td>   19.557</td> <td> 0.000</td> <td>    3.418</td> <td>    4.180</td>\n",
       "</tr>\n",
       "<tr>\n",
       "  <th>Tags_Will revert after reading the email</th>             <td>    7.1349</td> <td>    0.251</td> <td>   28.401</td> <td> 0.000</td> <td>    6.642</td> <td>    7.627</td>\n",
       "</tr>\n",
       "<tr>\n",
       "  <th>Last Notable Activity_Email Opened</th>                   <td>   -0.9966</td> <td>    0.280</td> <td>   -3.553</td> <td> 0.000</td> <td>   -1.546</td> <td>   -0.447</td>\n",
       "</tr>\n",
       "<tr>\n",
       "  <th>Last Notable Activity_Modified</th>                       <td>   -0.9643</td> <td>    0.222</td> <td>   -4.342</td> <td> 0.000</td> <td>   -1.400</td> <td>   -0.529</td>\n",
       "</tr>\n",
       "<tr>\n",
       "  <th>Last Notable Activity_Olark Chat Conversation</th>        <td>   -0.7557</td> <td>    0.496</td> <td>   -1.525</td> <td> 0.127</td> <td>   -1.727</td> <td>    0.216</td>\n",
       "</tr>\n",
       "<tr>\n",
       "  <th>Last Notable Activity_SMS Sent</th>                       <td>    0.2109</td> <td>    0.289</td> <td>    0.729</td> <td> 0.466</td> <td>   -0.356</td> <td>    0.778</td>\n",
       "</tr>\n",
       "</table>"
      ],
      "text/plain": [
       "<class 'statsmodels.iolib.summary.Summary'>\n",
       "\"\"\"\n",
       "                 Generalized Linear Model Regression Results                  \n",
       "==============================================================================\n",
       "Dep. Variable:              Converted   No. Observations:                 6468\n",
       "Model:                            GLM   Df Residuals:                     6444\n",
       "Model Family:                Binomial   Df Model:                           23\n",
       "Link Function:                  logit   Scale:                          1.0000\n",
       "Method:                          IRLS   Log-Likelihood:                -1598.4\n",
       "Date:                Mon, 14 Mar 2022   Deviance:                       3196.7\n",
       "Time:                        15:34:31   Pearson chi2:                 1.08e+04\n",
       "No. Iterations:                     7   Pseudo R-squ. (CS):             0.5662\n",
       "Covariance Type:            nonrobust                                         \n",
       "========================================================================================================================\n",
       "                                                           coef    std err          z      P>|z|      [0.025      0.975]\n",
       "------------------------------------------------------------------------------------------------------------------------\n",
       "const                                                   -4.5523      0.265    -17.182      0.000      -5.072      -4.033\n",
       "Total Time Spent on Website                              1.1192      0.053     21.176      0.000       1.016       1.223\n",
       "Lead Origin_Landing Page Submission                     -0.5360      0.121     -4.435      0.000      -0.773      -0.299\n",
       "Lead Origin_Lead Add Form                                1.5366      0.664      2.316      0.021       0.236       2.837\n",
       "Lead Source_Olark Chat                                   0.9709      0.151      6.412      0.000       0.674       1.268\n",
       "Lead Source_Reference                                    1.6178      0.702      2.306      0.021       0.243       2.993\n",
       "Lead Source_Welingak Website                             3.2372      0.975      3.321      0.001       1.327       5.148\n",
       "Last Activity_Email Bounced                             -1.1874      0.381     -3.120      0.002      -1.933      -0.441\n",
       "Last Activity_Email Opened                               1.2294      0.219      5.616      0.000       0.800       1.658\n",
       "Last Activity_Form Submitted on Website                  0.4548      0.434      1.048      0.294      -0.395       1.305\n",
       "Last Activity_Olark Chat Conversation                   -0.3224      0.275     -1.172      0.241      -0.862       0.217\n",
       "Last Activity_SMS Sent                                   1.4104      0.226      6.245      0.000       0.968       1.853\n",
       "Specialization_E-COMMERCE                                0.4576      0.382      1.197      0.231      -0.292       1.207\n",
       "Specialization_Finance Management                        0.3583      0.162      2.215      0.027       0.041       0.675\n",
       "Specialization_International Business                   -0.6568      0.366     -1.794      0.073      -1.374       0.061\n",
       "Specialization_Travel and Tourism                       -0.5439      0.343     -1.584      0.113      -1.217       0.129\n",
       "What is your current occupation_Other                   -1.2703      0.104    -12.255      0.000      -1.473      -1.067\n",
       "What is your current occupation_Working Professional     1.3026      0.272      4.782      0.000       0.769       1.836\n",
       "Tags_Others                                              3.7991      0.194     19.557      0.000       3.418       4.180\n",
       "Tags_Will revert after reading the email                 7.1349      0.251     28.401      0.000       6.642       7.627\n",
       "Last Notable Activity_Email Opened                      -0.9966      0.280     -3.553      0.000      -1.546      -0.447\n",
       "Last Notable Activity_Modified                          -0.9643      0.222     -4.342      0.000      -1.400      -0.529\n",
       "Last Notable Activity_Olark Chat Conversation           -0.7557      0.496     -1.525      0.127      -1.727       0.216\n",
       "Last Notable Activity_SMS Sent                           0.2109      0.289      0.729      0.466      -0.356       0.778\n",
       "========================================================================================================================\n",
       "\"\"\""
      ]
     },
     "execution_count": 423,
     "metadata": {},
     "output_type": "execute_result"
    }
   ],
   "source": [
    "# Now we Drop the variable 'Specialization_Hospitality Management' since it has a highh P-Value and rebuild the model :\n",
    "col = col.drop('Specialization_Hospitality Management', 1)\n",
    "\n",
    "X_train_5 = sm.add_constant(X_train[col])\n",
    "log_m5 = sm.GLM(y_train,X_train_5,family=sm.families.Binomial())\n",
    "log_model_5 = log_m5.fit()\n",
    "log_model_5.summary()"
   ]
  },
  {
   "cell_type": "code",
   "execution_count": 424,
   "id": "83e11987",
   "metadata": {},
   "outputs": [
    {
     "data": {
      "text/html": [
       "<div>\n",
       "<style scoped>\n",
       "    .dataframe tbody tr th:only-of-type {\n",
       "        vertical-align: middle;\n",
       "    }\n",
       "\n",
       "    .dataframe tbody tr th {\n",
       "        vertical-align: top;\n",
       "    }\n",
       "\n",
       "    .dataframe thead th {\n",
       "        text-align: right;\n",
       "    }\n",
       "</style>\n",
       "<table border=\"1\" class=\"dataframe\">\n",
       "  <thead>\n",
       "    <tr style=\"text-align: right;\">\n",
       "      <th></th>\n",
       "      <th>Features</th>\n",
       "      <th>VIF</th>\n",
       "    </tr>\n",
       "  </thead>\n",
       "  <tbody>\n",
       "    <tr>\n",
       "      <th>2</th>\n",
       "      <td>Lead Origin_Lead Add Form</td>\n",
       "      <td>16.19</td>\n",
       "    </tr>\n",
       "    <tr>\n",
       "      <th>4</th>\n",
       "      <td>Lead Source_Reference</td>\n",
       "      <td>12.95</td>\n",
       "    </tr>\n",
       "    <tr>\n",
       "      <th>19</th>\n",
       "      <td>Last Notable Activity_Email Opened</td>\n",
       "      <td>9.62</td>\n",
       "    </tr>\n",
       "    <tr>\n",
       "      <th>7</th>\n",
       "      <td>Last Activity_Email Opened</td>\n",
       "      <td>8.96</td>\n",
       "    </tr>\n",
       "    <tr>\n",
       "      <th>22</th>\n",
       "      <td>Last Notable Activity_SMS Sent</td>\n",
       "      <td>7.77</td>\n",
       "    </tr>\n",
       "    <tr>\n",
       "      <th>10</th>\n",
       "      <td>Last Activity_SMS Sent</td>\n",
       "      <td>7.38</td>\n",
       "    </tr>\n",
       "    <tr>\n",
       "      <th>20</th>\n",
       "      <td>Last Notable Activity_Modified</td>\n",
       "      <td>4.55</td>\n",
       "    </tr>\n",
       "    <tr>\n",
       "      <th>17</th>\n",
       "      <td>Tags_Others</td>\n",
       "      <td>4.11</td>\n",
       "    </tr>\n",
       "    <tr>\n",
       "      <th>5</th>\n",
       "      <td>Lead Source_Welingak Website</td>\n",
       "      <td>3.81</td>\n",
       "    </tr>\n",
       "    <tr>\n",
       "      <th>1</th>\n",
       "      <td>Lead Origin_Landing Page Submission</td>\n",
       "      <td>3.26</td>\n",
       "    </tr>\n",
       "    <tr>\n",
       "      <th>9</th>\n",
       "      <td>Last Activity_Olark Chat Conversation</td>\n",
       "      <td>2.48</td>\n",
       "    </tr>\n",
       "    <tr>\n",
       "      <th>18</th>\n",
       "      <td>Tags_Will revert after reading the email</td>\n",
       "      <td>2.38</td>\n",
       "    </tr>\n",
       "    <tr>\n",
       "      <th>15</th>\n",
       "      <td>What is your current occupation_Other</td>\n",
       "      <td>2.35</td>\n",
       "    </tr>\n",
       "    <tr>\n",
       "      <th>3</th>\n",
       "      <td>Lead Source_Olark Chat</td>\n",
       "      <td>2.23</td>\n",
       "    </tr>\n",
       "    <tr>\n",
       "      <th>21</th>\n",
       "      <td>Last Notable Activity_Olark Chat Conversation</td>\n",
       "      <td>1.47</td>\n",
       "    </tr>\n",
       "    <tr>\n",
       "      <th>0</th>\n",
       "      <td>Total Time Spent on Website</td>\n",
       "      <td>1.34</td>\n",
       "    </tr>\n",
       "    <tr>\n",
       "      <th>16</th>\n",
       "      <td>What is your current occupation_Working Profes...</td>\n",
       "      <td>1.33</td>\n",
       "    </tr>\n",
       "    <tr>\n",
       "      <th>6</th>\n",
       "      <td>Last Activity_Email Bounced</td>\n",
       "      <td>1.23</td>\n",
       "    </tr>\n",
       "    <tr>\n",
       "      <th>12</th>\n",
       "      <td>Specialization_Finance Management</td>\n",
       "      <td>1.20</td>\n",
       "    </tr>\n",
       "    <tr>\n",
       "      <th>8</th>\n",
       "      <td>Last Activity_Form Submitted on Website</td>\n",
       "      <td>1.11</td>\n",
       "    </tr>\n",
       "    <tr>\n",
       "      <th>14</th>\n",
       "      <td>Specialization_Travel and Tourism</td>\n",
       "      <td>1.05</td>\n",
       "    </tr>\n",
       "    <tr>\n",
       "      <th>13</th>\n",
       "      <td>Specialization_International Business</td>\n",
       "      <td>1.04</td>\n",
       "    </tr>\n",
       "    <tr>\n",
       "      <th>11</th>\n",
       "      <td>Specialization_E-COMMERCE</td>\n",
       "      <td>1.03</td>\n",
       "    </tr>\n",
       "  </tbody>\n",
       "</table>\n",
       "</div>"
      ],
      "text/plain": [
       "                                             Features    VIF\n",
       "2                           Lead Origin_Lead Add Form  16.19\n",
       "4                               Lead Source_Reference  12.95\n",
       "19                 Last Notable Activity_Email Opened   9.62\n",
       "7                          Last Activity_Email Opened   8.96\n",
       "22                     Last Notable Activity_SMS Sent   7.77\n",
       "10                             Last Activity_SMS Sent   7.38\n",
       "20                     Last Notable Activity_Modified   4.55\n",
       "17                                        Tags_Others   4.11\n",
       "5                        Lead Source_Welingak Website   3.81\n",
       "1                 Lead Origin_Landing Page Submission   3.26\n",
       "9               Last Activity_Olark Chat Conversation   2.48\n",
       "18           Tags_Will revert after reading the email   2.38\n",
       "15              What is your current occupation_Other   2.35\n",
       "3                              Lead Source_Olark Chat   2.23\n",
       "21      Last Notable Activity_Olark Chat Conversation   1.47\n",
       "0                         Total Time Spent on Website   1.34\n",
       "16  What is your current occupation_Working Profes...   1.33\n",
       "6                         Last Activity_Email Bounced   1.23\n",
       "12                  Specialization_Finance Management   1.20\n",
       "8             Last Activity_Form Submitted on Website   1.11\n",
       "14                  Specialization_Travel and Tourism   1.05\n",
       "13              Specialization_International Business   1.04\n",
       "11                          Specialization_E-COMMERCE   1.03"
      ]
     },
     "execution_count": 424,
     "metadata": {},
     "output_type": "execute_result"
    }
   ],
   "source": [
    "# Now let us check the VIF of the above model :\n",
    "# In order to do this we create a dataframe that contains all the  feature variables and their respective VIFs\n",
    "vif = pd.DataFrame()\n",
    "vif['Features'] = X_train[col].columns\n",
    "vif['VIF'] = [variance_inflation_factor(X_train[col].values, i) for i in range(X_train[col].shape[1])]\n",
    "vif['VIF'] = round(vif['VIF'], 2)\n",
    "vif = vif.sort_values(by = \"VIF\", ascending = False)\n",
    "vif"
   ]
  },
  {
   "cell_type": "code",
   "execution_count": 425,
   "id": "12ad8448",
   "metadata": {},
   "outputs": [
    {
     "data": {
      "text/html": [
       "<table class=\"simpletable\">\n",
       "<caption>Generalized Linear Model Regression Results</caption>\n",
       "<tr>\n",
       "  <th>Dep. Variable:</th>       <td>Converted</td>    <th>  No. Observations:  </th>  <td>  6468</td> \n",
       "</tr>\n",
       "<tr>\n",
       "  <th>Model:</th>                  <td>GLM</td>       <th>  Df Residuals:      </th>  <td>  6445</td> \n",
       "</tr>\n",
       "<tr>\n",
       "  <th>Model Family:</th>        <td>Binomial</td>     <th>  Df Model:          </th>  <td>    22</td> \n",
       "</tr>\n",
       "<tr>\n",
       "  <th>Link Function:</th>         <td>logit</td>      <th>  Scale:             </th> <td>  1.0000</td>\n",
       "</tr>\n",
       "<tr>\n",
       "  <th>Method:</th>                <td>IRLS</td>       <th>  Log-Likelihood:    </th> <td> -1600.8</td>\n",
       "</tr>\n",
       "<tr>\n",
       "  <th>Date:</th>            <td>Mon, 14 Mar 2022</td> <th>  Deviance:          </th> <td>  3201.6</td>\n",
       "</tr>\n",
       "<tr>\n",
       "  <th>Time:</th>                <td>15:34:32</td>     <th>  Pearson chi2:      </th> <td>1.04e+04</td>\n",
       "</tr>\n",
       "<tr>\n",
       "  <th>No. Iterations:</th>          <td>7</td>        <th>  Pseudo R-squ. (CS):</th>  <td>0.5659</td> \n",
       "</tr>\n",
       "<tr>\n",
       "  <th>Covariance Type:</th>     <td>nonrobust</td>    <th>                     </th>     <td> </td>   \n",
       "</tr>\n",
       "</table>\n",
       "<table class=\"simpletable\">\n",
       "<tr>\n",
       "                            <td></td>                              <th>coef</th>     <th>std err</th>      <th>z</th>      <th>P>|z|</th>  <th>[0.025</th>    <th>0.975]</th>  \n",
       "</tr>\n",
       "<tr>\n",
       "  <th>const</th>                                                <td>   -4.5282</td> <td>    0.264</td> <td>  -17.153</td> <td> 0.000</td> <td>   -5.046</td> <td>   -4.011</td>\n",
       "</tr>\n",
       "<tr>\n",
       "  <th>Total Time Spent on Website</th>                          <td>    1.1171</td> <td>    0.053</td> <td>   21.155</td> <td> 0.000</td> <td>    1.014</td> <td>    1.221</td>\n",
       "</tr>\n",
       "<tr>\n",
       "  <th>Lead Origin_Landing Page Submission</th>                  <td>   -0.5385</td> <td>    0.121</td> <td>   -4.456</td> <td> 0.000</td> <td>   -0.775</td> <td>   -0.302</td>\n",
       "</tr>\n",
       "<tr>\n",
       "  <th>Lead Origin_Lead Add Form</th>                            <td>    2.9813</td> <td>    0.261</td> <td>   11.443</td> <td> 0.000</td> <td>    2.471</td> <td>    3.492</td>\n",
       "</tr>\n",
       "<tr>\n",
       "  <th>Lead Source_Olark Chat</th>                               <td>    0.9637</td> <td>    0.152</td> <td>    6.360</td> <td> 0.000</td> <td>    0.667</td> <td>    1.261</td>\n",
       "</tr>\n",
       "<tr>\n",
       "  <th>Lead Source_Welingak Website</th>                         <td>    1.7954</td> <td>    0.760</td> <td>    2.362</td> <td> 0.018</td> <td>    0.305</td> <td>    3.285</td>\n",
       "</tr>\n",
       "<tr>\n",
       "  <th>Last Activity_Email Bounced</th>                          <td>   -1.2815</td> <td>    0.383</td> <td>   -3.344</td> <td> 0.001</td> <td>   -2.032</td> <td>   -0.530</td>\n",
       "</tr>\n",
       "<tr>\n",
       "  <th>Last Activity_Email Opened</th>                           <td>    1.2313</td> <td>    0.218</td> <td>    5.640</td> <td> 0.000</td> <td>    0.803</td> <td>    1.659</td>\n",
       "</tr>\n",
       "<tr>\n",
       "  <th>Last Activity_Form Submitted on Website</th>              <td>    0.4602</td> <td>    0.432</td> <td>    1.064</td> <td> 0.287</td> <td>   -0.387</td> <td>    1.307</td>\n",
       "</tr>\n",
       "<tr>\n",
       "  <th>Last Activity_Olark Chat Conversation</th>                <td>   -0.3202</td> <td>    0.275</td> <td>   -1.165</td> <td> 0.244</td> <td>   -0.859</td> <td>    0.218</td>\n",
       "</tr>\n",
       "<tr>\n",
       "  <th>Last Activity_SMS Sent</th>                               <td>    1.4016</td> <td>    0.226</td> <td>    6.214</td> <td> 0.000</td> <td>    0.959</td> <td>    1.844</td>\n",
       "</tr>\n",
       "<tr>\n",
       "  <th>Specialization_E-COMMERCE</th>                            <td>    0.4606</td> <td>    0.382</td> <td>    1.207</td> <td> 0.227</td> <td>   -0.287</td> <td>    1.209</td>\n",
       "</tr>\n",
       "<tr>\n",
       "  <th>Specialization_Finance Management</th>                    <td>    0.3618</td> <td>    0.162</td> <td>    2.240</td> <td> 0.025</td> <td>    0.045</td> <td>    0.678</td>\n",
       "</tr>\n",
       "<tr>\n",
       "  <th>Specialization_International Business</th>                <td>   -0.6471</td> <td>    0.365</td> <td>   -1.773</td> <td> 0.076</td> <td>   -1.362</td> <td>    0.068</td>\n",
       "</tr>\n",
       "<tr>\n",
       "  <th>Specialization_Travel and Tourism</th>                    <td>   -0.5409</td> <td>    0.343</td> <td>   -1.575</td> <td> 0.115</td> <td>   -1.214</td> <td>    0.132</td>\n",
       "</tr>\n",
       "<tr>\n",
       "  <th>What is your current occupation_Other</th>                <td>   -1.2680</td> <td>    0.104</td> <td>  -12.237</td> <td> 0.000</td> <td>   -1.471</td> <td>   -1.065</td>\n",
       "</tr>\n",
       "<tr>\n",
       "  <th>What is your current occupation_Working Professional</th> <td>    1.3345</td> <td>    0.271</td> <td>    4.919</td> <td> 0.000</td> <td>    0.803</td> <td>    1.866</td>\n",
       "</tr>\n",
       "<tr>\n",
       "  <th>Tags_Others</th>                                          <td>    3.7848</td> <td>    0.193</td> <td>   19.568</td> <td> 0.000</td> <td>    3.406</td> <td>    4.164</td>\n",
       "</tr>\n",
       "<tr>\n",
       "  <th>Tags_Will revert after reading the email</th>             <td>    7.1159</td> <td>    0.250</td> <td>   28.410</td> <td> 0.000</td> <td>    6.625</td> <td>    7.607</td>\n",
       "</tr>\n",
       "<tr>\n",
       "  <th>Last Notable Activity_Email Opened</th>                   <td>   -1.0059</td> <td>    0.280</td> <td>   -3.592</td> <td> 0.000</td> <td>   -1.555</td> <td>   -0.457</td>\n",
       "</tr>\n",
       "<tr>\n",
       "  <th>Last Notable Activity_Modified</th>                       <td>   -0.9713</td> <td>    0.222</td> <td>   -4.376</td> <td> 0.000</td> <td>   -1.406</td> <td>   -0.536</td>\n",
       "</tr>\n",
       "<tr>\n",
       "  <th>Last Notable Activity_Olark Chat Conversation</th>        <td>   -0.7603</td> <td>    0.495</td> <td>   -1.537</td> <td> 0.124</td> <td>   -1.730</td> <td>    0.209</td>\n",
       "</tr>\n",
       "<tr>\n",
       "  <th>Last Notable Activity_SMS Sent</th>                       <td>    0.2090</td> <td>    0.289</td> <td>    0.723</td> <td> 0.470</td> <td>   -0.358</td> <td>    0.776</td>\n",
       "</tr>\n",
       "</table>"
      ],
      "text/plain": [
       "<class 'statsmodels.iolib.summary.Summary'>\n",
       "\"\"\"\n",
       "                 Generalized Linear Model Regression Results                  \n",
       "==============================================================================\n",
       "Dep. Variable:              Converted   No. Observations:                 6468\n",
       "Model:                            GLM   Df Residuals:                     6445\n",
       "Model Family:                Binomial   Df Model:                           22\n",
       "Link Function:                  logit   Scale:                          1.0000\n",
       "Method:                          IRLS   Log-Likelihood:                -1600.8\n",
       "Date:                Mon, 14 Mar 2022   Deviance:                       3201.6\n",
       "Time:                        15:34:32   Pearson chi2:                 1.04e+04\n",
       "No. Iterations:                     7   Pseudo R-squ. (CS):             0.5659\n",
       "Covariance Type:            nonrobust                                         \n",
       "========================================================================================================================\n",
       "                                                           coef    std err          z      P>|z|      [0.025      0.975]\n",
       "------------------------------------------------------------------------------------------------------------------------\n",
       "const                                                   -4.5282      0.264    -17.153      0.000      -5.046      -4.011\n",
       "Total Time Spent on Website                              1.1171      0.053     21.155      0.000       1.014       1.221\n",
       "Lead Origin_Landing Page Submission                     -0.5385      0.121     -4.456      0.000      -0.775      -0.302\n",
       "Lead Origin_Lead Add Form                                2.9813      0.261     11.443      0.000       2.471       3.492\n",
       "Lead Source_Olark Chat                                   0.9637      0.152      6.360      0.000       0.667       1.261\n",
       "Lead Source_Welingak Website                             1.7954      0.760      2.362      0.018       0.305       3.285\n",
       "Last Activity_Email Bounced                             -1.2815      0.383     -3.344      0.001      -2.032      -0.530\n",
       "Last Activity_Email Opened                               1.2313      0.218      5.640      0.000       0.803       1.659\n",
       "Last Activity_Form Submitted on Website                  0.4602      0.432      1.064      0.287      -0.387       1.307\n",
       "Last Activity_Olark Chat Conversation                   -0.3202      0.275     -1.165      0.244      -0.859       0.218\n",
       "Last Activity_SMS Sent                                   1.4016      0.226      6.214      0.000       0.959       1.844\n",
       "Specialization_E-COMMERCE                                0.4606      0.382      1.207      0.227      -0.287       1.209\n",
       "Specialization_Finance Management                        0.3618      0.162      2.240      0.025       0.045       0.678\n",
       "Specialization_International Business                   -0.6471      0.365     -1.773      0.076      -1.362       0.068\n",
       "Specialization_Travel and Tourism                       -0.5409      0.343     -1.575      0.115      -1.214       0.132\n",
       "What is your current occupation_Other                   -1.2680      0.104    -12.237      0.000      -1.471      -1.065\n",
       "What is your current occupation_Working Professional     1.3345      0.271      4.919      0.000       0.803       1.866\n",
       "Tags_Others                                              3.7848      0.193     19.568      0.000       3.406       4.164\n",
       "Tags_Will revert after reading the email                 7.1159      0.250     28.410      0.000       6.625       7.607\n",
       "Last Notable Activity_Email Opened                      -1.0059      0.280     -3.592      0.000      -1.555      -0.457\n",
       "Last Notable Activity_Modified                          -0.9713      0.222     -4.376      0.000      -1.406      -0.536\n",
       "Last Notable Activity_Olark Chat Conversation           -0.7603      0.495     -1.537      0.124      -1.730       0.209\n",
       "Last Notable Activity_SMS Sent                           0.2090      0.289      0.723      0.470      -0.358       0.776\n",
       "========================================================================================================================\n",
       "\"\"\""
      ]
     },
     "execution_count": 425,
     "metadata": {},
     "output_type": "execute_result"
    }
   ],
   "source": [
    "# As we see that the 'Lead_source_reference' has a very high VIF , so we drop this variable :\n",
    "col = col.drop('Lead Source_Reference', 1)\n",
    "\n",
    "X_train_6 = sm.add_constant(X_train[col])\n",
    "log_m6 = sm.GLM(y_train,X_train_6,family=sm.families.Binomial())\n",
    "log_model_6 = log_m6.fit()\n",
    "log_model_6.summary()"
   ]
  },
  {
   "cell_type": "code",
   "execution_count": 426,
   "id": "6ad2b1c4",
   "metadata": {},
   "outputs": [
    {
     "data": {
      "text/html": [
       "<div>\n",
       "<style scoped>\n",
       "    .dataframe tbody tr th:only-of-type {\n",
       "        vertical-align: middle;\n",
       "    }\n",
       "\n",
       "    .dataframe tbody tr th {\n",
       "        vertical-align: top;\n",
       "    }\n",
       "\n",
       "    .dataframe thead th {\n",
       "        text-align: right;\n",
       "    }\n",
       "</style>\n",
       "<table border=\"1\" class=\"dataframe\">\n",
       "  <thead>\n",
       "    <tr style=\"text-align: right;\">\n",
       "      <th></th>\n",
       "      <th>Features</th>\n",
       "      <th>VIF</th>\n",
       "    </tr>\n",
       "  </thead>\n",
       "  <tbody>\n",
       "    <tr>\n",
       "      <th>18</th>\n",
       "      <td>Last Notable Activity_Email Opened</td>\n",
       "      <td>9.62</td>\n",
       "    </tr>\n",
       "    <tr>\n",
       "      <th>6</th>\n",
       "      <td>Last Activity_Email Opened</td>\n",
       "      <td>8.96</td>\n",
       "    </tr>\n",
       "    <tr>\n",
       "      <th>21</th>\n",
       "      <td>Last Notable Activity_SMS Sent</td>\n",
       "      <td>7.77</td>\n",
       "    </tr>\n",
       "    <tr>\n",
       "      <th>9</th>\n",
       "      <td>Last Activity_SMS Sent</td>\n",
       "      <td>7.38</td>\n",
       "    </tr>\n",
       "    <tr>\n",
       "      <th>19</th>\n",
       "      <td>Last Notable Activity_Modified</td>\n",
       "      <td>4.55</td>\n",
       "    </tr>\n",
       "    <tr>\n",
       "      <th>16</th>\n",
       "      <td>Tags_Others</td>\n",
       "      <td>4.11</td>\n",
       "    </tr>\n",
       "    <tr>\n",
       "      <th>1</th>\n",
       "      <td>Lead Origin_Landing Page Submission</td>\n",
       "      <td>3.26</td>\n",
       "    </tr>\n",
       "    <tr>\n",
       "      <th>8</th>\n",
       "      <td>Last Activity_Olark Chat Conversation</td>\n",
       "      <td>2.48</td>\n",
       "    </tr>\n",
       "    <tr>\n",
       "      <th>17</th>\n",
       "      <td>Tags_Will revert after reading the email</td>\n",
       "      <td>2.38</td>\n",
       "    </tr>\n",
       "    <tr>\n",
       "      <th>14</th>\n",
       "      <td>What is your current occupation_Other</td>\n",
       "      <td>2.35</td>\n",
       "    </tr>\n",
       "    <tr>\n",
       "      <th>3</th>\n",
       "      <td>Lead Source_Olark Chat</td>\n",
       "      <td>2.23</td>\n",
       "    </tr>\n",
       "    <tr>\n",
       "      <th>2</th>\n",
       "      <td>Lead Origin_Lead Add Form</td>\n",
       "      <td>1.83</td>\n",
       "    </tr>\n",
       "    <tr>\n",
       "      <th>20</th>\n",
       "      <td>Last Notable Activity_Olark Chat Conversation</td>\n",
       "      <td>1.47</td>\n",
       "    </tr>\n",
       "    <tr>\n",
       "      <th>0</th>\n",
       "      <td>Total Time Spent on Website</td>\n",
       "      <td>1.34</td>\n",
       "    </tr>\n",
       "    <tr>\n",
       "      <th>15</th>\n",
       "      <td>What is your current occupation_Working Profes...</td>\n",
       "      <td>1.32</td>\n",
       "    </tr>\n",
       "    <tr>\n",
       "      <th>4</th>\n",
       "      <td>Lead Source_Welingak Website</td>\n",
       "      <td>1.27</td>\n",
       "    </tr>\n",
       "    <tr>\n",
       "      <th>5</th>\n",
       "      <td>Last Activity_Email Bounced</td>\n",
       "      <td>1.23</td>\n",
       "    </tr>\n",
       "    <tr>\n",
       "      <th>11</th>\n",
       "      <td>Specialization_Finance Management</td>\n",
       "      <td>1.20</td>\n",
       "    </tr>\n",
       "    <tr>\n",
       "      <th>7</th>\n",
       "      <td>Last Activity_Form Submitted on Website</td>\n",
       "      <td>1.11</td>\n",
       "    </tr>\n",
       "    <tr>\n",
       "      <th>13</th>\n",
       "      <td>Specialization_Travel and Tourism</td>\n",
       "      <td>1.05</td>\n",
       "    </tr>\n",
       "    <tr>\n",
       "      <th>12</th>\n",
       "      <td>Specialization_International Business</td>\n",
       "      <td>1.04</td>\n",
       "    </tr>\n",
       "    <tr>\n",
       "      <th>10</th>\n",
       "      <td>Specialization_E-COMMERCE</td>\n",
       "      <td>1.03</td>\n",
       "    </tr>\n",
       "  </tbody>\n",
       "</table>\n",
       "</div>"
      ],
      "text/plain": [
       "                                             Features   VIF\n",
       "18                 Last Notable Activity_Email Opened  9.62\n",
       "6                          Last Activity_Email Opened  8.96\n",
       "21                     Last Notable Activity_SMS Sent  7.77\n",
       "9                              Last Activity_SMS Sent  7.38\n",
       "19                     Last Notable Activity_Modified  4.55\n",
       "16                                        Tags_Others  4.11\n",
       "1                 Lead Origin_Landing Page Submission  3.26\n",
       "8               Last Activity_Olark Chat Conversation  2.48\n",
       "17           Tags_Will revert after reading the email  2.38\n",
       "14              What is your current occupation_Other  2.35\n",
       "3                              Lead Source_Olark Chat  2.23\n",
       "2                           Lead Origin_Lead Add Form  1.83\n",
       "20      Last Notable Activity_Olark Chat Conversation  1.47\n",
       "0                         Total Time Spent on Website  1.34\n",
       "15  What is your current occupation_Working Profes...  1.32\n",
       "4                        Lead Source_Welingak Website  1.27\n",
       "5                         Last Activity_Email Bounced  1.23\n",
       "11                  Specialization_Finance Management  1.20\n",
       "7             Last Activity_Form Submitted on Website  1.11\n",
       "13                  Specialization_Travel and Tourism  1.05\n",
       "12              Specialization_International Business  1.04\n",
       "10                          Specialization_E-COMMERCE  1.03"
      ]
     },
     "execution_count": 426,
     "metadata": {},
     "output_type": "execute_result"
    }
   ],
   "source": [
    "# Now we again check the VIF for the model :\n",
    "# First we create a data frame that contains all the  feature variables and their respective VIFs :\n",
    "vif = pd.DataFrame()\n",
    "vif['Features'] = X_train[col].columns\n",
    "vif['VIF'] = [variance_inflation_factor(X_train[col].values, i) for i in range(X_train[col].shape[1])]\n",
    "vif['VIF'] = round(vif['VIF'], 2)\n",
    "vif = vif.sort_values(by = \"VIF\", ascending = False)\n",
    "vif"
   ]
  },
  {
   "cell_type": "code",
   "execution_count": 427,
   "id": "f6268925",
   "metadata": {},
   "outputs": [
    {
     "data": {
      "text/html": [
       "<table class=\"simpletable\">\n",
       "<caption>Generalized Linear Model Regression Results</caption>\n",
       "<tr>\n",
       "  <th>Dep. Variable:</th>       <td>Converted</td>    <th>  No. Observations:  </th>  <td>  6468</td> \n",
       "</tr>\n",
       "<tr>\n",
       "  <th>Model:</th>                  <td>GLM</td>       <th>  Df Residuals:      </th>  <td>  6446</td> \n",
       "</tr>\n",
       "<tr>\n",
       "  <th>Model Family:</th>        <td>Binomial</td>     <th>  Df Model:          </th>  <td>    21</td> \n",
       "</tr>\n",
       "<tr>\n",
       "  <th>Link Function:</th>         <td>logit</td>      <th>  Scale:             </th> <td>  1.0000</td>\n",
       "</tr>\n",
       "<tr>\n",
       "  <th>Method:</th>                <td>IRLS</td>       <th>  Log-Likelihood:    </th> <td> -1607.2</td>\n",
       "</tr>\n",
       "<tr>\n",
       "  <th>Date:</th>            <td>Mon, 14 Mar 2022</td> <th>  Deviance:          </th> <td>  3214.4</td>\n",
       "</tr>\n",
       "<tr>\n",
       "  <th>Time:</th>                <td>15:34:33</td>     <th>  Pearson chi2:      </th> <td>1.05e+04</td>\n",
       "</tr>\n",
       "<tr>\n",
       "  <th>No. Iterations:</th>          <td>7</td>        <th>  Pseudo R-squ. (CS):</th>  <td>0.5650</td> \n",
       "</tr>\n",
       "<tr>\n",
       "  <th>Covariance Type:</th>     <td>nonrobust</td>    <th>                     </th>     <td> </td>   \n",
       "</tr>\n",
       "</table>\n",
       "<table class=\"simpletable\">\n",
       "<tr>\n",
       "                            <td></td>                              <th>coef</th>     <th>std err</th>      <th>z</th>      <th>P>|z|</th>  <th>[0.025</th>    <th>0.975]</th>  \n",
       "</tr>\n",
       "<tr>\n",
       "  <th>const</th>                                                <td>   -4.8836</td> <td>    0.249</td> <td>  -19.624</td> <td> 0.000</td> <td>   -5.371</td> <td>   -4.396</td>\n",
       "</tr>\n",
       "<tr>\n",
       "  <th>Total Time Spent on Website</th>                          <td>    1.1151</td> <td>    0.053</td> <td>   21.171</td> <td> 0.000</td> <td>    1.012</td> <td>    1.218</td>\n",
       "</tr>\n",
       "<tr>\n",
       "  <th>Lead Origin_Landing Page Submission</th>                  <td>   -0.5397</td> <td>    0.121</td> <td>   -4.475</td> <td> 0.000</td> <td>   -0.776</td> <td>   -0.303</td>\n",
       "</tr>\n",
       "<tr>\n",
       "  <th>Lead Origin_Lead Add Form</th>                            <td>    2.9751</td> <td>    0.260</td> <td>   11.456</td> <td> 0.000</td> <td>    2.466</td> <td>    3.484</td>\n",
       "</tr>\n",
       "<tr>\n",
       "  <th>Lead Source_Olark Chat</th>                               <td>    0.9829</td> <td>    0.152</td> <td>    6.482</td> <td> 0.000</td> <td>    0.686</td> <td>    1.280</td>\n",
       "</tr>\n",
       "<tr>\n",
       "  <th>Lead Source_Welingak Website</th>                         <td>    1.8056</td> <td>    0.763</td> <td>    2.366</td> <td> 0.018</td> <td>    0.310</td> <td>    3.302</td>\n",
       "</tr>\n",
       "<tr>\n",
       "  <th>Last Activity_Email Bounced</th>                          <td>   -1.3769</td> <td>    0.382</td> <td>   -3.603</td> <td> 0.000</td> <td>   -2.126</td> <td>   -0.628</td>\n",
       "</tr>\n",
       "<tr>\n",
       "  <th>Last Activity_Email Opened</th>                           <td>    0.6475</td> <td>    0.144</td> <td>    4.483</td> <td> 0.000</td> <td>    0.364</td> <td>    0.931</td>\n",
       "</tr>\n",
       "<tr>\n",
       "  <th>Last Activity_Form Submitted on Website</th>              <td>    0.1884</td> <td>    0.424</td> <td>    0.444</td> <td> 0.657</td> <td>   -0.643</td> <td>    1.020</td>\n",
       "</tr>\n",
       "<tr>\n",
       "  <th>Last Activity_Olark Chat Conversation</th>                <td>   -0.6104</td> <td>    0.260</td> <td>   -2.352</td> <td> 0.019</td> <td>   -1.119</td> <td>   -0.102</td>\n",
       "</tr>\n",
       "<tr>\n",
       "  <th>Last Activity_SMS Sent</th>                               <td>    1.1225</td> <td>    0.208</td> <td>    5.395</td> <td> 0.000</td> <td>    0.715</td> <td>    1.530</td>\n",
       "</tr>\n",
       "<tr>\n",
       "  <th>Specialization_E-COMMERCE</th>                            <td>    0.4239</td> <td>    0.383</td> <td>    1.107</td> <td> 0.268</td> <td>   -0.327</td> <td>    1.175</td>\n",
       "</tr>\n",
       "<tr>\n",
       "  <th>Specialization_Finance Management</th>                    <td>    0.3672</td> <td>    0.160</td> <td>    2.298</td> <td> 0.022</td> <td>    0.054</td> <td>    0.680</td>\n",
       "</tr>\n",
       "<tr>\n",
       "  <th>Specialization_International Business</th>                <td>   -0.6277</td> <td>    0.363</td> <td>   -1.727</td> <td> 0.084</td> <td>   -1.340</td> <td>    0.085</td>\n",
       "</tr>\n",
       "<tr>\n",
       "  <th>Specialization_Travel and Tourism</th>                    <td>   -0.5480</td> <td>    0.342</td> <td>   -1.603</td> <td> 0.109</td> <td>   -1.218</td> <td>    0.122</td>\n",
       "</tr>\n",
       "<tr>\n",
       "  <th>What is your current occupation_Other</th>                <td>   -1.2687</td> <td>    0.103</td> <td>  -12.260</td> <td> 0.000</td> <td>   -1.472</td> <td>   -1.066</td>\n",
       "</tr>\n",
       "<tr>\n",
       "  <th>What is your current occupation_Working Professional</th> <td>    1.3289</td> <td>    0.271</td> <td>    4.903</td> <td> 0.000</td> <td>    0.798</td> <td>    1.860</td>\n",
       "</tr>\n",
       "<tr>\n",
       "  <th>Tags_Others</th>                                          <td>    3.7970</td> <td>    0.193</td> <td>   19.636</td> <td> 0.000</td> <td>    3.418</td> <td>    4.176</td>\n",
       "</tr>\n",
       "<tr>\n",
       "  <th>Tags_Will revert after reading the email</th>             <td>    7.0982</td> <td>    0.250</td> <td>   28.433</td> <td> 0.000</td> <td>    6.609</td> <td>    7.588</td>\n",
       "</tr>\n",
       "<tr>\n",
       "  <th>Last Notable Activity_Modified</th>                       <td>   -0.3475</td> <td>    0.139</td> <td>   -2.500</td> <td> 0.012</td> <td>   -0.620</td> <td>   -0.075</td>\n",
       "</tr>\n",
       "<tr>\n",
       "  <th>Last Notable Activity_Olark Chat Conversation</th>        <td>   -0.1359</td> <td>    0.462</td> <td>   -0.294</td> <td> 0.769</td> <td>   -1.042</td> <td>    0.770</td>\n",
       "</tr>\n",
       "<tr>\n",
       "  <th>Last Notable Activity_SMS Sent</th>                       <td>    0.8322</td> <td>    0.232</td> <td>    3.586</td> <td> 0.000</td> <td>    0.377</td> <td>    1.287</td>\n",
       "</tr>\n",
       "</table>"
      ],
      "text/plain": [
       "<class 'statsmodels.iolib.summary.Summary'>\n",
       "\"\"\"\n",
       "                 Generalized Linear Model Regression Results                  \n",
       "==============================================================================\n",
       "Dep. Variable:              Converted   No. Observations:                 6468\n",
       "Model:                            GLM   Df Residuals:                     6446\n",
       "Model Family:                Binomial   Df Model:                           21\n",
       "Link Function:                  logit   Scale:                          1.0000\n",
       "Method:                          IRLS   Log-Likelihood:                -1607.2\n",
       "Date:                Mon, 14 Mar 2022   Deviance:                       3214.4\n",
       "Time:                        15:34:33   Pearson chi2:                 1.05e+04\n",
       "No. Iterations:                     7   Pseudo R-squ. (CS):             0.5650\n",
       "Covariance Type:            nonrobust                                         \n",
       "========================================================================================================================\n",
       "                                                           coef    std err          z      P>|z|      [0.025      0.975]\n",
       "------------------------------------------------------------------------------------------------------------------------\n",
       "const                                                   -4.8836      0.249    -19.624      0.000      -5.371      -4.396\n",
       "Total Time Spent on Website                              1.1151      0.053     21.171      0.000       1.012       1.218\n",
       "Lead Origin_Landing Page Submission                     -0.5397      0.121     -4.475      0.000      -0.776      -0.303\n",
       "Lead Origin_Lead Add Form                                2.9751      0.260     11.456      0.000       2.466       3.484\n",
       "Lead Source_Olark Chat                                   0.9829      0.152      6.482      0.000       0.686       1.280\n",
       "Lead Source_Welingak Website                             1.8056      0.763      2.366      0.018       0.310       3.302\n",
       "Last Activity_Email Bounced                             -1.3769      0.382     -3.603      0.000      -2.126      -0.628\n",
       "Last Activity_Email Opened                               0.6475      0.144      4.483      0.000       0.364       0.931\n",
       "Last Activity_Form Submitted on Website                  0.1884      0.424      0.444      0.657      -0.643       1.020\n",
       "Last Activity_Olark Chat Conversation                   -0.6104      0.260     -2.352      0.019      -1.119      -0.102\n",
       "Last Activity_SMS Sent                                   1.1225      0.208      5.395      0.000       0.715       1.530\n",
       "Specialization_E-COMMERCE                                0.4239      0.383      1.107      0.268      -0.327       1.175\n",
       "Specialization_Finance Management                        0.3672      0.160      2.298      0.022       0.054       0.680\n",
       "Specialization_International Business                   -0.6277      0.363     -1.727      0.084      -1.340       0.085\n",
       "Specialization_Travel and Tourism                       -0.5480      0.342     -1.603      0.109      -1.218       0.122\n",
       "What is your current occupation_Other                   -1.2687      0.103    -12.260      0.000      -1.472      -1.066\n",
       "What is your current occupation_Working Professional     1.3289      0.271      4.903      0.000       0.798       1.860\n",
       "Tags_Others                                              3.7970      0.193     19.636      0.000       3.418       4.176\n",
       "Tags_Will revert after reading the email                 7.0982      0.250     28.433      0.000       6.609       7.588\n",
       "Last Notable Activity_Modified                          -0.3475      0.139     -2.500      0.012      -0.620      -0.075\n",
       "Last Notable Activity_Olark Chat Conversation           -0.1359      0.462     -0.294      0.769      -1.042       0.770\n",
       "Last Notable Activity_SMS Sent                           0.8322      0.232      3.586      0.000       0.377       1.287\n",
       "========================================================================================================================\n",
       "\"\"\""
      ]
     },
     "execution_count": 427,
     "metadata": {},
     "output_type": "execute_result"
    }
   ],
   "source": [
    "# Now we drop the variable 'Last Notable Activity_Email Opened' since it has a very high VIF :\n",
    "col = col.drop('Last Notable Activity_Email Opened', 1)\n",
    "\n",
    "X_train_7 = sm.add_constant(X_train[col])\n",
    "log_m7 = sm.GLM(y_train,X_train_7,family=sm.families.Binomial())\n",
    "log_model_7 = log_m7.fit()\n",
    "log_model_7.summary()"
   ]
  },
  {
   "cell_type": "code",
   "execution_count": 428,
   "id": "c8a81571",
   "metadata": {},
   "outputs": [
    {
     "data": {
      "text/html": [
       "<div>\n",
       "<style scoped>\n",
       "    .dataframe tbody tr th:only-of-type {\n",
       "        vertical-align: middle;\n",
       "    }\n",
       "\n",
       "    .dataframe tbody tr th {\n",
       "        vertical-align: top;\n",
       "    }\n",
       "\n",
       "    .dataframe thead th {\n",
       "        text-align: right;\n",
       "    }\n",
       "</style>\n",
       "<table border=\"1\" class=\"dataframe\">\n",
       "  <thead>\n",
       "    <tr style=\"text-align: right;\">\n",
       "      <th></th>\n",
       "      <th>Features</th>\n",
       "      <th>VIF</th>\n",
       "    </tr>\n",
       "  </thead>\n",
       "  <tbody>\n",
       "    <tr>\n",
       "      <th>9</th>\n",
       "      <td>Last Activity_SMS Sent</td>\n",
       "      <td>6.82</td>\n",
       "    </tr>\n",
       "    <tr>\n",
       "      <th>20</th>\n",
       "      <td>Last Notable Activity_SMS Sent</td>\n",
       "      <td>6.62</td>\n",
       "    </tr>\n",
       "    <tr>\n",
       "      <th>16</th>\n",
       "      <td>Tags_Others</td>\n",
       "      <td>4.04</td>\n",
       "    </tr>\n",
       "    <tr>\n",
       "      <th>1</th>\n",
       "      <td>Lead Origin_Landing Page Submission</td>\n",
       "      <td>3.04</td>\n",
       "    </tr>\n",
       "    <tr>\n",
       "      <th>18</th>\n",
       "      <td>Last Notable Activity_Modified</td>\n",
       "      <td>2.74</td>\n",
       "    </tr>\n",
       "    <tr>\n",
       "      <th>14</th>\n",
       "      <td>What is your current occupation_Other</td>\n",
       "      <td>2.34</td>\n",
       "    </tr>\n",
       "    <tr>\n",
       "      <th>17</th>\n",
       "      <td>Tags_Will revert after reading the email</td>\n",
       "      <td>2.33</td>\n",
       "    </tr>\n",
       "    <tr>\n",
       "      <th>6</th>\n",
       "      <td>Last Activity_Email Opened</td>\n",
       "      <td>2.26</td>\n",
       "    </tr>\n",
       "    <tr>\n",
       "      <th>3</th>\n",
       "      <td>Lead Source_Olark Chat</td>\n",
       "      <td>2.21</td>\n",
       "    </tr>\n",
       "    <tr>\n",
       "      <th>8</th>\n",
       "      <td>Last Activity_Olark Chat Conversation</td>\n",
       "      <td>2.20</td>\n",
       "    </tr>\n",
       "    <tr>\n",
       "      <th>2</th>\n",
       "      <td>Lead Origin_Lead Add Form</td>\n",
       "      <td>1.80</td>\n",
       "    </tr>\n",
       "    <tr>\n",
       "      <th>19</th>\n",
       "      <td>Last Notable Activity_Olark Chat Conversation</td>\n",
       "      <td>1.37</td>\n",
       "    </tr>\n",
       "    <tr>\n",
       "      <th>0</th>\n",
       "      <td>Total Time Spent on Website</td>\n",
       "      <td>1.34</td>\n",
       "    </tr>\n",
       "    <tr>\n",
       "      <th>15</th>\n",
       "      <td>What is your current occupation_Working Profes...</td>\n",
       "      <td>1.32</td>\n",
       "    </tr>\n",
       "    <tr>\n",
       "      <th>4</th>\n",
       "      <td>Lead Source_Welingak Website</td>\n",
       "      <td>1.27</td>\n",
       "    </tr>\n",
       "    <tr>\n",
       "      <th>11</th>\n",
       "      <td>Specialization_Finance Management</td>\n",
       "      <td>1.20</td>\n",
       "    </tr>\n",
       "    <tr>\n",
       "      <th>5</th>\n",
       "      <td>Last Activity_Email Bounced</td>\n",
       "      <td>1.20</td>\n",
       "    </tr>\n",
       "    <tr>\n",
       "      <th>7</th>\n",
       "      <td>Last Activity_Form Submitted on Website</td>\n",
       "      <td>1.09</td>\n",
       "    </tr>\n",
       "    <tr>\n",
       "      <th>13</th>\n",
       "      <td>Specialization_Travel and Tourism</td>\n",
       "      <td>1.05</td>\n",
       "    </tr>\n",
       "    <tr>\n",
       "      <th>12</th>\n",
       "      <td>Specialization_International Business</td>\n",
       "      <td>1.04</td>\n",
       "    </tr>\n",
       "    <tr>\n",
       "      <th>10</th>\n",
       "      <td>Specialization_E-COMMERCE</td>\n",
       "      <td>1.03</td>\n",
       "    </tr>\n",
       "  </tbody>\n",
       "</table>\n",
       "</div>"
      ],
      "text/plain": [
       "                                             Features   VIF\n",
       "9                              Last Activity_SMS Sent  6.82\n",
       "20                     Last Notable Activity_SMS Sent  6.62\n",
       "16                                        Tags_Others  4.04\n",
       "1                 Lead Origin_Landing Page Submission  3.04\n",
       "18                     Last Notable Activity_Modified  2.74\n",
       "14              What is your current occupation_Other  2.34\n",
       "17           Tags_Will revert after reading the email  2.33\n",
       "6                          Last Activity_Email Opened  2.26\n",
       "3                              Lead Source_Olark Chat  2.21\n",
       "8               Last Activity_Olark Chat Conversation  2.20\n",
       "2                           Lead Origin_Lead Add Form  1.80\n",
       "19      Last Notable Activity_Olark Chat Conversation  1.37\n",
       "0                         Total Time Spent on Website  1.34\n",
       "15  What is your current occupation_Working Profes...  1.32\n",
       "4                        Lead Source_Welingak Website  1.27\n",
       "11                  Specialization_Finance Management  1.20\n",
       "5                         Last Activity_Email Bounced  1.20\n",
       "7             Last Activity_Form Submitted on Website  1.09\n",
       "13                  Specialization_Travel and Tourism  1.05\n",
       "12              Specialization_International Business  1.04\n",
       "10                          Specialization_E-COMMERCE  1.03"
      ]
     },
     "execution_count": 428,
     "metadata": {},
     "output_type": "execute_result"
    }
   ],
   "source": [
    "# Let us now check the VIF :\n",
    "vif = pd.DataFrame()\n",
    "vif['Features'] = X_train[col].columns\n",
    "vif['VIF'] = [variance_inflation_factor(X_train[col].values, i) for i in range(X_train[col].shape[1])]\n",
    "vif['VIF'] = round(vif['VIF'], 2)\n",
    "vif = vif.sort_values(by = \"VIF\", ascending = False)\n",
    "vif"
   ]
  },
  {
   "cell_type": "code",
   "execution_count": 429,
   "id": "07418248",
   "metadata": {},
   "outputs": [
    {
     "data": {
      "text/html": [
       "<table class=\"simpletable\">\n",
       "<caption>Generalized Linear Model Regression Results</caption>\n",
       "<tr>\n",
       "  <th>Dep. Variable:</th>       <td>Converted</td>    <th>  No. Observations:  </th>  <td>  6468</td> \n",
       "</tr>\n",
       "<tr>\n",
       "  <th>Model:</th>                  <td>GLM</td>       <th>  Df Residuals:      </th>  <td>  6447</td> \n",
       "</tr>\n",
       "<tr>\n",
       "  <th>Model Family:</th>        <td>Binomial</td>     <th>  Df Model:          </th>  <td>    20</td> \n",
       "</tr>\n",
       "<tr>\n",
       "  <th>Link Function:</th>         <td>logit</td>      <th>  Scale:             </th> <td>  1.0000</td>\n",
       "</tr>\n",
       "<tr>\n",
       "  <th>Method:</th>                <td>IRLS</td>       <th>  Log-Likelihood:    </th> <td> -1973.2</td>\n",
       "</tr>\n",
       "<tr>\n",
       "  <th>Date:</th>            <td>Mon, 14 Mar 2022</td> <th>  Deviance:          </th> <td>  3946.5</td>\n",
       "</tr>\n",
       "<tr>\n",
       "  <th>Time:</th>                <td>15:34:34</td>     <th>  Pearson chi2:      </th> <td>9.94e+03</td>\n",
       "</tr>\n",
       "<tr>\n",
       "  <th>No. Iterations:</th>          <td>7</td>        <th>  Pseudo R-squ. (CS):</th>  <td>0.5129</td> \n",
       "</tr>\n",
       "<tr>\n",
       "  <th>Covariance Type:</th>     <td>nonrobust</td>    <th>                     </th>     <td> </td>   \n",
       "</tr>\n",
       "</table>\n",
       "<table class=\"simpletable\">\n",
       "<tr>\n",
       "                            <td></td>                              <th>coef</th>     <th>std err</th>      <th>z</th>      <th>P>|z|</th>  <th>[0.025</th>    <th>0.975]</th>  \n",
       "</tr>\n",
       "<tr>\n",
       "  <th>const</th>                                                <td>   -2.0045</td> <td>    0.157</td> <td>  -12.740</td> <td> 0.000</td> <td>   -2.313</td> <td>   -1.696</td>\n",
       "</tr>\n",
       "<tr>\n",
       "  <th>Total Time Spent on Website</th>                          <td>    1.0352</td> <td>    0.045</td> <td>   22.896</td> <td> 0.000</td> <td>    0.947</td> <td>    1.124</td>\n",
       "</tr>\n",
       "<tr>\n",
       "  <th>Lead Origin_Landing Page Submission</th>                  <td>   -0.5573</td> <td>    0.108</td> <td>   -5.183</td> <td> 0.000</td> <td>   -0.768</td> <td>   -0.347</td>\n",
       "</tr>\n",
       "<tr>\n",
       "  <th>Lead Origin_Lead Add Form</th>                            <td>    3.0225</td> <td>    0.223</td> <td>   13.539</td> <td> 0.000</td> <td>    2.585</td> <td>    3.460</td>\n",
       "</tr>\n",
       "<tr>\n",
       "  <th>Lead Source_Olark Chat</th>                               <td>    1.0322</td> <td>    0.138</td> <td>    7.493</td> <td> 0.000</td> <td>    0.762</td> <td>    1.302</td>\n",
       "</tr>\n",
       "<tr>\n",
       "  <th>Lead Source_Welingak Website</th>                         <td>    2.6817</td> <td>    0.750</td> <td>    3.576</td> <td> 0.000</td> <td>    1.212</td> <td>    4.151</td>\n",
       "</tr>\n",
       "<tr>\n",
       "  <th>Last Activity_Email Bounced</th>                          <td>   -1.2037</td> <td>    0.365</td> <td>   -3.299</td> <td> 0.001</td> <td>   -1.919</td> <td>   -0.489</td>\n",
       "</tr>\n",
       "<tr>\n",
       "  <th>Last Activity_Email Opened</th>                           <td>    0.5034</td> <td>    0.134</td> <td>    3.756</td> <td> 0.000</td> <td>    0.241</td> <td>    0.766</td>\n",
       "</tr>\n",
       "<tr>\n",
       "  <th>Last Activity_Form Submitted on Website</th>              <td>    0.1571</td> <td>    0.402</td> <td>    0.390</td> <td> 0.696</td> <td>   -0.632</td> <td>    0.946</td>\n",
       "</tr>\n",
       "<tr>\n",
       "  <th>Last Activity_Olark Chat Conversation</th>                <td>   -0.8702</td> <td>    0.245</td> <td>   -3.553</td> <td> 0.000</td> <td>   -1.350</td> <td>   -0.390</td>\n",
       "</tr>\n",
       "<tr>\n",
       "  <th>Last Activity_SMS Sent</th>                               <td>    0.9922</td> <td>    0.190</td> <td>    5.226</td> <td> 0.000</td> <td>    0.620</td> <td>    1.364</td>\n",
       "</tr>\n",
       "<tr>\n",
       "  <th>Specialization_E-COMMERCE</th>                            <td>    0.3097</td> <td>    0.351</td> <td>    0.883</td> <td> 0.377</td> <td>   -0.378</td> <td>    0.997</td>\n",
       "</tr>\n",
       "<tr>\n",
       "  <th>Specialization_Finance Management</th>                    <td>    0.2694</td> <td>    0.140</td> <td>    1.929</td> <td> 0.054</td> <td>   -0.004</td> <td>    0.543</td>\n",
       "</tr>\n",
       "<tr>\n",
       "  <th>Specialization_International Business</th>                <td>   -0.4581</td> <td>    0.334</td> <td>   -1.372</td> <td> 0.170</td> <td>   -1.112</td> <td>    0.196</td>\n",
       "</tr>\n",
       "<tr>\n",
       "  <th>Specialization_Travel and Tourism</th>                    <td>   -0.3221</td> <td>    0.328</td> <td>   -0.981</td> <td> 0.327</td> <td>   -0.966</td> <td>    0.321</td>\n",
       "</tr>\n",
       "<tr>\n",
       "  <th>What is your current occupation_Other</th>                <td>   -0.2428</td> <td>    0.094</td> <td>   -2.577</td> <td> 0.010</td> <td>   -0.428</td> <td>   -0.058</td>\n",
       "</tr>\n",
       "<tr>\n",
       "  <th>What is your current occupation_Working Professional</th> <td>    1.6009</td> <td>    0.240</td> <td>    6.681</td> <td> 0.000</td> <td>    1.131</td> <td>    2.071</td>\n",
       "</tr>\n",
       "<tr>\n",
       "  <th>Tags_Will revert after reading the email</th>             <td>    4.2834</td> <td>    0.171</td> <td>   25.075</td> <td> 0.000</td> <td>    3.949</td> <td>    4.618</td>\n",
       "</tr>\n",
       "<tr>\n",
       "  <th>Last Notable Activity_Modified</th>                       <td>   -0.2191</td> <td>    0.127</td> <td>   -1.718</td> <td> 0.086</td> <td>   -0.469</td> <td>    0.031</td>\n",
       "</tr>\n",
       "<tr>\n",
       "  <th>Last Notable Activity_Olark Chat Conversation</th>        <td>    0.1652</td> <td>    0.430</td> <td>    0.385</td> <td> 0.701</td> <td>   -0.677</td> <td>    1.007</td>\n",
       "</tr>\n",
       "<tr>\n",
       "  <th>Last Notable Activity_SMS Sent</th>                       <td>    0.6744</td> <td>    0.211</td> <td>    3.193</td> <td> 0.001</td> <td>    0.260</td> <td>    1.088</td>\n",
       "</tr>\n",
       "</table>"
      ],
      "text/plain": [
       "<class 'statsmodels.iolib.summary.Summary'>\n",
       "\"\"\"\n",
       "                 Generalized Linear Model Regression Results                  \n",
       "==============================================================================\n",
       "Dep. Variable:              Converted   No. Observations:                 6468\n",
       "Model:                            GLM   Df Residuals:                     6447\n",
       "Model Family:                Binomial   Df Model:                           20\n",
       "Link Function:                  logit   Scale:                          1.0000\n",
       "Method:                          IRLS   Log-Likelihood:                -1973.2\n",
       "Date:                Mon, 14 Mar 2022   Deviance:                       3946.5\n",
       "Time:                        15:34:34   Pearson chi2:                 9.94e+03\n",
       "No. Iterations:                     7   Pseudo R-squ. (CS):             0.5129\n",
       "Covariance Type:            nonrobust                                         \n",
       "========================================================================================================================\n",
       "                                                           coef    std err          z      P>|z|      [0.025      0.975]\n",
       "------------------------------------------------------------------------------------------------------------------------\n",
       "const                                                   -2.0045      0.157    -12.740      0.000      -2.313      -1.696\n",
       "Total Time Spent on Website                              1.0352      0.045     22.896      0.000       0.947       1.124\n",
       "Lead Origin_Landing Page Submission                     -0.5573      0.108     -5.183      0.000      -0.768      -0.347\n",
       "Lead Origin_Lead Add Form                                3.0225      0.223     13.539      0.000       2.585       3.460\n",
       "Lead Source_Olark Chat                                   1.0322      0.138      7.493      0.000       0.762       1.302\n",
       "Lead Source_Welingak Website                             2.6817      0.750      3.576      0.000       1.212       4.151\n",
       "Last Activity_Email Bounced                             -1.2037      0.365     -3.299      0.001      -1.919      -0.489\n",
       "Last Activity_Email Opened                               0.5034      0.134      3.756      0.000       0.241       0.766\n",
       "Last Activity_Form Submitted on Website                  0.1571      0.402      0.390      0.696      -0.632       0.946\n",
       "Last Activity_Olark Chat Conversation                   -0.8702      0.245     -3.553      0.000      -1.350      -0.390\n",
       "Last Activity_SMS Sent                                   0.9922      0.190      5.226      0.000       0.620       1.364\n",
       "Specialization_E-COMMERCE                                0.3097      0.351      0.883      0.377      -0.378       0.997\n",
       "Specialization_Finance Management                        0.2694      0.140      1.929      0.054      -0.004       0.543\n",
       "Specialization_International Business                   -0.4581      0.334     -1.372      0.170      -1.112       0.196\n",
       "Specialization_Travel and Tourism                       -0.3221      0.328     -0.981      0.327      -0.966       0.321\n",
       "What is your current occupation_Other                   -0.2428      0.094     -2.577      0.010      -0.428      -0.058\n",
       "What is your current occupation_Working Professional     1.6009      0.240      6.681      0.000       1.131       2.071\n",
       "Tags_Will revert after reading the email                 4.2834      0.171     25.075      0.000       3.949       4.618\n",
       "Last Notable Activity_Modified                          -0.2191      0.127     -1.718      0.086      -0.469       0.031\n",
       "Last Notable Activity_Olark Chat Conversation            0.1652      0.430      0.385      0.701      -0.677       1.007\n",
       "Last Notable Activity_SMS Sent                           0.6744      0.211      3.193      0.001       0.260       1.088\n",
       "========================================================================================================================\n",
       "\"\"\""
      ]
     },
     "execution_count": 429,
     "metadata": {},
     "output_type": "execute_result"
    }
   ],
   "source": [
    "# Let us proceeed further by dropping the variable 'Tags_Others' since it has a high VIF :\n",
    "col = col.drop('Tags_Others', 1)\n",
    "\n",
    "X_train_8 = sm.add_constant(X_train[col])\n",
    "log_m8 = sm.GLM(y_train,X_train_8,family=sm.families.Binomial())\n",
    "log_model_8 = log_m8.fit()\n",
    "log_model_8.summary()"
   ]
  },
  {
   "cell_type": "code",
   "execution_count": 430,
   "id": "f94c5991",
   "metadata": {},
   "outputs": [
    {
     "data": {
      "text/html": [
       "<table class=\"simpletable\">\n",
       "<caption>Generalized Linear Model Regression Results</caption>\n",
       "<tr>\n",
       "  <th>Dep. Variable:</th>       <td>Converted</td>    <th>  No. Observations:  </th>  <td>  6468</td> \n",
       "</tr>\n",
       "<tr>\n",
       "  <th>Model:</th>                  <td>GLM</td>       <th>  Df Residuals:      </th>  <td>  6448</td> \n",
       "</tr>\n",
       "<tr>\n",
       "  <th>Model Family:</th>        <td>Binomial</td>     <th>  Df Model:          </th>  <td>    19</td> \n",
       "</tr>\n",
       "<tr>\n",
       "  <th>Link Function:</th>         <td>logit</td>      <th>  Scale:             </th> <td>  1.0000</td>\n",
       "</tr>\n",
       "<tr>\n",
       "  <th>Method:</th>                <td>IRLS</td>       <th>  Log-Likelihood:    </th> <td> -1973.7</td>\n",
       "</tr>\n",
       "<tr>\n",
       "  <th>Date:</th>            <td>Mon, 14 Mar 2022</td> <th>  Deviance:          </th> <td>  3947.5</td>\n",
       "</tr>\n",
       "<tr>\n",
       "  <th>Time:</th>                <td>15:34:35</td>     <th>  Pearson chi2:      </th> <td>9.89e+03</td>\n",
       "</tr>\n",
       "<tr>\n",
       "  <th>No. Iterations:</th>          <td>7</td>        <th>  Pseudo R-squ. (CS):</th>  <td>0.5128</td> \n",
       "</tr>\n",
       "<tr>\n",
       "  <th>Covariance Type:</th>     <td>nonrobust</td>    <th>                     </th>     <td> </td>   \n",
       "</tr>\n",
       "</table>\n",
       "<table class=\"simpletable\">\n",
       "<tr>\n",
       "                            <td></td>                              <th>coef</th>     <th>std err</th>      <th>z</th>      <th>P>|z|</th>  <th>[0.025</th>    <th>0.975]</th>  \n",
       "</tr>\n",
       "<tr>\n",
       "  <th>const</th>                                                <td>   -2.0043</td> <td>    0.157</td> <td>  -12.740</td> <td> 0.000</td> <td>   -2.313</td> <td>   -1.696</td>\n",
       "</tr>\n",
       "<tr>\n",
       "  <th>Total Time Spent on Website</th>                          <td>    1.0355</td> <td>    0.045</td> <td>   22.905</td> <td> 0.000</td> <td>    0.947</td> <td>    1.124</td>\n",
       "</tr>\n",
       "<tr>\n",
       "  <th>Lead Origin_Landing Page Submission</th>                  <td>   -0.5683</td> <td>    0.107</td> <td>   -5.311</td> <td> 0.000</td> <td>   -0.778</td> <td>   -0.359</td>\n",
       "</tr>\n",
       "<tr>\n",
       "  <th>Lead Origin_Lead Add Form</th>                            <td>    3.0235</td> <td>    0.223</td> <td>   13.543</td> <td> 0.000</td> <td>    2.586</td> <td>    3.461</td>\n",
       "</tr>\n",
       "<tr>\n",
       "  <th>Lead Source_Olark Chat</th>                               <td>    1.0318</td> <td>    0.138</td> <td>    7.490</td> <td> 0.000</td> <td>    0.762</td> <td>    1.302</td>\n",
       "</tr>\n",
       "<tr>\n",
       "  <th>Lead Source_Welingak Website</th>                         <td>    2.6818</td> <td>    0.750</td> <td>    3.576</td> <td> 0.000</td> <td>    1.212</td> <td>    4.152</td>\n",
       "</tr>\n",
       "<tr>\n",
       "  <th>Last Activity_Email Bounced</th>                          <td>   -1.2093</td> <td>    0.364</td> <td>   -3.321</td> <td> 0.001</td> <td>   -1.923</td> <td>   -0.496</td>\n",
       "</tr>\n",
       "<tr>\n",
       "  <th>Last Activity_Email Opened</th>                           <td>    0.5052</td> <td>    0.134</td> <td>    3.769</td> <td> 0.000</td> <td>    0.242</td> <td>    0.768</td>\n",
       "</tr>\n",
       "<tr>\n",
       "  <th>Last Activity_Form Submitted on Website</th>              <td>    0.1534</td> <td>    0.403</td> <td>    0.381</td> <td> 0.703</td> <td>   -0.636</td> <td>    0.943</td>\n",
       "</tr>\n",
       "<tr>\n",
       "  <th>Last Activity_Olark Chat Conversation</th>                <td>   -0.8649</td> <td>    0.245</td> <td>   -3.533</td> <td> 0.000</td> <td>   -1.345</td> <td>   -0.385</td>\n",
       "</tr>\n",
       "<tr>\n",
       "  <th>Last Activity_SMS Sent</th>                               <td>    0.9924</td> <td>    0.190</td> <td>    5.231</td> <td> 0.000</td> <td>    0.621</td> <td>    1.364</td>\n",
       "</tr>\n",
       "<tr>\n",
       "  <th>Specialization_E-COMMERCE</th>                            <td>    0.3216</td> <td>    0.350</td> <td>    0.918</td> <td> 0.359</td> <td>   -0.365</td> <td>    1.008</td>\n",
       "</tr>\n",
       "<tr>\n",
       "  <th>Specialization_Finance Management</th>                    <td>    0.2803</td> <td>    0.139</td> <td>    2.013</td> <td> 0.044</td> <td>    0.007</td> <td>    0.553</td>\n",
       "</tr>\n",
       "<tr>\n",
       "  <th>Specialization_International Business</th>                <td>   -0.4482</td> <td>    0.334</td> <td>   -1.343</td> <td> 0.179</td> <td>   -1.102</td> <td>    0.206</td>\n",
       "</tr>\n",
       "<tr>\n",
       "  <th>What is your current occupation_Other</th>                <td>   -0.2447</td> <td>    0.094</td> <td>   -2.598</td> <td> 0.009</td> <td>   -0.429</td> <td>   -0.060</td>\n",
       "</tr>\n",
       "<tr>\n",
       "  <th>What is your current occupation_Working Professional</th> <td>    1.5982</td> <td>    0.240</td> <td>    6.672</td> <td> 0.000</td> <td>    1.129</td> <td>    2.068</td>\n",
       "</tr>\n",
       "<tr>\n",
       "  <th>Tags_Will revert after reading the email</th>             <td>    4.2765</td> <td>    0.171</td> <td>   25.076</td> <td> 0.000</td> <td>    3.942</td> <td>    4.611</td>\n",
       "</tr>\n",
       "<tr>\n",
       "  <th>Last Notable Activity_Modified</th>                       <td>   -0.2229</td> <td>    0.127</td> <td>   -1.749</td> <td> 0.080</td> <td>   -0.473</td> <td>    0.027</td>\n",
       "</tr>\n",
       "<tr>\n",
       "  <th>Last Notable Activity_Olark Chat Conversation</th>        <td>    0.1616</td> <td>    0.430</td> <td>    0.376</td> <td> 0.707</td> <td>   -0.681</td> <td>    1.004</td>\n",
       "</tr>\n",
       "<tr>\n",
       "  <th>Last Notable Activity_SMS Sent</th>                       <td>    0.6740</td> <td>    0.211</td> <td>    3.194</td> <td> 0.001</td> <td>    0.260</td> <td>    1.088</td>\n",
       "</tr>\n",
       "</table>"
      ],
      "text/plain": [
       "<class 'statsmodels.iolib.summary.Summary'>\n",
       "\"\"\"\n",
       "                 Generalized Linear Model Regression Results                  \n",
       "==============================================================================\n",
       "Dep. Variable:              Converted   No. Observations:                 6468\n",
       "Model:                            GLM   Df Residuals:                     6448\n",
       "Model Family:                Binomial   Df Model:                           19\n",
       "Link Function:                  logit   Scale:                          1.0000\n",
       "Method:                          IRLS   Log-Likelihood:                -1973.7\n",
       "Date:                Mon, 14 Mar 2022   Deviance:                       3947.5\n",
       "Time:                        15:34:35   Pearson chi2:                 9.89e+03\n",
       "No. Iterations:                     7   Pseudo R-squ. (CS):             0.5128\n",
       "Covariance Type:            nonrobust                                         \n",
       "========================================================================================================================\n",
       "                                                           coef    std err          z      P>|z|      [0.025      0.975]\n",
       "------------------------------------------------------------------------------------------------------------------------\n",
       "const                                                   -2.0043      0.157    -12.740      0.000      -2.313      -1.696\n",
       "Total Time Spent on Website                              1.0355      0.045     22.905      0.000       0.947       1.124\n",
       "Lead Origin_Landing Page Submission                     -0.5683      0.107     -5.311      0.000      -0.778      -0.359\n",
       "Lead Origin_Lead Add Form                                3.0235      0.223     13.543      0.000       2.586       3.461\n",
       "Lead Source_Olark Chat                                   1.0318      0.138      7.490      0.000       0.762       1.302\n",
       "Lead Source_Welingak Website                             2.6818      0.750      3.576      0.000       1.212       4.152\n",
       "Last Activity_Email Bounced                             -1.2093      0.364     -3.321      0.001      -1.923      -0.496\n",
       "Last Activity_Email Opened                               0.5052      0.134      3.769      0.000       0.242       0.768\n",
       "Last Activity_Form Submitted on Website                  0.1534      0.403      0.381      0.703      -0.636       0.943\n",
       "Last Activity_Olark Chat Conversation                   -0.8649      0.245     -3.533      0.000      -1.345      -0.385\n",
       "Last Activity_SMS Sent                                   0.9924      0.190      5.231      0.000       0.621       1.364\n",
       "Specialization_E-COMMERCE                                0.3216      0.350      0.918      0.359      -0.365       1.008\n",
       "Specialization_Finance Management                        0.2803      0.139      2.013      0.044       0.007       0.553\n",
       "Specialization_International Business                   -0.4482      0.334     -1.343      0.179      -1.102       0.206\n",
       "What is your current occupation_Other                   -0.2447      0.094     -2.598      0.009      -0.429      -0.060\n",
       "What is your current occupation_Working Professional     1.5982      0.240      6.672      0.000       1.129       2.068\n",
       "Tags_Will revert after reading the email                 4.2765      0.171     25.076      0.000       3.942       4.611\n",
       "Last Notable Activity_Modified                          -0.2229      0.127     -1.749      0.080      -0.473       0.027\n",
       "Last Notable Activity_Olark Chat Conversation            0.1616      0.430      0.376      0.707      -0.681       1.004\n",
       "Last Notable Activity_SMS Sent                           0.6740      0.211      3.194      0.001       0.260       1.088\n",
       "========================================================================================================================\n",
       "\"\"\""
      ]
     },
     "execution_count": 430,
     "metadata": {},
     "output_type": "execute_result"
    }
   ],
   "source": [
    "# Let us now drop the variable 'Specialization_Travel and Tourism' since it has a Very high P-Value and build the model again :\n",
    "col = col.drop('Specialization_Travel and Tourism', 1)\n",
    "\n",
    "X_train_9 = sm.add_constant(X_train[col])\n",
    "log_m9 = sm.GLM(y_train,X_train_9,family=sm.families.Binomial())\n",
    "log_model_9 = log_m9.fit()\n",
    "log_model_9.summary()"
   ]
  },
  {
   "cell_type": "code",
   "execution_count": 431,
   "id": "8bc57b04",
   "metadata": {},
   "outputs": [
    {
     "data": {
      "text/html": [
       "<table class=\"simpletable\">\n",
       "<caption>Generalized Linear Model Regression Results</caption>\n",
       "<tr>\n",
       "  <th>Dep. Variable:</th>       <td>Converted</td>    <th>  No. Observations:  </th>  <td>  6468</td> \n",
       "</tr>\n",
       "<tr>\n",
       "  <th>Model:</th>                  <td>GLM</td>       <th>  Df Residuals:      </th>  <td>  6449</td> \n",
       "</tr>\n",
       "<tr>\n",
       "  <th>Model Family:</th>        <td>Binomial</td>     <th>  Df Model:          </th>  <td>    18</td> \n",
       "</tr>\n",
       "<tr>\n",
       "  <th>Link Function:</th>         <td>logit</td>      <th>  Scale:             </th> <td>  1.0000</td>\n",
       "</tr>\n",
       "<tr>\n",
       "  <th>Method:</th>                <td>IRLS</td>       <th>  Log-Likelihood:    </th> <td> -1974.7</td>\n",
       "</tr>\n",
       "<tr>\n",
       "  <th>Date:</th>            <td>Mon, 14 Mar 2022</td> <th>  Deviance:          </th> <td>  3949.4</td>\n",
       "</tr>\n",
       "<tr>\n",
       "  <th>Time:</th>                <td>15:34:35</td>     <th>  Pearson chi2:      </th> <td>9.85e+03</td>\n",
       "</tr>\n",
       "<tr>\n",
       "  <th>No. Iterations:</th>          <td>7</td>        <th>  Pseudo R-squ. (CS):</th>  <td>0.5126</td> \n",
       "</tr>\n",
       "<tr>\n",
       "  <th>Covariance Type:</th>     <td>nonrobust</td>    <th>                     </th>     <td> </td>   \n",
       "</tr>\n",
       "</table>\n",
       "<table class=\"simpletable\">\n",
       "<tr>\n",
       "                            <td></td>                              <th>coef</th>     <th>std err</th>      <th>z</th>      <th>P>|z|</th>  <th>[0.025</th>    <th>0.975]</th>  \n",
       "</tr>\n",
       "<tr>\n",
       "  <th>const</th>                                                <td>   -2.0105</td> <td>    0.157</td> <td>  -12.778</td> <td> 0.000</td> <td>   -2.319</td> <td>   -1.702</td>\n",
       "</tr>\n",
       "<tr>\n",
       "  <th>Total Time Spent on Website</th>                          <td>    1.0354</td> <td>    0.045</td> <td>   22.911</td> <td> 0.000</td> <td>    0.947</td> <td>    1.124</td>\n",
       "</tr>\n",
       "<tr>\n",
       "  <th>Lead Origin_Landing Page Submission</th>                  <td>   -0.5766</td> <td>    0.107</td> <td>   -5.394</td> <td> 0.000</td> <td>   -0.786</td> <td>   -0.367</td>\n",
       "</tr>\n",
       "<tr>\n",
       "  <th>Lead Origin_Lead Add Form</th>                            <td>    3.0219</td> <td>    0.223</td> <td>   13.539</td> <td> 0.000</td> <td>    2.584</td> <td>    3.459</td>\n",
       "</tr>\n",
       "<tr>\n",
       "  <th>Lead Source_Olark Chat</th>                               <td>    1.0357</td> <td>    0.138</td> <td>    7.516</td> <td> 0.000</td> <td>    0.766</td> <td>    1.306</td>\n",
       "</tr>\n",
       "<tr>\n",
       "  <th>Lead Source_Welingak Website</th>                         <td>    2.6891</td> <td>    0.750</td> <td>    3.586</td> <td> 0.000</td> <td>    1.219</td> <td>    4.159</td>\n",
       "</tr>\n",
       "<tr>\n",
       "  <th>Last Activity_Email Bounced</th>                          <td>   -1.2130</td> <td>    0.364</td> <td>   -3.330</td> <td> 0.001</td> <td>   -1.927</td> <td>   -0.499</td>\n",
       "</tr>\n",
       "<tr>\n",
       "  <th>Last Activity_Email Opened</th>                           <td>    0.5053</td> <td>    0.134</td> <td>    3.769</td> <td> 0.000</td> <td>    0.243</td> <td>    0.768</td>\n",
       "</tr>\n",
       "<tr>\n",
       "  <th>Last Activity_Form Submitted on Website</th>              <td>    0.1561</td> <td>    0.403</td> <td>    0.388</td> <td> 0.698</td> <td>   -0.633</td> <td>    0.945</td>\n",
       "</tr>\n",
       "<tr>\n",
       "  <th>Last Activity_Olark Chat Conversation</th>                <td>   -0.8638</td> <td>    0.245</td> <td>   -3.531</td> <td> 0.000</td> <td>   -1.343</td> <td>   -0.384</td>\n",
       "</tr>\n",
       "<tr>\n",
       "  <th>Last Activity_SMS Sent</th>                               <td>    0.9913</td> <td>    0.190</td> <td>    5.227</td> <td> 0.000</td> <td>    0.620</td> <td>    1.363</td>\n",
       "</tr>\n",
       "<tr>\n",
       "  <th>Specialization_E-COMMERCE</th>                            <td>    0.3345</td> <td>    0.350</td> <td>    0.955</td> <td> 0.340</td> <td>   -0.352</td> <td>    1.021</td>\n",
       "</tr>\n",
       "<tr>\n",
       "  <th>Specialization_Finance Management</th>                    <td>    0.2927</td> <td>    0.139</td> <td>    2.106</td> <td> 0.035</td> <td>    0.020</td> <td>    0.565</td>\n",
       "</tr>\n",
       "<tr>\n",
       "  <th>What is your current occupation_Other</th>                <td>   -0.2442</td> <td>    0.094</td> <td>   -2.593</td> <td> 0.010</td> <td>   -0.429</td> <td>   -0.060</td>\n",
       "</tr>\n",
       "<tr>\n",
       "  <th>What is your current occupation_Working Professional</th> <td>    1.6017</td> <td>    0.239</td> <td>    6.694</td> <td> 0.000</td> <td>    1.133</td> <td>    2.071</td>\n",
       "</tr>\n",
       "<tr>\n",
       "  <th>Tags_Will revert after reading the email</th>             <td>    4.2731</td> <td>    0.170</td> <td>   25.063</td> <td> 0.000</td> <td>    3.939</td> <td>    4.607</td>\n",
       "</tr>\n",
       "<tr>\n",
       "  <th>Last Notable Activity_Modified</th>                       <td>   -0.2210</td> <td>    0.127</td> <td>   -1.734</td> <td> 0.083</td> <td>   -0.471</td> <td>    0.029</td>\n",
       "</tr>\n",
       "<tr>\n",
       "  <th>Last Notable Activity_Olark Chat Conversation</th>        <td>    0.1637</td> <td>    0.430</td> <td>    0.381</td> <td> 0.703</td> <td>   -0.678</td> <td>    1.006</td>\n",
       "</tr>\n",
       "<tr>\n",
       "  <th>Last Notable Activity_SMS Sent</th>                       <td>    0.6761</td> <td>    0.211</td> <td>    3.203</td> <td> 0.001</td> <td>    0.262</td> <td>    1.090</td>\n",
       "</tr>\n",
       "</table>"
      ],
      "text/plain": [
       "<class 'statsmodels.iolib.summary.Summary'>\n",
       "\"\"\"\n",
       "                 Generalized Linear Model Regression Results                  \n",
       "==============================================================================\n",
       "Dep. Variable:              Converted   No. Observations:                 6468\n",
       "Model:                            GLM   Df Residuals:                     6449\n",
       "Model Family:                Binomial   Df Model:                           18\n",
       "Link Function:                  logit   Scale:                          1.0000\n",
       "Method:                          IRLS   Log-Likelihood:                -1974.7\n",
       "Date:                Mon, 14 Mar 2022   Deviance:                       3949.4\n",
       "Time:                        15:34:35   Pearson chi2:                 9.85e+03\n",
       "No. Iterations:                     7   Pseudo R-squ. (CS):             0.5126\n",
       "Covariance Type:            nonrobust                                         \n",
       "========================================================================================================================\n",
       "                                                           coef    std err          z      P>|z|      [0.025      0.975]\n",
       "------------------------------------------------------------------------------------------------------------------------\n",
       "const                                                   -2.0105      0.157    -12.778      0.000      -2.319      -1.702\n",
       "Total Time Spent on Website                              1.0354      0.045     22.911      0.000       0.947       1.124\n",
       "Lead Origin_Landing Page Submission                     -0.5766      0.107     -5.394      0.000      -0.786      -0.367\n",
       "Lead Origin_Lead Add Form                                3.0219      0.223     13.539      0.000       2.584       3.459\n",
       "Lead Source_Olark Chat                                   1.0357      0.138      7.516      0.000       0.766       1.306\n",
       "Lead Source_Welingak Website                             2.6891      0.750      3.586      0.000       1.219       4.159\n",
       "Last Activity_Email Bounced                             -1.2130      0.364     -3.330      0.001      -1.927      -0.499\n",
       "Last Activity_Email Opened                               0.5053      0.134      3.769      0.000       0.243       0.768\n",
       "Last Activity_Form Submitted on Website                  0.1561      0.403      0.388      0.698      -0.633       0.945\n",
       "Last Activity_Olark Chat Conversation                   -0.8638      0.245     -3.531      0.000      -1.343      -0.384\n",
       "Last Activity_SMS Sent                                   0.9913      0.190      5.227      0.000       0.620       1.363\n",
       "Specialization_E-COMMERCE                                0.3345      0.350      0.955      0.340      -0.352       1.021\n",
       "Specialization_Finance Management                        0.2927      0.139      2.106      0.035       0.020       0.565\n",
       "What is your current occupation_Other                   -0.2442      0.094     -2.593      0.010      -0.429      -0.060\n",
       "What is your current occupation_Working Professional     1.6017      0.239      6.694      0.000       1.133       2.071\n",
       "Tags_Will revert after reading the email                 4.2731      0.170     25.063      0.000       3.939       4.607\n",
       "Last Notable Activity_Modified                          -0.2210      0.127     -1.734      0.083      -0.471       0.029\n",
       "Last Notable Activity_Olark Chat Conversation            0.1637      0.430      0.381      0.703      -0.678       1.006\n",
       "Last Notable Activity_SMS Sent                           0.6761      0.211      3.203      0.001       0.262       1.090\n",
       "========================================================================================================================\n",
       "\"\"\""
      ]
     },
     "execution_count": 431,
     "metadata": {},
     "output_type": "execute_result"
    }
   ],
   "source": [
    "# Also we drop the variable 'Specialization_International Business' for its high P-Value and we build the model again :\n",
    "col = col.drop('Specialization_International Business', 1)\n",
    "\n",
    "X_train_10 = sm.add_constant(X_train[col])\n",
    "log_m10 = sm.GLM(y_train,X_train_10,family=sm.families.Binomial())\n",
    "log_model_10 = log_m10.fit()\n",
    "log_model_10.summary()"
   ]
  },
  {
   "cell_type": "code",
   "execution_count": 432,
   "id": "36fd131b",
   "metadata": {},
   "outputs": [
    {
     "data": {
      "text/html": [
       "<div>\n",
       "<style scoped>\n",
       "    .dataframe tbody tr th:only-of-type {\n",
       "        vertical-align: middle;\n",
       "    }\n",
       "\n",
       "    .dataframe tbody tr th {\n",
       "        vertical-align: top;\n",
       "    }\n",
       "\n",
       "    .dataframe thead th {\n",
       "        text-align: right;\n",
       "    }\n",
       "</style>\n",
       "<table border=\"1\" class=\"dataframe\">\n",
       "  <thead>\n",
       "    <tr style=\"text-align: right;\">\n",
       "      <th></th>\n",
       "      <th>Features</th>\n",
       "      <th>VIF</th>\n",
       "    </tr>\n",
       "  </thead>\n",
       "  <tbody>\n",
       "    <tr>\n",
       "      <th>9</th>\n",
       "      <td>Last Activity_SMS Sent</td>\n",
       "      <td>6.78</td>\n",
       "    </tr>\n",
       "    <tr>\n",
       "      <th>17</th>\n",
       "      <td>Last Notable Activity_SMS Sent</td>\n",
       "      <td>6.55</td>\n",
       "    </tr>\n",
       "    <tr>\n",
       "      <th>1</th>\n",
       "      <td>Lead Origin_Landing Page Submission</td>\n",
       "      <td>2.86</td>\n",
       "    </tr>\n",
       "    <tr>\n",
       "      <th>15</th>\n",
       "      <td>Last Notable Activity_Modified</td>\n",
       "      <td>2.60</td>\n",
       "    </tr>\n",
       "    <tr>\n",
       "      <th>8</th>\n",
       "      <td>Last Activity_Olark Chat Conversation</td>\n",
       "      <td>2.20</td>\n",
       "    </tr>\n",
       "    <tr>\n",
       "      <th>3</th>\n",
       "      <td>Lead Source_Olark Chat</td>\n",
       "      <td>2.13</td>\n",
       "    </tr>\n",
       "    <tr>\n",
       "      <th>6</th>\n",
       "      <td>Last Activity_Email Opened</td>\n",
       "      <td>2.05</td>\n",
       "    </tr>\n",
       "    <tr>\n",
       "      <th>14</th>\n",
       "      <td>Tags_Will revert after reading the email</td>\n",
       "      <td>1.87</td>\n",
       "    </tr>\n",
       "    <tr>\n",
       "      <th>2</th>\n",
       "      <td>Lead Origin_Lead Add Form</td>\n",
       "      <td>1.72</td>\n",
       "    </tr>\n",
       "    <tr>\n",
       "      <th>12</th>\n",
       "      <td>What is your current occupation_Other</td>\n",
       "      <td>1.64</td>\n",
       "    </tr>\n",
       "    <tr>\n",
       "      <th>16</th>\n",
       "      <td>Last Notable Activity_Olark Chat Conversation</td>\n",
       "      <td>1.36</td>\n",
       "    </tr>\n",
       "    <tr>\n",
       "      <th>13</th>\n",
       "      <td>What is your current occupation_Working Profes...</td>\n",
       "      <td>1.32</td>\n",
       "    </tr>\n",
       "    <tr>\n",
       "      <th>0</th>\n",
       "      <td>Total Time Spent on Website</td>\n",
       "      <td>1.32</td>\n",
       "    </tr>\n",
       "    <tr>\n",
       "      <th>4</th>\n",
       "      <td>Lead Source_Welingak Website</td>\n",
       "      <td>1.26</td>\n",
       "    </tr>\n",
       "    <tr>\n",
       "      <th>5</th>\n",
       "      <td>Last Activity_Email Bounced</td>\n",
       "      <td>1.19</td>\n",
       "    </tr>\n",
       "    <tr>\n",
       "      <th>11</th>\n",
       "      <td>Specialization_Finance Management</td>\n",
       "      <td>1.18</td>\n",
       "    </tr>\n",
       "    <tr>\n",
       "      <th>7</th>\n",
       "      <td>Last Activity_Form Submitted on Website</td>\n",
       "      <td>1.08</td>\n",
       "    </tr>\n",
       "    <tr>\n",
       "      <th>10</th>\n",
       "      <td>Specialization_E-COMMERCE</td>\n",
       "      <td>1.03</td>\n",
       "    </tr>\n",
       "  </tbody>\n",
       "</table>\n",
       "</div>"
      ],
      "text/plain": [
       "                                             Features   VIF\n",
       "9                              Last Activity_SMS Sent  6.78\n",
       "17                     Last Notable Activity_SMS Sent  6.55\n",
       "1                 Lead Origin_Landing Page Submission  2.86\n",
       "15                     Last Notable Activity_Modified  2.60\n",
       "8               Last Activity_Olark Chat Conversation  2.20\n",
       "3                              Lead Source_Olark Chat  2.13\n",
       "6                          Last Activity_Email Opened  2.05\n",
       "14           Tags_Will revert after reading the email  1.87\n",
       "2                           Lead Origin_Lead Add Form  1.72\n",
       "12              What is your current occupation_Other  1.64\n",
       "16      Last Notable Activity_Olark Chat Conversation  1.36\n",
       "13  What is your current occupation_Working Profes...  1.32\n",
       "0                         Total Time Spent on Website  1.32\n",
       "4                        Lead Source_Welingak Website  1.26\n",
       "5                         Last Activity_Email Bounced  1.19\n",
       "11                  Specialization_Finance Management  1.18\n",
       "7             Last Activity_Form Submitted on Website  1.08\n",
       "10                          Specialization_E-COMMERCE  1.03"
      ]
     },
     "execution_count": 432,
     "metadata": {},
     "output_type": "execute_result"
    }
   ],
   "source": [
    "#  Now we see tha the P-value is within the range and we can now check the VIF :\n",
    "# Lets do that by first creating an data frame that contains all the respiective VIF's and names of all the feature variables:\n",
    "vif = pd.DataFrame()\n",
    "vif['Features'] = X_train[col].columns\n",
    "vif['VIF'] = [variance_inflation_factor(X_train[col].values, i) for i in range(X_train[col].shape[1])]\n",
    "vif['VIF'] = round(vif['VIF'], 2)\n",
    "vif = vif.sort_values(by = \"VIF\", ascending = False)\n",
    "vif"
   ]
  },
  {
   "cell_type": "code",
   "execution_count": 433,
   "id": "c0603ed0",
   "metadata": {},
   "outputs": [],
   "source": [
    "# We can infer from the above data is that VIF is under control and does not contain values more that 5 for the VIF :"
   ]
  },
  {
   "cell_type": "code",
   "execution_count": 434,
   "id": "4a0f9ab3",
   "metadata": {},
   "outputs": [
    {
     "data": {
      "text/plain": [
       "array([0.19999822, 0.11146487, 0.23406819, 0.62102633, 0.16696699,\n",
       "       0.99897706, 0.05533193, 0.89297457, 0.13606669, 0.99746349])"
      ]
     },
     "execution_count": 434,
     "metadata": {},
     "output_type": "execute_result"
    }
   ],
   "source": [
    "# Let us now Proceed with the probability prediction :\n",
    "y_train_pred = log_model_10.predict(X_train_10).values.reshape(-1)\n",
    "y_train_pred[:10]"
   ]
  },
  {
   "cell_type": "code",
   "execution_count": 435,
   "id": "73d464fd",
   "metadata": {},
   "outputs": [
    {
     "data": {
      "text/plain": [
       "array([0.19999822, 0.11146487, 0.23406819, ..., 0.19999822, 0.03647856,\n",
       "       0.13569915])"
      ]
     },
     "execution_count": 435,
     "metadata": {},
     "output_type": "execute_result"
    }
   ],
   "source": [
    "y_train_pred"
   ]
  },
  {
   "cell_type": "code",
   "execution_count": 436,
   "id": "5f293617",
   "metadata": {},
   "outputs": [
    {
     "data": {
      "text/plain": [
       "1871    0\n",
       "6795    0\n",
       "3516    0\n",
       "8105    0\n",
       "3934    0\n",
       "       ..\n",
       "350     1\n",
       "79      1\n",
       "8039    1\n",
       "6936    0\n",
       "5640    0\n",
       "Name: Converted, Length: 6468, dtype: int64"
      ]
     },
     "execution_count": 436,
     "metadata": {},
     "output_type": "execute_result"
    }
   ],
   "source": [
    "y_train"
   ]
  },
  {
   "cell_type": "code",
   "execution_count": 437,
   "id": "2ecaebd1",
   "metadata": {},
   "outputs": [
    {
     "data": {
      "text/html": [
       "<div>\n",
       "<style scoped>\n",
       "    .dataframe tbody tr th:only-of-type {\n",
       "        vertical-align: middle;\n",
       "    }\n",
       "\n",
       "    .dataframe tbody tr th {\n",
       "        vertical-align: top;\n",
       "    }\n",
       "\n",
       "    .dataframe thead th {\n",
       "        text-align: right;\n",
       "    }\n",
       "</style>\n",
       "<table border=\"1\" class=\"dataframe\">\n",
       "  <thead>\n",
       "    <tr style=\"text-align: right;\">\n",
       "      <th></th>\n",
       "      <th>Converted_Ind</th>\n",
       "      <th>Converted_Prob</th>\n",
       "      <th>Prospect_Id</th>\n",
       "    </tr>\n",
       "  </thead>\n",
       "  <tbody>\n",
       "    <tr>\n",
       "      <th>0</th>\n",
       "      <td>0</td>\n",
       "      <td>0.199998</td>\n",
       "      <td>1871</td>\n",
       "    </tr>\n",
       "    <tr>\n",
       "      <th>1</th>\n",
       "      <td>0</td>\n",
       "      <td>0.111465</td>\n",
       "      <td>6795</td>\n",
       "    </tr>\n",
       "    <tr>\n",
       "      <th>2</th>\n",
       "      <td>0</td>\n",
       "      <td>0.234068</td>\n",
       "      <td>3516</td>\n",
       "    </tr>\n",
       "    <tr>\n",
       "      <th>3</th>\n",
       "      <td>0</td>\n",
       "      <td>0.621026</td>\n",
       "      <td>8105</td>\n",
       "    </tr>\n",
       "    <tr>\n",
       "      <th>4</th>\n",
       "      <td>0</td>\n",
       "      <td>0.166967</td>\n",
       "      <td>3934</td>\n",
       "    </tr>\n",
       "  </tbody>\n",
       "</table>\n",
       "</div>"
      ],
      "text/plain": [
       "   Converted_Ind  Converted_Prob  Prospect_Id\n",
       "0              0        0.199998         1871\n",
       "1              0        0.111465         6795\n",
       "2              0        0.234068         3516\n",
       "3              0        0.621026         8105\n",
       "4              0        0.166967         3934"
      ]
     },
     "execution_count": 437,
     "metadata": {},
     "output_type": "execute_result"
    }
   ],
   "source": [
    "y_train_pred_final = pd.DataFrame({'Converted_Ind':y_train.values, 'Converted_Prob': y_train_pred})\n",
    "y_train_pred_final['Prospect_Id'] = y_train.index\n",
    "y_train_pred_final.head()"
   ]
  },
  {
   "cell_type": "code",
   "execution_count": 438,
   "id": "79e3415c",
   "metadata": {},
   "outputs": [
    {
     "data": {
      "text/html": [
       "<div>\n",
       "<style scoped>\n",
       "    .dataframe tbody tr th:only-of-type {\n",
       "        vertical-align: middle;\n",
       "    }\n",
       "\n",
       "    .dataframe tbody tr th {\n",
       "        vertical-align: top;\n",
       "    }\n",
       "\n",
       "    .dataframe thead th {\n",
       "        text-align: right;\n",
       "    }\n",
       "</style>\n",
       "<table border=\"1\" class=\"dataframe\">\n",
       "  <thead>\n",
       "    <tr style=\"text-align: right;\">\n",
       "      <th></th>\n",
       "      <th>Converted_Ind</th>\n",
       "      <th>Converted_Prob</th>\n",
       "      <th>Prospect_Id</th>\n",
       "      <th>Predicted</th>\n",
       "    </tr>\n",
       "  </thead>\n",
       "  <tbody>\n",
       "    <tr>\n",
       "      <th>0</th>\n",
       "      <td>0</td>\n",
       "      <td>0.199998</td>\n",
       "      <td>1871</td>\n",
       "      <td>0</td>\n",
       "    </tr>\n",
       "    <tr>\n",
       "      <th>1</th>\n",
       "      <td>0</td>\n",
       "      <td>0.111465</td>\n",
       "      <td>6795</td>\n",
       "      <td>0</td>\n",
       "    </tr>\n",
       "    <tr>\n",
       "      <th>2</th>\n",
       "      <td>0</td>\n",
       "      <td>0.234068</td>\n",
       "      <td>3516</td>\n",
       "      <td>0</td>\n",
       "    </tr>\n",
       "    <tr>\n",
       "      <th>3</th>\n",
       "      <td>0</td>\n",
       "      <td>0.621026</td>\n",
       "      <td>8105</td>\n",
       "      <td>1</td>\n",
       "    </tr>\n",
       "    <tr>\n",
       "      <th>4</th>\n",
       "      <td>0</td>\n",
       "      <td>0.166967</td>\n",
       "      <td>3934</td>\n",
       "      <td>0</td>\n",
       "    </tr>\n",
       "  </tbody>\n",
       "</table>\n",
       "</div>"
      ],
      "text/plain": [
       "   Converted_Ind  Converted_Prob  Prospect_Id  Predicted\n",
       "0              0        0.199998         1871          0\n",
       "1              0        0.111465         6795          0\n",
       "2              0        0.234068         3516          0\n",
       "3              0        0.621026         8105          1\n",
       "4              0        0.166967         3934          0"
      ]
     },
     "execution_count": 438,
     "metadata": {},
     "output_type": "execute_result"
    }
   ],
   "source": [
    "y_train_pred_final['Predicted'] = y_train_pred_final.Converted_Prob.map(lambda x: 1 if x>0.5 else 0)\n",
    "y_train_pred_final.head()"
   ]
  },
  {
   "cell_type": "code",
   "execution_count": 439,
   "id": "9119715a",
   "metadata": {},
   "outputs": [
    {
     "data": {
      "text/plain": [
       "array([[3744,  258],\n",
       "       [ 603, 1863]])"
      ]
     },
     "execution_count": 439,
     "metadata": {},
     "output_type": "execute_result"
    }
   ],
   "source": [
    "# Lets create a confusion Matrix :\n",
    "confusion = confusion_matrix(y_train_pred_final.Converted_Ind, y_train_pred_final.Predicted )\n",
    "confusion"
   ]
  },
  {
   "cell_type": "code",
   "execution_count": 440,
   "id": "73cf7752",
   "metadata": {},
   "outputs": [
    {
     "data": {
      "text/plain": [
       "0.8668831168831169"
      ]
     },
     "execution_count": 440,
     "metadata": {},
     "output_type": "execute_result"
    }
   ],
   "source": [
    "# Now we check the data and compare between actual and predicted :\n",
    "# Let us now check the overall accuracy :\n",
    "accuracy_score(y_train_pred_final.Converted_Ind, y_train_pred_final.Predicted)"
   ]
  },
  {
   "cell_type": "code",
   "execution_count": 441,
   "id": "1f7e4111",
   "metadata": {},
   "outputs": [
    {
     "name": "stdout",
     "output_type": "stream",
     "text": [
      "              precision    recall  f1-score   support\n",
      "\n",
      "           0       0.86      0.94      0.90      4002\n",
      "           1       0.88      0.76      0.81      2466\n",
      "\n",
      "    accuracy                           0.87      6468\n",
      "   macro avg       0.87      0.85      0.85      6468\n",
      "weighted avg       0.87      0.87      0.86      6468\n",
      "\n"
     ]
    }
   ],
   "source": [
    "print(classification_report( y_train_pred_final.Converted_Ind, y_train_pred_final.Predicted ))"
   ]
  },
  {
   "cell_type": "code",
   "execution_count": 442,
   "id": "fb148c3b",
   "metadata": {},
   "outputs": [],
   "source": [
    "# Let's go one step further by checking the metrics beyond  the found accuracy :\n",
    "TP = confusion[1,1] # true positive \n",
    "TN = confusion[0,0] # true negatives\n",
    "FP = confusion[0,1] # false positives\n",
    "FN = confusion[1,0] # false negatives"
   ]
  },
  {
   "cell_type": "code",
   "execution_count": 443,
   "id": "108d90cc",
   "metadata": {},
   "outputs": [
    {
     "data": {
      "text/plain": [
       "0.7554744525547445"
      ]
     },
     "execution_count": 443,
     "metadata": {},
     "output_type": "execute_result"
    }
   ],
   "source": [
    "# Let's see the sensitivity/recall of our logistic regression model -- True Positive Rate\n",
    "TP / float(TP+FN)"
   ]
  },
  {
   "cell_type": "code",
   "execution_count": 444,
   "id": "53ddccaa",
   "metadata": {},
   "outputs": [
    {
     "data": {
      "text/plain": [
       "0.9355322338830585"
      ]
     },
     "execution_count": 444,
     "metadata": {},
     "output_type": "execute_result"
    }
   ],
   "source": [
    "# Let us calculate specificity\n",
    "TN / float(TN+FP)"
   ]
  },
  {
   "cell_type": "code",
   "execution_count": 445,
   "id": "2dbd0cdc",
   "metadata": {},
   "outputs": [
    {
     "name": "stdout",
     "output_type": "stream",
     "text": [
      "0.06446776611694154\n"
     ]
    }
   ],
   "source": [
    "# Calculate false postive rate - predicting converted when customer does have not converted -- 1-Specificity\n",
    "print(FP/ float(TN+FP))"
   ]
  },
  {
   "cell_type": "code",
   "execution_count": 446,
   "id": "4bae14e8",
   "metadata": {},
   "outputs": [
    {
     "name": "stdout",
     "output_type": "stream",
     "text": [
      "0.8783592644978784\n"
     ]
    }
   ],
   "source": [
    "# Positive predictive value - Precision\n",
    "print (TP / float(TP+FP))"
   ]
  },
  {
   "cell_type": "code",
   "execution_count": 447,
   "id": "6916ce66",
   "metadata": {},
   "outputs": [
    {
     "name": "stdout",
     "output_type": "stream",
     "text": [
      "0.8612836438923396\n"
     ]
    }
   ],
   "source": [
    "# Negative predictive value - Precision\n",
    "print (TN / float(TN+ FN))"
   ]
  },
  {
   "cell_type": "code",
   "execution_count": 448,
   "id": "e94f2b9f",
   "metadata": {},
   "outputs": [],
   "source": [
    "# Let's proceeed by plotting the ROC Curve :\n",
    "# So we use this ROC curve to infer the following things :\n",
    "# This graph shows the tradeoff between sensitivity and specificity \n",
    "# The closer the curve follows to the left-hand border and then the top border of the ROC space, the more accurate the test.\n",
    "# The closer the curve comes to the 45-degree diagonal of the ROC space, the less accurate the test."
   ]
  },
  {
   "cell_type": "code",
   "execution_count": 449,
   "id": "57fe1f8c",
   "metadata": {},
   "outputs": [],
   "source": [
    "def draw_roc_1( actual, probs ):\n",
    "    fpr, tpr, thresholds = roc_curve( actual, probs,\n",
    "                                              drop_intermediate = False )\n",
    "    auc_score = roc_auc_score( actual, probs )\n",
    "    plt.figure(figsize=(5, 5))\n",
    "    plt.plot( fpr, tpr, label='ROC curve (area = %0.2f)' % auc_score )\n",
    "    plt.plot([0, 1], [0, 1], 'k--')\n",
    "    plt.xlim([0.0, 1.0])\n",
    "    plt.ylim([0.0, 1.05])\n",
    "    plt.xlabel('False Positive Rate or [1 - True Negative Rate]')\n",
    "    plt.ylabel('True Positive Rate')\n",
    "    plt.title('Receiver operating characteristic example')\n",
    "    plt.legend(loc=\"lower right\")\n",
    "    plt.show()\n",
    "\n",
    "    return None"
   ]
  },
  {
   "cell_type": "code",
   "execution_count": 450,
   "id": "49b7becc",
   "metadata": {},
   "outputs": [],
   "source": [
    "fpr, tpr, thresholds = roc_curve( y_train_pred_final.Converted_Ind, y_train_pred_final.Converted_Prob, drop_intermediate = False )"
   ]
  },
  {
   "cell_type": "code",
   "execution_count": 451,
   "id": "ca6e85b9",
   "metadata": {},
   "outputs": [
    {
     "data": {
      "image/png": "[encoded data removed]",
      "text/plain": [
       "<Figure size 360x360 with 1 Axes>"
      ]
     },
     "metadata": {
      "needs_background": "light"
     },
     "output_type": "display_data"
    }
   ],
   "source": [
    "draw_roc_1(y_train_pred_final.Converted_Ind, y_train_pred_final.Converted_Prob)"
   ]
  },
  {
   "cell_type": "code",
   "execution_count": 452,
   "id": "62436c69",
   "metadata": {},
   "outputs": [
    {
     "data": {
      "text/html": [
       "<div>\n",
       "<style scoped>\n",
       "    .dataframe tbody tr th:only-of-type {\n",
       "        vertical-align: middle;\n",
       "    }\n",
       "\n",
       "    .dataframe tbody tr th {\n",
       "        vertical-align: top;\n",
       "    }\n",
       "\n",
       "    .dataframe thead th {\n",
       "        text-align: right;\n",
       "    }\n",
       "</style>\n",
       "<table border=\"1\" class=\"dataframe\">\n",
       "  <thead>\n",
       "    <tr style=\"text-align: right;\">\n",
       "      <th></th>\n",
       "      <th>Converted_Ind</th>\n",
       "      <th>Converted_Prob</th>\n",
       "      <th>Prospect_Id</th>\n",
       "      <th>Predicted</th>\n",
       "      <th>0.0</th>\n",
       "      <th>0.1</th>\n",
       "      <th>0.2</th>\n",
       "      <th>0.3</th>\n",
       "      <th>0.4</th>\n",
       "      <th>0.5</th>\n",
       "      <th>0.6</th>\n",
       "      <th>0.7</th>\n",
       "      <th>0.8</th>\n",
       "      <th>0.9</th>\n",
       "    </tr>\n",
       "  </thead>\n",
       "  <tbody>\n",
       "    <tr>\n",
       "      <th>0</th>\n",
       "      <td>0</td>\n",
       "      <td>0.199998</td>\n",
       "      <td>1871</td>\n",
       "      <td>0</td>\n",
       "      <td>1</td>\n",
       "      <td>1</td>\n",
       "      <td>0</td>\n",
       "      <td>0</td>\n",
       "      <td>0</td>\n",
       "      <td>0</td>\n",
       "      <td>0</td>\n",
       "      <td>0</td>\n",
       "      <td>0</td>\n",
       "      <td>0</td>\n",
       "    </tr>\n",
       "    <tr>\n",
       "      <th>1</th>\n",
       "      <td>0</td>\n",
       "      <td>0.111465</td>\n",
       "      <td>6795</td>\n",
       "      <td>0</td>\n",
       "      <td>1</td>\n",
       "      <td>1</td>\n",
       "      <td>0</td>\n",
       "      <td>0</td>\n",
       "      <td>0</td>\n",
       "      <td>0</td>\n",
       "      <td>0</td>\n",
       "      <td>0</td>\n",
       "      <td>0</td>\n",
       "      <td>0</td>\n",
       "    </tr>\n",
       "    <tr>\n",
       "      <th>2</th>\n",
       "      <td>0</td>\n",
       "      <td>0.234068</td>\n",
       "      <td>3516</td>\n",
       "      <td>0</td>\n",
       "      <td>1</td>\n",
       "      <td>1</td>\n",
       "      <td>1</td>\n",
       "      <td>0</td>\n",
       "      <td>0</td>\n",
       "      <td>0</td>\n",
       "      <td>0</td>\n",
       "      <td>0</td>\n",
       "      <td>0</td>\n",
       "      <td>0</td>\n",
       "    </tr>\n",
       "    <tr>\n",
       "      <th>3</th>\n",
       "      <td>0</td>\n",
       "      <td>0.621026</td>\n",
       "      <td>8105</td>\n",
       "      <td>1</td>\n",
       "      <td>1</td>\n",
       "      <td>1</td>\n",
       "      <td>1</td>\n",
       "      <td>1</td>\n",
       "      <td>1</td>\n",
       "      <td>1</td>\n",
       "      <td>1</td>\n",
       "      <td>0</td>\n",
       "      <td>0</td>\n",
       "      <td>0</td>\n",
       "    </tr>\n",
       "    <tr>\n",
       "      <th>4</th>\n",
       "      <td>0</td>\n",
       "      <td>0.166967</td>\n",
       "      <td>3934</td>\n",
       "      <td>0</td>\n",
       "      <td>1</td>\n",
       "      <td>1</td>\n",
       "      <td>0</td>\n",
       "      <td>0</td>\n",
       "      <td>0</td>\n",
       "      <td>0</td>\n",
       "      <td>0</td>\n",
       "      <td>0</td>\n",
       "      <td>0</td>\n",
       "      <td>0</td>\n",
       "    </tr>\n",
       "  </tbody>\n",
       "</table>\n",
       "</div>"
      ],
      "text/plain": [
       "   Converted_Ind  Converted_Prob  Prospect_Id  Predicted  0.0  0.1  0.2  0.3  \\\n",
       "0              0        0.199998         1871          0    1    1    0    0   \n",
       "1              0        0.111465         6795          0    1    1    0    0   \n",
       "2              0        0.234068         3516          0    1    1    1    0   \n",
       "3              0        0.621026         8105          1    1    1    1    1   \n",
       "4              0        0.166967         3934          0    1    1    0    0   \n",
       "\n",
       "   0.4  0.5  0.6  0.7  0.8  0.9  \n",
       "0    0    0    0    0    0    0  \n",
       "1    0    0    0    0    0    0  \n",
       "2    0    0    0    0    0    0  \n",
       "3    1    1    1    0    0    0  \n",
       "4    0    0    0    0    0    0  "
      ]
     },
     "execution_count": 452,
     "metadata": {},
     "output_type": "execute_result"
    }
   ],
   "source": [
    "# So we plotted the above graph let's now find the Optimal Cutoff Point :\n",
    "numbers = [float(x)/10 for x in range(10)]\n",
    "for i in numbers:\n",
    "    y_train_pred_final[i]= y_train_pred_final.Converted_Prob.map(lambda x: 1 if x > i else 0)\n",
    "y_train_pred_final.head()"
   ]
  },
  {
   "cell_type": "code",
   "execution_count": 453,
   "id": "564ea4a7",
   "metadata": {},
   "outputs": [
    {
     "name": "stdout",
     "output_type": "stream",
     "text": [
      "     prob  accuracy     sensi     speci\n",
      "0.0   0.0  0.381262  1.000000  0.000000\n",
      "0.1   0.1  0.724181  0.965126  0.575712\n",
      "0.2   0.2  0.835807  0.894161  0.799850\n",
      "0.3   0.3  0.864873  0.850770  0.873563\n",
      "0.4   0.4  0.868275  0.805353  0.907046\n",
      "0.5   0.5  0.866883  0.755474  0.935532\n",
      "0.6   0.6  0.864873  0.714517  0.957521\n",
      "0.7   0.7  0.858844  0.674371  0.972514\n",
      "0.8   0.8  0.846011  0.628143  0.980260\n",
      "0.9   0.9  0.834106  0.577048  0.992504\n"
     ]
    }
   ],
   "source": [
    "# Let's now calculate accuracy sensitivity and specificity for various probability cutoff :\n",
    "cutoff_df = pd.DataFrame( columns = ['prob','accuracy','sensi','speci'])\n",
    "\n",
    "num = [0.0,0.1,0.2,0.3,0.4,0.5,0.6,0.7,0.8,0.9]\n",
    "for i in num:\n",
    "    cm1 = confusion_matrix(y_train_pred_final.Converted_Ind, y_train_pred_final[i] )\n",
    "    total1=sum(sum(cm1))\n",
    "    accuracy = (cm1[0,0]+cm1[1,1])/total1\n",
    "    speci = cm1[0,0]/(cm1[0,0]+cm1[0,1])\n",
    "    sensi = cm1[1,1]/(cm1[1,0]+cm1[1,1])\n",
    "    cutoff_df.loc[i] =[ i ,accuracy,sensi,speci]\n",
    "print(cutoff_df)"
   ]
  },
  {
   "cell_type": "code",
   "execution_count": 454,
   "id": "4988e060",
   "metadata": {},
   "outputs": [
    {
     "data": {
      "image/png": "[encoded data removed]",
      "text/plain": [
       "<Figure size 432x288 with 1 Axes>"
      ]
     },
     "metadata": {},
     "output_type": "display_data"
    }
   ],
   "source": [
    "# Let's plot accuracy sensitivity and specificity for various probabilities.\n",
    "sns.set_style(\"whitegrid\")\n",
    "sns.set_context(\"paper\")\n",
    "cutoff_df.plot.line(x='prob', y=['accuracy','sensi','speci'])\n",
    "plt.xticks(np.arange(0,1,step=0.05),size=8)\n",
    "plt.yticks(size=12)\n",
    "plt.show()"
   ]
  },
  {
   "cell_type": "code",
   "execution_count": 455,
   "id": "11108fec",
   "metadata": {},
   "outputs": [
    {
     "data": {
      "text/html": [
       "<div>\n",
       "<style scoped>\n",
       "    .dataframe tbody tr th:only-of-type {\n",
       "        vertical-align: middle;\n",
       "    }\n",
       "\n",
       "    .dataframe tbody tr th {\n",
       "        vertical-align: top;\n",
       "    }\n",
       "\n",
       "    .dataframe thead th {\n",
       "        text-align: right;\n",
       "    }\n",
       "</style>\n",
       "<table border=\"1\" class=\"dataframe\">\n",
       "  <thead>\n",
       "    <tr style=\"text-align: right;\">\n",
       "      <th></th>\n",
       "      <th>Converted_Ind</th>\n",
       "      <th>Converted_Prob</th>\n",
       "      <th>Prospect_Id</th>\n",
       "      <th>Predicted</th>\n",
       "      <th>0.0</th>\n",
       "      <th>0.1</th>\n",
       "      <th>0.2</th>\n",
       "      <th>0.3</th>\n",
       "      <th>0.4</th>\n",
       "      <th>0.5</th>\n",
       "      <th>0.6</th>\n",
       "      <th>0.7</th>\n",
       "      <th>0.8</th>\n",
       "      <th>0.9</th>\n",
       "      <th>final_predicted</th>\n",
       "    </tr>\n",
       "  </thead>\n",
       "  <tbody>\n",
       "    <tr>\n",
       "      <th>0</th>\n",
       "      <td>0</td>\n",
       "      <td>0.199998</td>\n",
       "      <td>1871</td>\n",
       "      <td>0</td>\n",
       "      <td>1</td>\n",
       "      <td>1</td>\n",
       "      <td>0</td>\n",
       "      <td>0</td>\n",
       "      <td>0</td>\n",
       "      <td>0</td>\n",
       "      <td>0</td>\n",
       "      <td>0</td>\n",
       "      <td>0</td>\n",
       "      <td>0</td>\n",
       "      <td>0</td>\n",
       "    </tr>\n",
       "    <tr>\n",
       "      <th>1</th>\n",
       "      <td>0</td>\n",
       "      <td>0.111465</td>\n",
       "      <td>6795</td>\n",
       "      <td>0</td>\n",
       "      <td>1</td>\n",
       "      <td>1</td>\n",
       "      <td>0</td>\n",
       "      <td>0</td>\n",
       "      <td>0</td>\n",
       "      <td>0</td>\n",
       "      <td>0</td>\n",
       "      <td>0</td>\n",
       "      <td>0</td>\n",
       "      <td>0</td>\n",
       "      <td>0</td>\n",
       "    </tr>\n",
       "    <tr>\n",
       "      <th>2</th>\n",
       "      <td>0</td>\n",
       "      <td>0.234068</td>\n",
       "      <td>3516</td>\n",
       "      <td>0</td>\n",
       "      <td>1</td>\n",
       "      <td>1</td>\n",
       "      <td>1</td>\n",
       "      <td>0</td>\n",
       "      <td>0</td>\n",
       "      <td>0</td>\n",
       "      <td>0</td>\n",
       "      <td>0</td>\n",
       "      <td>0</td>\n",
       "      <td>0</td>\n",
       "      <td>0</td>\n",
       "    </tr>\n",
       "    <tr>\n",
       "      <th>3</th>\n",
       "      <td>0</td>\n",
       "      <td>0.621026</td>\n",
       "      <td>8105</td>\n",
       "      <td>1</td>\n",
       "      <td>1</td>\n",
       "      <td>1</td>\n",
       "      <td>1</td>\n",
       "      <td>1</td>\n",
       "      <td>1</td>\n",
       "      <td>1</td>\n",
       "      <td>1</td>\n",
       "      <td>0</td>\n",
       "      <td>0</td>\n",
       "      <td>0</td>\n",
       "      <td>1</td>\n",
       "    </tr>\n",
       "    <tr>\n",
       "      <th>4</th>\n",
       "      <td>0</td>\n",
       "      <td>0.166967</td>\n",
       "      <td>3934</td>\n",
       "      <td>0</td>\n",
       "      <td>1</td>\n",
       "      <td>1</td>\n",
       "      <td>0</td>\n",
       "      <td>0</td>\n",
       "      <td>0</td>\n",
       "      <td>0</td>\n",
       "      <td>0</td>\n",
       "      <td>0</td>\n",
       "      <td>0</td>\n",
       "      <td>0</td>\n",
       "      <td>0</td>\n",
       "    </tr>\n",
       "  </tbody>\n",
       "</table>\n",
       "</div>"
      ],
      "text/plain": [
       "   Converted_Ind  Converted_Prob  Prospect_Id  Predicted  0.0  0.1  0.2  0.3  \\\n",
       "0              0        0.199998         1871          0    1    1    0    0   \n",
       "1              0        0.111465         6795          0    1    1    0    0   \n",
       "2              0        0.234068         3516          0    1    1    1    0   \n",
       "3              0        0.621026         8105          1    1    1    1    1   \n",
       "4              0        0.166967         3934          0    1    1    0    0   \n",
       "\n",
       "   0.4  0.5  0.6  0.7  0.8  0.9  final_predicted  \n",
       "0    0    0    0    0    0    0                0  \n",
       "1    0    0    0    0    0    0                0  \n",
       "2    0    0    0    0    0    0                0  \n",
       "3    1    1    1    0    0    0                1  \n",
       "4    0    0    0    0    0    0                0  "
      ]
     },
     "execution_count": 455,
     "metadata": {},
     "output_type": "execute_result"
    }
   ],
   "source": [
    "# What we can infer from the above plot is that 0.28 is the optimum point to take it as the probability for cutoff :\n",
    "y_train_pred_final['final_predicted'] = y_train_pred_final.Converted_Prob.map( lambda x: 1 if x > 0.28 else 0)\n",
    "y_train_pred_final.head()"
   ]
  },
  {
   "cell_type": "code",
   "execution_count": 456,
   "id": "fda63969",
   "metadata": {},
   "outputs": [
    {
     "data": {
      "text/plain": [
       "0.8620902906617193"
      ]
     },
     "execution_count": 456,
     "metadata": {},
     "output_type": "execute_result"
    }
   ],
   "source": [
    "# Now we need to find the overall accuracy :\n",
    "accuracy_score(y_train_pred_final.Converted_Ind, y_train_pred_final.final_predicted)"
   ]
  },
  {
   "cell_type": "code",
   "execution_count": 457,
   "id": "35468d22",
   "metadata": {},
   "outputs": [
    {
     "data": {
      "text/plain": [
       "array([[3455,  547],\n",
       "       [ 345, 2121]])"
      ]
     },
     "execution_count": 457,
     "metadata": {},
     "output_type": "execute_result"
    }
   ],
   "source": [
    "confusion2 = confusion_matrix(y_train_pred_final.Converted_Ind, y_train_pred_final.final_predicted )\n",
    "confusion2"
   ]
  },
  {
   "cell_type": "code",
   "execution_count": 458,
   "id": "7cd2a1c0",
   "metadata": {},
   "outputs": [],
   "source": [
    "TP = confusion2[1,1] # true positive \n",
    "TN = confusion2[0,0] # true negatives\n",
    "FP = confusion2[0,1] # false positives\n",
    "FN = confusion2[1,0] # false negatives"
   ]
  },
  {
   "cell_type": "code",
   "execution_count": 459,
   "id": "eff1735f",
   "metadata": {},
   "outputs": [
    {
     "data": {
      "text/plain": [
       "0.8600973236009732"
      ]
     },
     "execution_count": 459,
     "metadata": {},
     "output_type": "execute_result"
    }
   ],
   "source": [
    "# Lets see what the sensitivity of our developed model is ?\n",
    "TP / float(TP+FN)"
   ]
  },
  {
   "cell_type": "code",
   "execution_count": 460,
   "id": "a8d6a450",
   "metadata": {},
   "outputs": [
    {
     "data": {
      "text/plain": [
       "0.8633183408295853"
      ]
     },
     "execution_count": 460,
     "metadata": {},
     "output_type": "execute_result"
    }
   ],
   "source": [
    "# Lets check the specificity :\n",
    "TN / float(TN+FP)"
   ]
  },
  {
   "cell_type": "code",
   "execution_count": 461,
   "id": "634eefeb",
   "metadata": {},
   "outputs": [
    {
     "name": "stdout",
     "output_type": "stream",
     "text": [
      "0.1366816591704148\n"
     ]
    }
   ],
   "source": [
    "# Let's proceed by calculating the false positive rate which predicts whether the customer churns or not :\n",
    "print(FP/ float(TN+FP))"
   ]
  },
  {
   "cell_type": "code",
   "execution_count": 462,
   "id": "7147eaa7",
   "metadata": {},
   "outputs": [
    {
     "name": "stdout",
     "output_type": "stream",
     "text": [
      "0.7949775112443778\n"
     ]
    }
   ],
   "source": [
    "# Positive predictive value \n",
    "print (TP / float(TP+FP))"
   ]
  },
  {
   "cell_type": "code",
   "execution_count": 463,
   "id": "411c6770",
   "metadata": {},
   "outputs": [
    {
     "name": "stdout",
     "output_type": "stream",
     "text": [
      "0.9092105263157895\n"
     ]
    }
   ],
   "source": [
    "# Negative predictive value\n",
    "print (TN / float(TN+ FN))"
   ]
  },
  {
   "cell_type": "code",
   "execution_count": 464,
   "id": "4f21889c",
   "metadata": {},
   "outputs": [
    {
     "data": {
      "text/plain": [
       "0.7949775112443778"
      ]
     },
     "execution_count": 464,
     "metadata": {},
     "output_type": "execute_result"
    }
   ],
   "source": [
    "# Let's Now understand the Precision and Recall :\n",
    "#  For Precision : TP/TP+FP\n",
    "confusion2[1,1]/(confusion2[0,1]+confusion2[1,1])"
   ]
  },
  {
   "cell_type": "code",
   "execution_count": 465,
   "id": "e1a6e4bf",
   "metadata": {},
   "outputs": [
    {
     "data": {
      "text/plain": [
       "0.8600973236009732"
      ]
     },
     "execution_count": 465,
     "metadata": {},
     "output_type": "execute_result"
    }
   ],
   "source": [
    "# For Recall :\n",
    "confusion2[1,1]/(confusion2[1,0]+confusion2[1,1])"
   ]
  },
  {
   "cell_type": "code",
   "execution_count": 466,
   "id": "d3bb2dfb",
   "metadata": {},
   "outputs": [
    {
     "data": {
      "text/plain": [
       "0.7949775112443778"
      ]
     },
     "execution_count": 466,
     "metadata": {},
     "output_type": "execute_result"
    }
   ],
   "source": [
    "# Let's Now use the SKLearn To understand the Precision and Recall :\n",
    "precision_score(y_train_pred_final.Converted_Ind, y_train_pred_final.final_predicted)"
   ]
  },
  {
   "cell_type": "code",
   "execution_count": 467,
   "id": "8871ab26",
   "metadata": {},
   "outputs": [
    {
     "data": {
      "text/plain": [
       "0.8600973236009732"
      ]
     },
     "execution_count": 467,
     "metadata": {},
     "output_type": "execute_result"
    }
   ],
   "source": [
    "recall_score(y_train_pred_final.Converted_Ind, y_train_pred_final.final_predicted)"
   ]
  },
  {
   "cell_type": "code",
   "execution_count": 468,
   "id": "c725cc6c",
   "metadata": {},
   "outputs": [],
   "source": [
    "# Precision Recall Trade-Off :\n",
    "# The reason why we need to do this is to help us identify whether the predicted CONVERTED is actual CONVERTED.\n",
    "# Let's now use this to identify the Most Optimized Threshold ."
   ]
  },
  {
   "cell_type": "code",
   "execution_count": 469,
   "id": "af2abb81",
   "metadata": {},
   "outputs": [
    {
     "data": {
      "text/plain": [
       "(0       0\n",
       " 1       0\n",
       " 2       0\n",
       " 3       0\n",
       " 4       0\n",
       "        ..\n",
       " 6463    1\n",
       " 6464    1\n",
       " 6465    1\n",
       " 6466    0\n",
       " 6467    0\n",
       " Name: Converted_Ind, Length: 6468, dtype: int64,\n",
       " 0       0\n",
       " 1       0\n",
       " 2       0\n",
       " 3       1\n",
       " 4       0\n",
       "        ..\n",
       " 6463    1\n",
       " 6464    1\n",
       " 6465    0\n",
       " 6466    0\n",
       " 6467    0\n",
       " Name: Predicted, Length: 6468, dtype: int64)"
      ]
     },
     "execution_count": 469,
     "metadata": {},
     "output_type": "execute_result"
    }
   ],
   "source": [
    "y_train_pred_final.Converted_Ind, y_train_pred_final.Predicted"
   ]
  },
  {
   "cell_type": "code",
   "execution_count": 470,
   "id": "62745450",
   "metadata": {},
   "outputs": [],
   "source": [
    "p, r, thresholds = precision_recall_curve(y_train_pred_final.Converted_Ind, y_train_pred_final.Converted_Prob)"
   ]
  },
  {
   "cell_type": "code",
   "execution_count": 471,
   "id": "10dff3e3",
   "metadata": {},
   "outputs": [
    {
     "data": {
      "image/png": "[encoded data removed]",
      "text/plain": [
       "<Figure size 576x360 with 1 Axes>"
      ]
     },
     "metadata": {},
     "output_type": "display_data"
    }
   ],
   "source": [
    "# Let's now plot this curve :\n",
    "plt.figure(figsize=(8,5))\n",
    "sns.set_style(\"whitegrid\")\n",
    "sns.set_context(\"paper\")\n",
    "plt.plot(thresholds, p[:-1], \"b-\")\n",
    "plt.plot(thresholds, r[:-1], \"r-\")\n",
    "plt.xticks(np.arange(0,1,step=0.05),size=8)\n",
    "plt.yticks(size=12)\n",
    "plt.show()"
   ]
  },
  {
   "cell_type": "code",
   "execution_count": 472,
   "id": "5b93fd4c",
   "metadata": {},
   "outputs": [],
   "source": [
    "# Inference :\n",
    "# What we can infer from the above plot is that the Precision and Recall have a trade off of 0.33 , hence we use this number as the threshold on the given data ."
   ]
  },
  {
   "cell_type": "code",
   "execution_count": 473,
   "id": "5751cbf3",
   "metadata": {},
   "outputs": [
    {
     "data": {
      "text/html": [
       "<div>\n",
       "<style scoped>\n",
       "    .dataframe tbody tr th:only-of-type {\n",
       "        vertical-align: middle;\n",
       "    }\n",
       "\n",
       "    .dataframe tbody tr th {\n",
       "        vertical-align: top;\n",
       "    }\n",
       "\n",
       "    .dataframe thead th {\n",
       "        text-align: right;\n",
       "    }\n",
       "</style>\n",
       "<table border=\"1\" class=\"dataframe\">\n",
       "  <thead>\n",
       "    <tr style=\"text-align: right;\">\n",
       "      <th></th>\n",
       "      <th>Converted_Ind</th>\n",
       "      <th>Converted_Prob</th>\n",
       "      <th>Prospect_Id</th>\n",
       "      <th>Predicted</th>\n",
       "      <th>0.0</th>\n",
       "      <th>0.1</th>\n",
       "      <th>0.2</th>\n",
       "      <th>0.3</th>\n",
       "      <th>0.4</th>\n",
       "      <th>0.5</th>\n",
       "      <th>0.6</th>\n",
       "      <th>0.7</th>\n",
       "      <th>0.8</th>\n",
       "      <th>0.9</th>\n",
       "      <th>final_predicted</th>\n",
       "    </tr>\n",
       "  </thead>\n",
       "  <tbody>\n",
       "    <tr>\n",
       "      <th>0</th>\n",
       "      <td>0</td>\n",
       "      <td>0.199998</td>\n",
       "      <td>1871</td>\n",
       "      <td>0</td>\n",
       "      <td>1</td>\n",
       "      <td>1</td>\n",
       "      <td>0</td>\n",
       "      <td>0</td>\n",
       "      <td>0</td>\n",
       "      <td>0</td>\n",
       "      <td>0</td>\n",
       "      <td>0</td>\n",
       "      <td>0</td>\n",
       "      <td>0</td>\n",
       "      <td>0</td>\n",
       "    </tr>\n",
       "    <tr>\n",
       "      <th>1</th>\n",
       "      <td>0</td>\n",
       "      <td>0.111465</td>\n",
       "      <td>6795</td>\n",
       "      <td>0</td>\n",
       "      <td>1</td>\n",
       "      <td>1</td>\n",
       "      <td>0</td>\n",
       "      <td>0</td>\n",
       "      <td>0</td>\n",
       "      <td>0</td>\n",
       "      <td>0</td>\n",
       "      <td>0</td>\n",
       "      <td>0</td>\n",
       "      <td>0</td>\n",
       "      <td>0</td>\n",
       "    </tr>\n",
       "    <tr>\n",
       "      <th>2</th>\n",
       "      <td>0</td>\n",
       "      <td>0.234068</td>\n",
       "      <td>3516</td>\n",
       "      <td>0</td>\n",
       "      <td>1</td>\n",
       "      <td>1</td>\n",
       "      <td>1</td>\n",
       "      <td>0</td>\n",
       "      <td>0</td>\n",
       "      <td>0</td>\n",
       "      <td>0</td>\n",
       "      <td>0</td>\n",
       "      <td>0</td>\n",
       "      <td>0</td>\n",
       "      <td>0</td>\n",
       "    </tr>\n",
       "    <tr>\n",
       "      <th>3</th>\n",
       "      <td>0</td>\n",
       "      <td>0.621026</td>\n",
       "      <td>8105</td>\n",
       "      <td>1</td>\n",
       "      <td>1</td>\n",
       "      <td>1</td>\n",
       "      <td>1</td>\n",
       "      <td>1</td>\n",
       "      <td>1</td>\n",
       "      <td>1</td>\n",
       "      <td>1</td>\n",
       "      <td>0</td>\n",
       "      <td>0</td>\n",
       "      <td>0</td>\n",
       "      <td>1</td>\n",
       "    </tr>\n",
       "    <tr>\n",
       "      <th>4</th>\n",
       "      <td>0</td>\n",
       "      <td>0.166967</td>\n",
       "      <td>3934</td>\n",
       "      <td>0</td>\n",
       "      <td>1</td>\n",
       "      <td>1</td>\n",
       "      <td>0</td>\n",
       "      <td>0</td>\n",
       "      <td>0</td>\n",
       "      <td>0</td>\n",
       "      <td>0</td>\n",
       "      <td>0</td>\n",
       "      <td>0</td>\n",
       "      <td>0</td>\n",
       "      <td>0</td>\n",
       "    </tr>\n",
       "  </tbody>\n",
       "</table>\n",
       "</div>"
      ],
      "text/plain": [
       "   Converted_Ind  Converted_Prob  Prospect_Id  Predicted  0.0  0.1  0.2  0.3  \\\n",
       "0              0        0.199998         1871          0    1    1    0    0   \n",
       "1              0        0.111465         6795          0    1    1    0    0   \n",
       "2              0        0.234068         3516          0    1    1    1    0   \n",
       "3              0        0.621026         8105          1    1    1    1    1   \n",
       "4              0        0.166967         3934          0    1    1    0    0   \n",
       "\n",
       "   0.4  0.5  0.6  0.7  0.8  0.9  final_predicted  \n",
       "0    0    0    0    0    0    0                0  \n",
       "1    0    0    0    0    0    0                0  \n",
       "2    0    0    0    0    0    0                0  \n",
       "3    1    1    1    0    0    0                1  \n",
       "4    0    0    0    0    0    0                0  "
      ]
     },
     "execution_count": 473,
     "metadata": {},
     "output_type": "execute_result"
    }
   ],
   "source": [
    "y_train_pred_final['final_predicted'] = y_train_pred_final.Converted_Prob.map( lambda x: 1 if x > 0.33 else 0)\n",
    "\n",
    "y_train_pred_final.head()"
   ]
  },
  {
   "cell_type": "code",
   "execution_count": 474,
   "id": "2efe3a23",
   "metadata": {},
   "outputs": [
    {
     "data": {
      "text/plain": [
       "0.8678107606679035"
      ]
     },
     "execution_count": 474,
     "metadata": {},
     "output_type": "execute_result"
    }
   ],
   "source": [
    "# Checking the Accuracy of the above data :\n",
    "accuracy_score(y_train_pred_final.Converted_Ind, y_train_pred_final.final_predicted)"
   ]
  },
  {
   "cell_type": "code",
   "execution_count": 475,
   "id": "bc1b1ce7",
   "metadata": {},
   "outputs": [
    {
     "data": {
      "text/plain": [
       "array([[3543,  459],\n",
       "       [ 396, 2070]])"
      ]
     },
     "execution_count": 475,
     "metadata": {},
     "output_type": "execute_result"
    }
   ],
   "source": [
    "confusion3 = confusion_matrix(y_train_pred_final.Converted_Ind, y_train_pred_final.final_predicted )\n",
    "confusion3"
   ]
  },
  {
   "cell_type": "code",
   "execution_count": 476,
   "id": "3d0ffc0e",
   "metadata": {},
   "outputs": [],
   "source": [
    "TP = confusion3[1,1] # true positive \n",
    "TN = confusion3[0,0] # true negatives\n",
    "FP = confusion3[0,1] # false positives\n",
    "FN = confusion3[1,0] # false negatives"
   ]
  },
  {
   "cell_type": "code",
   "execution_count": 477,
   "id": "b64d2676",
   "metadata": {},
   "outputs": [
    {
     "data": {
      "text/plain": [
       "0.8394160583941606"
      ]
     },
     "execution_count": 477,
     "metadata": {},
     "output_type": "execute_result"
    }
   ],
   "source": [
    "# Let us now check the sensitivity of our model :\n",
    "TP / float(TP+FN)"
   ]
  },
  {
   "cell_type": "code",
   "execution_count": 478,
   "id": "951fadb0",
   "metadata": {},
   "outputs": [
    {
     "data": {
      "text/plain": [
       "0.8853073463268366"
      ]
     },
     "execution_count": 478,
     "metadata": {},
     "output_type": "execute_result"
    }
   ],
   "source": [
    "# Also let us calculate the specificity of our model :\n",
    "TN / float(TN+FP)"
   ]
  },
  {
   "cell_type": "code",
   "execution_count": 479,
   "id": "0d4afe3d",
   "metadata": {},
   "outputs": [
    {
     "name": "stdout",
     "output_type": "stream",
     "text": [
      "0.11469265367316342\n"
     ]
    }
   ],
   "source": [
    "# Let us now calculate the false positive rate :\n",
    "print(FP/ float(TN+FP))"
   ]
  },
  {
   "cell_type": "code",
   "execution_count": 480,
   "id": "ad71ab30",
   "metadata": {},
   "outputs": [
    {
     "name": "stdout",
     "output_type": "stream",
     "text": [
      "0.8185053380782918\n"
     ]
    }
   ],
   "source": [
    "# Let us now calculate positive predictive values :\n",
    "print (TP / float(TP+FP))"
   ]
  },
  {
   "cell_type": "code",
   "execution_count": 481,
   "id": "6f1b3d49",
   "metadata": {},
   "outputs": [
    {
     "name": "stdout",
     "output_type": "stream",
     "text": [
      "0.8994668697638994\n"
     ]
    }
   ],
   "source": [
    "# Let us now calculate the Negative Predictive values :\n",
    "print (TN / float(TN+ FN))"
   ]
  },
  {
   "cell_type": "code",
   "execution_count": 482,
   "id": "3fa93422",
   "metadata": {},
   "outputs": [
    {
     "data": {
      "text/plain": [
       "0.8185053380782918"
      ]
     },
     "execution_count": 482,
     "metadata": {},
     "output_type": "execute_result"
    }
   ],
   "source": [
    "# Precision And Recall On our Model :\n",
    "precision_score(y_train_pred_final.Converted_Ind, y_train_pred_final.final_predicted)"
   ]
  },
  {
   "cell_type": "code",
   "execution_count": 483,
   "id": "af75d023",
   "metadata": {},
   "outputs": [
    {
     "data": {
      "text/plain": [
       "0.8394160583941606"
      ]
     },
     "execution_count": 483,
     "metadata": {},
     "output_type": "execute_result"
    }
   ],
   "source": [
    "recall_score(y_train_pred_final.Converted_Ind, y_train_pred_final.final_predicted)"
   ]
  },
  {
   "cell_type": "code",
   "execution_count": 484,
   "id": "79f5036b",
   "metadata": {},
   "outputs": [],
   "source": [
    "# Let us now make a prediction on the supported Test Data :\n",
    "# Scaling of the Model :\n",
    "to_scale=['TotalVisits','Total Time Spent on Website']\n",
    "X_test[to_scale]=scaler.transform(X_test[to_scale])"
   ]
  },
  {
   "cell_type": "code",
   "execution_count": 485,
   "id": "0e938f52",
   "metadata": {},
   "outputs": [
    {
     "name": "stdout",
     "output_type": "stream",
     "text": [
      "<class 'pandas.core.frame.DataFrame'>\n",
      "Int64Index: 2772 entries, 4269 to 2960\n",
      "Data columns (total 19 columns):\n",
      " #   Column                                                Non-Null Count  Dtype  \n",
      "---  ------                                                --------------  -----  \n",
      " 0   const                                                 2772 non-null   float64\n",
      " 1   Total Time Spent on Website                           2772 non-null   float64\n",
      " 2   Lead Origin_Landing Page Submission                   2772 non-null   uint8  \n",
      " 3   Lead Origin_Lead Add Form                             2772 non-null   uint8  \n",
      " 4   Lead Source_Olark Chat                                2772 non-null   uint8  \n",
      " 5   Lead Source_Welingak Website                          2772 non-null   uint8  \n",
      " 6   Last Activity_Email Bounced                           2772 non-null   uint8  \n",
      " 7   Last Activity_Email Opened                            2772 non-null   uint8  \n",
      " 8   Last Activity_Form Submitted on Website               2772 non-null   uint8  \n",
      " 9   Last Activity_Olark Chat Conversation                 2772 non-null   uint8  \n",
      " 10  Last Activity_SMS Sent                                2772 non-null   uint8  \n",
      " 11  Specialization_E-COMMERCE                             2772 non-null   uint8  \n",
      " 12  Specialization_Finance Management                     2772 non-null   uint8  \n",
      " 13  What is your current occupation_Other                 2772 non-null   uint8  \n",
      " 14  What is your current occupation_Working Professional  2772 non-null   uint8  \n",
      " 15  Tags_Will revert after reading the email              2772 non-null   uint8  \n",
      " 16  Last Notable Activity_Modified                        2772 non-null   uint8  \n",
      " 17  Last Notable Activity_Olark Chat Conversation         2772 non-null   uint8  \n",
      " 18  Last Notable Activity_SMS Sent                        2772 non-null   uint8  \n",
      "dtypes: float64(2), uint8(17)\n",
      "memory usage: 111.0 KB\n"
     ]
    }
   ],
   "source": [
    "X_test = X_test[col]\n",
    "X_test_sm = sm.add_constant(X_test)\n",
    "X_test_sm.info()"
   ]
  },
  {
   "cell_type": "code",
   "execution_count": 486,
   "id": "02b25da9",
   "metadata": {},
   "outputs": [
    {
     "data": {
      "text/plain": [
       "4269    0.601410\n",
       "2376    0.997613\n",
       "7766    0.955184\n",
       "9199    0.048504\n",
       "4359    0.992408\n",
       "9186    0.973303\n",
       "1631    0.970299\n",
       "8963    0.913635\n",
       "8007    0.046328\n",
       "5324    0.939334\n",
       "dtype: float64"
      ]
     },
     "execution_count": 486,
     "metadata": {},
     "output_type": "execute_result"
    }
   ],
   "source": [
    "# Predcitions Made for the Final Test Model :\n",
    "y_test_pred = log_model_10.predict(X_test_sm)\n",
    "y_test_pred[:10]"
   ]
  },
  {
   "cell_type": "code",
   "execution_count": 487,
   "id": "f9a810ab",
   "metadata": {},
   "outputs": [
    {
     "data": {
      "text/html": [
       "<div>\n",
       "<style scoped>\n",
       "    .dataframe tbody tr th:only-of-type {\n",
       "        vertical-align: middle;\n",
       "    }\n",
       "\n",
       "    .dataframe tbody tr th {\n",
       "        vertical-align: top;\n",
       "    }\n",
       "\n",
       "    .dataframe thead th {\n",
       "        text-align: right;\n",
       "    }\n",
       "</style>\n",
       "<table border=\"1\" class=\"dataframe\">\n",
       "  <thead>\n",
       "    <tr style=\"text-align: right;\">\n",
       "      <th></th>\n",
       "      <th>0</th>\n",
       "    </tr>\n",
       "  </thead>\n",
       "  <tbody>\n",
       "    <tr>\n",
       "      <th>4269</th>\n",
       "      <td>0.601410</td>\n",
       "    </tr>\n",
       "    <tr>\n",
       "      <th>2376</th>\n",
       "      <td>0.997613</td>\n",
       "    </tr>\n",
       "    <tr>\n",
       "      <th>7766</th>\n",
       "      <td>0.955184</td>\n",
       "    </tr>\n",
       "    <tr>\n",
       "      <th>9199</th>\n",
       "      <td>0.048504</td>\n",
       "    </tr>\n",
       "    <tr>\n",
       "      <th>4359</th>\n",
       "      <td>0.992408</td>\n",
       "    </tr>\n",
       "  </tbody>\n",
       "</table>\n",
       "</div>"
      ],
      "text/plain": [
       "             0\n",
       "4269  0.601410\n",
       "2376  0.997613\n",
       "7766  0.955184\n",
       "9199  0.048504\n",
       "4359  0.992408"
      ]
     },
     "execution_count": 487,
     "metadata": {},
     "output_type": "execute_result"
    }
   ],
   "source": [
    "# Now we have an array of y_pred , let us a convert this to a DataFrame :\n",
    "y_pred_1 = pd.DataFrame(y_test_pred)\n",
    "y_pred_1.head()"
   ]
  },
  {
   "cell_type": "code",
   "execution_count": 488,
   "id": "ad557b42",
   "metadata": {},
   "outputs": [
    {
     "data": {
      "text/html": [
       "<div>\n",
       "<style scoped>\n",
       "    .dataframe tbody tr th:only-of-type {\n",
       "        vertical-align: middle;\n",
       "    }\n",
       "\n",
       "    .dataframe tbody tr th {\n",
       "        vertical-align: top;\n",
       "    }\n",
       "\n",
       "    .dataframe thead th {\n",
       "        text-align: right;\n",
       "    }\n",
       "</style>\n",
       "<table border=\"1\" class=\"dataframe\">\n",
       "  <thead>\n",
       "    <tr style=\"text-align: right;\">\n",
       "      <th></th>\n",
       "      <th>Converted</th>\n",
       "    </tr>\n",
       "  </thead>\n",
       "  <tbody>\n",
       "    <tr>\n",
       "      <th>4269</th>\n",
       "      <td>1</td>\n",
       "    </tr>\n",
       "    <tr>\n",
       "      <th>2376</th>\n",
       "      <td>1</td>\n",
       "    </tr>\n",
       "    <tr>\n",
       "      <th>7766</th>\n",
       "      <td>1</td>\n",
       "    </tr>\n",
       "    <tr>\n",
       "      <th>9199</th>\n",
       "      <td>0</td>\n",
       "    </tr>\n",
       "    <tr>\n",
       "      <th>4359</th>\n",
       "      <td>1</td>\n",
       "    </tr>\n",
       "  </tbody>\n",
       "</table>\n",
       "</div>"
      ],
      "text/plain": [
       "      Converted\n",
       "4269          1\n",
       "2376          1\n",
       "7766          1\n",
       "9199          0\n",
       "4359          1"
      ]
     },
     "execution_count": 488,
     "metadata": {},
     "output_type": "execute_result"
    }
   ],
   "source": [
    "# Also let us conver the y_test to a DataFrame :\n",
    "y_test_df = pd.DataFrame(y_test)\n",
    "y_test_df.head()"
   ]
  },
  {
   "cell_type": "code",
   "execution_count": 489,
   "id": "6d476fa3",
   "metadata": {},
   "outputs": [],
   "source": [
    "# Merging the CustIndex to Index :\n",
    "y_test_df['Prospect_IND'] = y_test_df.index"
   ]
  },
  {
   "cell_type": "code",
   "execution_count": 490,
   "id": "f24b4ca4",
   "metadata": {},
   "outputs": [],
   "source": [
    "# Now let us remove the index from both the Data Frames and let us append them side by side :\n",
    "y_pred_1.reset_index(drop=True, inplace=True)\n",
    "y_test_df.reset_index(drop=True, inplace=True)"
   ]
  },
  {
   "cell_type": "code",
   "execution_count": 491,
   "id": "d5738164",
   "metadata": {},
   "outputs": [],
   "source": [
    "# Appending y_test_df and y_pred_1\n",
    "y_pred_final = pd.concat([y_test_df, y_pred_1],axis=1)"
   ]
  },
  {
   "cell_type": "code",
   "execution_count": 492,
   "id": "dcb9445b",
   "metadata": {},
   "outputs": [
    {
     "data": {
      "text/html": [
       "<div>\n",
       "<style scoped>\n",
       "    .dataframe tbody tr th:only-of-type {\n",
       "        vertical-align: middle;\n",
       "    }\n",
       "\n",
       "    .dataframe tbody tr th {\n",
       "        vertical-align: top;\n",
       "    }\n",
       "\n",
       "    .dataframe thead th {\n",
       "        text-align: right;\n",
       "    }\n",
       "</style>\n",
       "<table border=\"1\" class=\"dataframe\">\n",
       "  <thead>\n",
       "    <tr style=\"text-align: right;\">\n",
       "      <th></th>\n",
       "      <th>Converted</th>\n",
       "      <th>Prospect_IND</th>\n",
       "      <th>0</th>\n",
       "    </tr>\n",
       "  </thead>\n",
       "  <tbody>\n",
       "    <tr>\n",
       "      <th>0</th>\n",
       "      <td>1</td>\n",
       "      <td>4269</td>\n",
       "      <td>0.601410</td>\n",
       "    </tr>\n",
       "    <tr>\n",
       "      <th>1</th>\n",
       "      <td>1</td>\n",
       "      <td>2376</td>\n",
       "      <td>0.997613</td>\n",
       "    </tr>\n",
       "    <tr>\n",
       "      <th>2</th>\n",
       "      <td>1</td>\n",
       "      <td>7766</td>\n",
       "      <td>0.955184</td>\n",
       "    </tr>\n",
       "    <tr>\n",
       "      <th>3</th>\n",
       "      <td>0</td>\n",
       "      <td>9199</td>\n",
       "      <td>0.048504</td>\n",
       "    </tr>\n",
       "    <tr>\n",
       "      <th>4</th>\n",
       "      <td>1</td>\n",
       "      <td>4359</td>\n",
       "      <td>0.992408</td>\n",
       "    </tr>\n",
       "  </tbody>\n",
       "</table>\n",
       "</div>"
      ],
      "text/plain": [
       "   Converted  Prospect_IND         0\n",
       "0          1          4269  0.601410\n",
       "1          1          2376  0.997613\n",
       "2          1          7766  0.955184\n",
       "3          0          9199  0.048504\n",
       "4          1          4359  0.992408"
      ]
     },
     "execution_count": 492,
     "metadata": {},
     "output_type": "execute_result"
    }
   ],
   "source": [
    "y_pred_final.head()"
   ]
  },
  {
   "cell_type": "code",
   "execution_count": 493,
   "id": "8402958f",
   "metadata": {},
   "outputs": [],
   "source": [
    "# Let us now Rename the Column :\n",
    "y_pred_final= y_pred_final.rename(columns={ 0 : 'Converted_Prob'})\n",
    "y_pred_final= y_pred_final.rename(columns={ 'Converted' : 'Converted_IND'})"
   ]
  },
  {
   "cell_type": "code",
   "execution_count": 494,
   "id": "cabf087b",
   "metadata": {},
   "outputs": [],
   "source": [
    "# Let us now rearrange the data in the column :\n",
    "y_pred_final = y_pred_final.reindex(['Prospect_IND','Converted_IND','Converted_Prob'], axis=1)"
   ]
  },
  {
   "cell_type": "code",
   "execution_count": 495,
   "id": "8df32a3c",
   "metadata": {},
   "outputs": [
    {
     "data": {
      "text/html": [
       "<div>\n",
       "<style scoped>\n",
       "    .dataframe tbody tr th:only-of-type {\n",
       "        vertical-align: middle;\n",
       "    }\n",
       "\n",
       "    .dataframe tbody tr th {\n",
       "        vertical-align: top;\n",
       "    }\n",
       "\n",
       "    .dataframe thead th {\n",
       "        text-align: right;\n",
       "    }\n",
       "</style>\n",
       "<table border=\"1\" class=\"dataframe\">\n",
       "  <thead>\n",
       "    <tr style=\"text-align: right;\">\n",
       "      <th></th>\n",
       "      <th>Prospect_IND</th>\n",
       "      <th>Converted_IND</th>\n",
       "      <th>Converted_Prob</th>\n",
       "    </tr>\n",
       "  </thead>\n",
       "  <tbody>\n",
       "    <tr>\n",
       "      <th>0</th>\n",
       "      <td>4269</td>\n",
       "      <td>1</td>\n",
       "      <td>0.601410</td>\n",
       "    </tr>\n",
       "    <tr>\n",
       "      <th>1</th>\n",
       "      <td>2376</td>\n",
       "      <td>1</td>\n",
       "      <td>0.997613</td>\n",
       "    </tr>\n",
       "    <tr>\n",
       "      <th>2</th>\n",
       "      <td>7766</td>\n",
       "      <td>1</td>\n",
       "      <td>0.955184</td>\n",
       "    </tr>\n",
       "    <tr>\n",
       "      <th>3</th>\n",
       "      <td>9199</td>\n",
       "      <td>0</td>\n",
       "      <td>0.048504</td>\n",
       "    </tr>\n",
       "    <tr>\n",
       "      <th>4</th>\n",
       "      <td>4359</td>\n",
       "      <td>1</td>\n",
       "      <td>0.992408</td>\n",
       "    </tr>\n",
       "  </tbody>\n",
       "</table>\n",
       "</div>"
      ],
      "text/plain": [
       "   Prospect_IND  Converted_IND  Converted_Prob\n",
       "0          4269              1        0.601410\n",
       "1          2376              1        0.997613\n",
       "2          7766              1        0.955184\n",
       "3          9199              0        0.048504\n",
       "4          4359              1        0.992408"
      ]
     },
     "execution_count": 495,
     "metadata": {},
     "output_type": "execute_result"
    }
   ],
   "source": [
    "y_pred_final.head()"
   ]
  },
  {
   "cell_type": "code",
   "execution_count": 496,
   "id": "6a231337",
   "metadata": {},
   "outputs": [
    {
     "data": {
      "text/html": [
       "<div>\n",
       "<style scoped>\n",
       "    .dataframe tbody tr th:only-of-type {\n",
       "        vertical-align: middle;\n",
       "    }\n",
       "\n",
       "    .dataframe tbody tr th {\n",
       "        vertical-align: top;\n",
       "    }\n",
       "\n",
       "    .dataframe thead th {\n",
       "        text-align: right;\n",
       "    }\n",
       "</style>\n",
       "<table border=\"1\" class=\"dataframe\">\n",
       "  <thead>\n",
       "    <tr style=\"text-align: right;\">\n",
       "      <th></th>\n",
       "      <th>Prospect_IND</th>\n",
       "      <th>Converted_IND</th>\n",
       "      <th>Converted_Prob</th>\n",
       "      <th>final_predicted</th>\n",
       "    </tr>\n",
       "  </thead>\n",
       "  <tbody>\n",
       "    <tr>\n",
       "      <th>0</th>\n",
       "      <td>4269</td>\n",
       "      <td>1</td>\n",
       "      <td>0.601410</td>\n",
       "      <td>1</td>\n",
       "    </tr>\n",
       "    <tr>\n",
       "      <th>1</th>\n",
       "      <td>2376</td>\n",
       "      <td>1</td>\n",
       "      <td>0.997613</td>\n",
       "      <td>1</td>\n",
       "    </tr>\n",
       "    <tr>\n",
       "      <th>2</th>\n",
       "      <td>7766</td>\n",
       "      <td>1</td>\n",
       "      <td>0.955184</td>\n",
       "      <td>1</td>\n",
       "    </tr>\n",
       "    <tr>\n",
       "      <th>3</th>\n",
       "      <td>9199</td>\n",
       "      <td>0</td>\n",
       "      <td>0.048504</td>\n",
       "      <td>0</td>\n",
       "    </tr>\n",
       "    <tr>\n",
       "      <th>4</th>\n",
       "      <td>4359</td>\n",
       "      <td>1</td>\n",
       "      <td>0.992408</td>\n",
       "      <td>1</td>\n",
       "    </tr>\n",
       "  </tbody>\n",
       "</table>\n",
       "</div>"
      ],
      "text/plain": [
       "   Prospect_IND  Converted_IND  Converted_Prob  final_predicted\n",
       "0          4269              1        0.601410                1\n",
       "1          2376              1        0.997613                1\n",
       "2          7766              1        0.955184                1\n",
       "3          9199              0        0.048504                0\n",
       "4          4359              1        0.992408                1"
      ]
     },
     "execution_count": 496,
     "metadata": {},
     "output_type": "execute_result"
    }
   ],
   "source": [
    "y_pred_final['final_predicted'] = y_pred_final.Converted_Prob.map(lambda x: 1 if x > 0.33 else 0)\n",
    "y_pred_final.head()"
   ]
  },
  {
   "cell_type": "code",
   "execution_count": 497,
   "id": "dda11002",
   "metadata": {},
   "outputs": [
    {
     "data": {
      "text/plain": [
       "0.8658008658008658"
      ]
     },
     "execution_count": 497,
     "metadata": {},
     "output_type": "execute_result"
    }
   ],
   "source": [
    "# Chceking the accuracy of the above data :\n",
    "accuracy_score(y_pred_final.Converted_IND, y_pred_final.final_predicted)"
   ]
  },
  {
   "cell_type": "code",
   "execution_count": 498,
   "id": "69a89d28",
   "metadata": {},
   "outputs": [
    {
     "data": {
      "text/plain": [
       "array([[1487,  190],\n",
       "       [ 182,  913]])"
      ]
     },
     "execution_count": 498,
     "metadata": {},
     "output_type": "execute_result"
    }
   ],
   "source": [
    "confusion_final = confusion_matrix(y_pred_final.Converted_IND, y_pred_final.final_predicted )\n",
    "confusion_final"
   ]
  },
  {
   "cell_type": "code",
   "execution_count": 499,
   "id": "7257ff72",
   "metadata": {},
   "outputs": [],
   "source": [
    "TP = confusion_final[1,1] # true positive \n",
    "TN = confusion_final[0,0] # true negatives\n",
    "FP = confusion_final[0,1] # false positives\n",
    "FN = confusion_final[1,0] # false negatives"
   ]
  },
  {
   "cell_type": "code",
   "execution_count": 500,
   "id": "4219a6c5",
   "metadata": {},
   "outputs": [
    {
     "data": {
      "text/plain": [
       "0.8337899543378996"
      ]
     },
     "execution_count": 500,
     "metadata": {},
     "output_type": "execute_result"
    }
   ],
   "source": [
    "# Let us calculate the sensitivity of our Model :\n",
    "TP / float(TP+FN)"
   ]
  },
  {
   "cell_type": "code",
   "execution_count": 501,
   "id": "b58a5812",
   "metadata": {},
   "outputs": [
    {
     "data": {
      "text/plain": [
       "0.8867024448419797"
      ]
     },
     "execution_count": 501,
     "metadata": {},
     "output_type": "execute_result"
    }
   ],
   "source": [
    "# Let us calcuate the Specificity of our Model :\n",
    "TN / float(TN+FP)"
   ]
  },
  {
   "cell_type": "code",
   "execution_count": 502,
   "id": "f5129f47",
   "metadata": {},
   "outputs": [
    {
     "data": {
      "text/plain": [
       "0.827742520398912"
      ]
     },
     "execution_count": 502,
     "metadata": {},
     "output_type": "execute_result"
    }
   ],
   "source": [
    "# Let's Now Find the Precision and Recall :\n",
    "precision_score(y_pred_final.Converted_IND, y_pred_final.final_predicted)"
   ]
  },
  {
   "cell_type": "code",
   "execution_count": 503,
   "id": "07ff5da5",
   "metadata": {},
   "outputs": [
    {
     "data": {
      "text/plain": [
       "0.8337899543378996"
      ]
     },
     "execution_count": 503,
     "metadata": {},
     "output_type": "execute_result"
    }
   ],
   "source": [
    "recall_score(y_pred_final.Converted_IND, y_pred_final.final_predicted)"
   ]
  },
  {
   "cell_type": "code",
   "execution_count": 504,
   "id": "3505b621",
   "metadata": {},
   "outputs": [],
   "source": [
    "# Now We neee to calculate the ROC curve of the Model :\n",
    "fpr, tpr, thresholds = roc_curve(y_pred_final.Converted_IND, y_pred_final.Converted_Prob, drop_intermediate=False)"
   ]
  },
  {
   "cell_type": "code",
   "execution_count": 505,
   "id": "c55b3043",
   "metadata": {},
   "outputs": [
    {
     "data": {
      "image/png": "[encoded data removed]",
      "text/plain": [
       "<Figure size 360x360 with 1 Axes>"
      ]
     },
     "metadata": {},
     "output_type": "display_data"
    }
   ],
   "source": [
    "# Getting the functions to draw the ROC curve :\n",
    "draw_roc_1( y_pred_final.Converted_IND, y_pred_final.Converted_Prob)"
   ]
  },
  {
   "cell_type": "code",
   "execution_count": 506,
   "id": "2f54109d",
   "metadata": {},
   "outputs": [
    {
     "data": {
      "text/html": [
       "<div>\n",
       "<style scoped>\n",
       "    .dataframe tbody tr th:only-of-type {\n",
       "        vertical-align: middle;\n",
       "    }\n",
       "\n",
       "    .dataframe tbody tr th {\n",
       "        vertical-align: top;\n",
       "    }\n",
       "\n",
       "    .dataframe thead th {\n",
       "        text-align: right;\n",
       "    }\n",
       "</style>\n",
       "<table border=\"1\" class=\"dataframe\">\n",
       "  <thead>\n",
       "    <tr style=\"text-align: right;\">\n",
       "      <th></th>\n",
       "      <th>Prospect_IND</th>\n",
       "      <th>Converted_IND</th>\n",
       "      <th>Converted_Prob</th>\n",
       "      <th>final_predicted</th>\n",
       "      <th>lead_score</th>\n",
       "    </tr>\n",
       "  </thead>\n",
       "  <tbody>\n",
       "    <tr>\n",
       "      <th>2771</th>\n",
       "      <td>2960</td>\n",
       "      <td>1</td>\n",
       "      <td>0.997613</td>\n",
       "      <td>1</td>\n",
       "      <td>99</td>\n",
       "    </tr>\n",
       "    <tr>\n",
       "      <th>2189</th>\n",
       "      <td>3180</td>\n",
       "      <td>1</td>\n",
       "      <td>0.999021</td>\n",
       "      <td>1</td>\n",
       "      <td>99</td>\n",
       "    </tr>\n",
       "    <tr>\n",
       "      <th>2246</th>\n",
       "      <td>4804</td>\n",
       "      <td>1</td>\n",
       "      <td>0.992408</td>\n",
       "      <td>1</td>\n",
       "      <td>99</td>\n",
       "    </tr>\n",
       "    <tr>\n",
       "      <th>2249</th>\n",
       "      <td>8075</td>\n",
       "      <td>1</td>\n",
       "      <td>0.998819</td>\n",
       "      <td>1</td>\n",
       "      <td>99</td>\n",
       "    </tr>\n",
       "    <tr>\n",
       "      <th>2255</th>\n",
       "      <td>3932</td>\n",
       "      <td>1</td>\n",
       "      <td>0.997613</td>\n",
       "      <td>1</td>\n",
       "      <td>99</td>\n",
       "    </tr>\n",
       "    <tr>\n",
       "      <th>...</th>\n",
       "      <td>...</td>\n",
       "      <td>...</td>\n",
       "      <td>...</td>\n",
       "      <td>...</td>\n",
       "      <td>...</td>\n",
       "    </tr>\n",
       "    <tr>\n",
       "      <th>1508</th>\n",
       "      <td>5380</td>\n",
       "      <td>0</td>\n",
       "      <td>0.007647</td>\n",
       "      <td>0</td>\n",
       "      <td>0</td>\n",
       "    </tr>\n",
       "    <tr>\n",
       "      <th>2146</th>\n",
       "      <td>5472</td>\n",
       "      <td>0</td>\n",
       "      <td>0.007365</td>\n",
       "      <td>0</td>\n",
       "      <td>0</td>\n",
       "    </tr>\n",
       "    <tr>\n",
       "      <th>507</th>\n",
       "      <td>1844</td>\n",
       "      <td>0</td>\n",
       "      <td>0.008428</td>\n",
       "      <td>0</td>\n",
       "      <td>0</td>\n",
       "    </tr>\n",
       "    <tr>\n",
       "      <th>1620</th>\n",
       "      <td>5897</td>\n",
       "      <td>0</td>\n",
       "      <td>0.007054</td>\n",
       "      <td>0</td>\n",
       "      <td>0</td>\n",
       "    </tr>\n",
       "    <tr>\n",
       "      <th>1385</th>\n",
       "      <td>6703</td>\n",
       "      <td>0</td>\n",
       "      <td>0.008418</td>\n",
       "      <td>0</td>\n",
       "      <td>0</td>\n",
       "    </tr>\n",
       "  </tbody>\n",
       "</table>\n",
       "<p>2772 rows × 5 columns</p>\n",
       "</div>"
      ],
      "text/plain": [
       "      Prospect_IND  Converted_IND  Converted_Prob  final_predicted  lead_score\n",
       "2771          2960              1        0.997613                1          99\n",
       "2189          3180              1        0.999021                1          99\n",
       "2246          4804              1        0.992408                1          99\n",
       "2249          8075              1        0.998819                1          99\n",
       "2255          3932              1        0.997613                1          99\n",
       "...            ...            ...             ...              ...         ...\n",
       "1508          5380              0        0.007647                0           0\n",
       "2146          5472              0        0.007365                0           0\n",
       "507           1844              0        0.008428                0           0\n",
       "1620          5897              0        0.007054                0           0\n",
       "1385          6703              0        0.008418                0           0\n",
       "\n",
       "[2772 rows x 5 columns]"
      ]
     },
     "execution_count": 506,
     "metadata": {},
     "output_type": "execute_result"
    }
   ],
   "source": [
    "# Now let us conclude for the Lead Scoring :\n",
    "y_pred_final['lead_score']=(y_pred_final['Converted_Prob']*100).astype(\"int64\")\n",
    "y_pred_final.sort_values(by='lead_score',ascending=False)"
   ]
  },
  {
   "cell_type": "code",
   "execution_count": 507,
   "id": "87048f85",
   "metadata": {},
   "outputs": [],
   "source": [
    "# Now let us do some advance testing for pinpointing the results , this can be one using the decision trees :\n",
    "X_train, X_test, y_train, y_test = train_test_split(X, y, train_size=0.7, test_size=0.3, random_state=100)"
   ]
  },
  {
   "cell_type": "code",
   "execution_count": 508,
   "id": "3f0702fe",
   "metadata": {},
   "outputs": [
    {
     "data": {
      "text/plain": [
       "((6468, 55), (2772, 55))"
      ]
     },
     "execution_count": 508,
     "metadata": {},
     "output_type": "execute_result"
    }
   ],
   "source": [
    "X_train.shape, X_test.shape"
   ]
  },
  {
   "cell_type": "code",
   "execution_count": 509,
   "id": "e3be5f28",
   "metadata": {},
   "outputs": [],
   "source": [
    "from sklearn.tree import DecisionTreeClassifier"
   ]
  },
  {
   "cell_type": "code",
   "execution_count": 510,
   "id": "836cabc0",
   "metadata": {},
   "outputs": [],
   "source": [
    "dt_base_1 = DecisionTreeClassifier(random_state=42, max_depth=4)"
   ]
  },
  {
   "cell_type": "code",
   "execution_count": 511,
   "id": "540f77ee",
   "metadata": {},
   "outputs": [
    {
     "data": {
      "text/plain": [
       "DecisionTreeClassifier(max_depth=4, random_state=42)"
      ]
     },
     "execution_count": 511,
     "metadata": {},
     "output_type": "execute_result"
    }
   ],
   "source": [
    "dt_base_1.fit(X_train, y_train)"
   ]
  },
  {
   "cell_type": "code",
   "execution_count": 512,
   "id": "ecc36bba",
   "metadata": {},
   "outputs": [],
   "source": [
    "y_train_pred = dt_base_1.predict(X_train)\n",
    "y_test_pred = dt_base_1.predict(X_test)"
   ]
  },
  {
   "cell_type": "code",
   "execution_count": 513,
   "id": "dc815701",
   "metadata": {},
   "outputs": [],
   "source": [
    "from sklearn.metrics import classification_report"
   ]
  },
  {
   "cell_type": "code",
   "execution_count": 514,
   "id": "119d38be",
   "metadata": {},
   "outputs": [
    {
     "name": "stdout",
     "output_type": "stream",
     "text": [
      "              precision    recall  f1-score   support\n",
      "\n",
      "           0       0.91      0.88      0.90      1677\n",
      "           1       0.83      0.86      0.84      1095\n",
      "\n",
      "    accuracy                           0.88      2772\n",
      "   macro avg       0.87      0.87      0.87      2772\n",
      "weighted avg       0.88      0.88      0.88      2772\n",
      "\n"
     ]
    }
   ],
   "source": [
    "print(classification_report(y_test, y_test_pred))"
   ]
  },
  {
   "cell_type": "code",
   "execution_count": 515,
   "id": "ea8328d0",
   "metadata": {},
   "outputs": [],
   "source": [
    "# Now let us plot the ROC curve for the above data :\n",
    "from sklearn.metrics import plot_roc_curve"
   ]
  },
  {
   "cell_type": "code",
   "execution_count": 329,
   "id": "936c108e",
   "metadata": {},
   "outputs": [
    {
     "data": {
      "image/png": "[encoded data removed]",
      "text/plain": [
       "<Figure size 432x288 with 1 Axes>"
      ]
     },
     "metadata": {},
     "output_type": "display_data"
    }
   ],
   "source": [
    "plot_roc_curve(dt_base_1, X_train, y_train, drop_intermediate=False)\n",
    "plt.show()"
   ]
  },
  {
   "cell_type": "code",
   "execution_count": 516,
   "id": "43100dd4",
   "metadata": {},
   "outputs": [],
   "source": [
    "# Inference for the problem statement :\n",
    "# There are a lot of leads generated in the initial stage (top) but only a few of them come out as paying customers from the bottom. In the middle stage, you need to nurture the potential leads well (i.e. educating the leads about the product, constantly communicating etc.) in order to get a higher lead conversion. First, sort out the best prospects from the leads you have generated. 'TotalVisits' , 'Total Time Spent on Website' , 'Page Views Per Visit' which contribute most towards the probability of a lead getting converted. Then, You must keep a list of leads handy so that you can inform them about new courses, services, job offers and future higher studies. Monitor each lead carefully so that you can tailor the information you send to them. Carefully provide job offerings, information or courses that suits best according to the interest of the leads. A proper plan to chart the needs of each lead will go a long way to capture the leads as prospects. Focus on converted leads. Hold question-answer sessions with leads to extract the right information you need about them. Make further inquiries and appointments with the leads to determine their intention and mentality to join online courses."
   ]
  },
  {
   "cell_type": "code",
   "execution_count": null,
   "id": "04962c3b",
   "metadata": {},
   "outputs": [],
   "source": []
  }
 ],
 "metadata": {
  "kernelspec": {
   "display_name": "Python 3 (ipykernel)",
   "language": "python",
   "name": "python3"
  },
  "language_info": {
   "codemirror_mode": {
    "name": "ipython",
    "version": 3
   },
   "file_extension": ".py",
   "mimetype": "text/x-python",
   "name": "python",
   "nbconvert_exporter": "python",
   "pygments_lexer": "ipython3",
   "version": "3.8.8"
  }
 },
 "nbformat": 4,
 "nbformat_minor": 5
}
